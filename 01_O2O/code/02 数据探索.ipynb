{
 "cells": [
  {
   "cell_type": "code",
   "execution_count": 1,
   "metadata": {},
   "outputs": [
    {
     "data": {
      "text/html": [
       "<style>\n",
       ".dataframe td,.dataframe thead th { \n",
       "    note:'pandas表格属性';\n",
       "    white-space: auto;\n",
       "    text-align:left;\n",
       "    border:1px solid;\n",
       "    font-size:12px\n",
       "}\n",
       ".input_prompt{\n",
       "    note:'隐藏cell左边的提示如 In[12]以便于截图';\n",
       "#     display:none;\n",
       "}\n",
       "div.output_text {\n",
       "    note:'输出内容的高度';\n",
       "    max-height: 500px;\n",
       "}\n",
       "div.output_area img{\n",
       "    note:'输出图片的宽度';\n",
       "    max-width:100%\n",
       "}\n",
       "div.output_scroll{\n",
       "    note:'禁用输出的阴影';\n",
       "    box-shadow: none;\n",
       "}\n",
       "</style>\n",
       "<h5>!!以上是作者为了排版而修改的排版效果，请注意是否需要使用!!</h5>\n"
      ],
      "text/plain": [
       "<IPython.core.display.HTML object>"
      ]
     },
     "metadata": {},
     "output_type": "display_data"
    }
   ],
   "source": [
    "%%html\n",
    "<style>\n",
    ".dataframe td,.dataframe thead th { \n",
    "    note:'pandas表格属性';\n",
    "    white-space: auto;\n",
    "    text-align:left;\n",
    "    border:1px solid;\n",
    "    font-size:12px\n",
    "}\n",
    ".input_prompt{\n",
    "    note:'隐藏cell左边的提示如 In[12]以便于截图';\n",
    "#     display:none;\n",
    "}\n",
    "div.output_text {\n",
    "    note:'输出内容的高度';\n",
    "    max-height: 500px;\n",
    "}\n",
    "div.output_area img{\n",
    "    note:'输出图片的宽度';\n",
    "    max-width:100%\n",
    "}\n",
    "div.output_scroll{\n",
    "    note:'禁用输出的阴影';\n",
    "    box-shadow: none;\n",
    "}\n",
    "</style>\n",
    "<h5>!!以上是作者为了排版而修改的排版效果，请注意是否需要使用!!</h5>"
   ]
  },
  {
   "cell_type": "code",
   "execution_count": 2,
   "metadata": {},
   "outputs": [],
   "source": [
    "# 修改pandas默认的现实设置\n",
    "import pandas as pd\n",
    "pd.set_option('display.max_columns',10)  \n",
    "pd.set_option('display.max_rows',20)  "
   ]
  },
  {
   "cell_type": "markdown",
   "metadata": {
    "toc": true
   },
   "source": [
    "<h1>02 数据探索<span class=\"tocSkip\"></span></h1>\n",
    "<div class=\"toc\"><ul class=\"toc-item\"><li><span><a href=\"#工具包导入&amp;数据读取\" data-toc-modified-id=\"工具包导入&amp;数据读取-1\"><span class=\"toc-item-num\">1&nbsp;&nbsp;</span>工具包导入&amp;数据读取</a></span><ul class=\"toc-item\"><li><span><a href=\"#工具包导入\" data-toc-modified-id=\"工具包导入-1.1\"><span class=\"toc-item-num\">1.1&nbsp;&nbsp;</span>工具包导入</a></span></li><li><span><a href=\"#读取数据\" data-toc-modified-id=\"读取数据-1.2\"><span class=\"toc-item-num\">1.2&nbsp;&nbsp;</span>读取数据</a></span></li></ul></li><li><span><a href=\"#数据初步分析\" data-toc-modified-id=\"数据初步分析-2\"><span class=\"toc-item-num\">2&nbsp;&nbsp;</span>数据初步分析</a></span><ul class=\"toc-item\"><li><span><a href=\"#数据边界\" data-toc-modified-id=\"数据边界-2.1\"><span class=\"toc-item-num\">2.1&nbsp;&nbsp;</span>数据边界</a></span></li><li><span><a href=\"#训练集与测试集的相关性\" data-toc-modified-id=\"训练集与测试集的相关性-2.2\"><span class=\"toc-item-num\">2.2&nbsp;&nbsp;</span>训练集与测试集的相关性</a></span></li><li><span><a href=\"#数据的分布\" data-toc-modified-id=\"数据的分布-2.3\"><span class=\"toc-item-num\">2.3&nbsp;&nbsp;</span>数据的分布</a></span></li></ul></li><li><span><a href=\"#数据处理及分析\" data-toc-modified-id=\"数据处理及分析-3\"><span class=\"toc-item-num\">3&nbsp;&nbsp;</span>数据处理及分析</a></span><ul class=\"toc-item\"><li><span><a href=\"#将特征数值化\" data-toc-modified-id=\"将特征数值化-3.1\"><span class=\"toc-item-num\">3.1&nbsp;&nbsp;</span>将特征数值化</a></span></li><li><span><a href=\"#数据分析\" data-toc-modified-id=\"数据分析-3.2\"><span class=\"toc-item-num\">3.2&nbsp;&nbsp;</span>数据分析</a></span></li><li><span><a href=\"#箱线图查看分布\" data-toc-modified-id=\"箱线图查看分布-3.3\"><span class=\"toc-item-num\">3.3&nbsp;&nbsp;</span>箱线图查看分布</a></span></li><li><span><a href=\"#直方图和QQ图\" data-toc-modified-id=\"直方图和QQ图-3.4\"><span class=\"toc-item-num\">3.4&nbsp;&nbsp;</span>直方图和QQ图</a></span></li><li><span><a href=\"#对比分布\" data-toc-modified-id=\"对比分布-3.5\"><span class=\"toc-item-num\">3.5&nbsp;&nbsp;</span>对比分布</a></span></li><li><span><a href=\"#可视化线性关系\" data-toc-modified-id=\"可视化线性关系-3.6\"><span class=\"toc-item-num\">3.6&nbsp;&nbsp;</span>可视化线性关系</a></span></li></ul></li></ul></div>"
   ]
  },
  {
   "cell_type": "code",
   "execution_count": null,
   "metadata": {},
   "outputs": [],
   "source": []
  },
  {
   "cell_type": "markdown",
   "metadata": {},
   "source": [
    "# 工具包导入&数据读取"
   ]
  },
  {
   "cell_type": "markdown",
   "metadata": {},
   "source": [
    "##  工具包导入"
   ]
  },
  {
   "cell_type": "code",
   "execution_count": 3,
   "metadata": {},
   "outputs": [],
   "source": [
    "import pandas as pd\n",
    "import numpy as np\n",
    "import seaborn as sns\n",
    "import matplotlib.pyplot as plt\n",
    "from datetime import date\n",
    "import datetime as dt\n",
    "from scipy import stats\n",
    "import warnings\n",
    "warnings.filterwarnings(\"ignore\")\n",
    "\n",
    "%matplotlib inline"
   ]
  },
  {
   "cell_type": "markdown",
   "metadata": {},
   "source": [
    "## 读取数据"
   ]
  },
  {
   "cell_type": "code",
   "execution_count": 4,
   "metadata": {},
   "outputs": [],
   "source": [
    "off_train = pd.read_csv('../data/ccf_offline_stage1_train.csv',\n",
    "                        keep_default_na=True)\n",
    "off_train.columns = [\n",
    "    'user_id', 'merchant_id', 'coupon_id', 'discount_rate', 'distance',\n",
    "    'date_received', 'date'\n",
    "]\n",
    "off_test = pd.read_csv('../data/ccf_offline_stage1_test_revised.csv',\n",
    "                       keep_default_na=True)\n",
    "off_test.columns = [\n",
    "    'user_id', 'merchant_id', 'coupon_id', 'discount_rate', 'distance',\n",
    "    'date_received'\n",
    "]\n",
    "on_train = pd.read_csv('../data/ccf_online_stage1_train.csv',\n",
    "                       keep_default_na=True)\n",
    "on_train.columns = [\n",
    "    'user_id', 'merchant_id', 'action', 'coupon_id', 'discount_rate',\n",
    "    'date_received', 'date'\n",
    "]\n",
    "off_train[['user_id', 'merchant_id',\n",
    "           'coupon_id']] = off_train[['user_id', 'merchant_id',\n",
    "                                      'coupon_id']].astype(str)\n",
    "off_test[['user_id', 'merchant_id',\n",
    "          'coupon_id']] = off_test[['user_id', 'merchant_id',\n",
    "                                    'coupon_id']].astype(str)\n",
    "on_train[['user_id', 'merchant_id',\n",
    "          'coupon_id']] = on_train[['user_id', 'merchant_id',\n",
    "                                    'coupon_id']].astype(str)"
   ]
  },
  {
   "cell_type": "markdown",
   "metadata": {},
   "source": [
    "## 初步探查"
   ]
  },
  {
   "cell_type": "code",
   "execution_count": 5,
   "metadata": {
    "scrolled": false
   },
   "outputs": [
    {
     "data": {
      "text/html": [
       "<div>\n",
       "<style scoped>\n",
       "    .dataframe tbody tr th:only-of-type {\n",
       "        vertical-align: middle;\n",
       "    }\n",
       "\n",
       "    .dataframe tbody tr th {\n",
       "        vertical-align: top;\n",
       "    }\n",
       "\n",
       "    .dataframe thead th {\n",
       "        text-align: right;\n",
       "    }\n",
       "</style>\n",
       "<table border=\"1\" class=\"dataframe\">\n",
       "  <thead>\n",
       "    <tr style=\"text-align: right;\">\n",
       "      <th></th>\n",
       "      <th>user_id</th>\n",
       "      <th>merchant_id</th>\n",
       "      <th>coupon_id</th>\n",
       "      <th>discount_rate</th>\n",
       "      <th>distance</th>\n",
       "      <th>date_received</th>\n",
       "      <th>date</th>\n",
       "    </tr>\n",
       "  </thead>\n",
       "  <tbody>\n",
       "    <tr>\n",
       "      <td>0</td>\n",
       "      <td>1439408</td>\n",
       "      <td>2632</td>\n",
       "      <td>nan</td>\n",
       "      <td>NaN</td>\n",
       "      <td>0.0</td>\n",
       "      <td>NaN</td>\n",
       "      <td>20160217.0</td>\n",
       "    </tr>\n",
       "    <tr>\n",
       "      <td>1</td>\n",
       "      <td>1439408</td>\n",
       "      <td>4663</td>\n",
       "      <td>11002.0</td>\n",
       "      <td>150:20</td>\n",
       "      <td>1.0</td>\n",
       "      <td>20160528.0</td>\n",
       "      <td>NaN</td>\n",
       "    </tr>\n",
       "    <tr>\n",
       "      <td>2</td>\n",
       "      <td>1439408</td>\n",
       "      <td>2632</td>\n",
       "      <td>8591.0</td>\n",
       "      <td>20:1</td>\n",
       "      <td>0.0</td>\n",
       "      <td>20160217.0</td>\n",
       "      <td>NaN</td>\n",
       "    </tr>\n",
       "    <tr>\n",
       "      <td>3</td>\n",
       "      <td>1439408</td>\n",
       "      <td>2632</td>\n",
       "      <td>1078.0</td>\n",
       "      <td>20:1</td>\n",
       "      <td>0.0</td>\n",
       "      <td>20160319.0</td>\n",
       "      <td>NaN</td>\n",
       "    </tr>\n",
       "    <tr>\n",
       "      <td>4</td>\n",
       "      <td>1439408</td>\n",
       "      <td>2632</td>\n",
       "      <td>8591.0</td>\n",
       "      <td>20:1</td>\n",
       "      <td>0.0</td>\n",
       "      <td>20160613.0</td>\n",
       "      <td>NaN</td>\n",
       "    </tr>\n",
       "  </tbody>\n",
       "</table>\n",
       "</div>"
      ],
      "text/plain": [
       "   user_id merchant_id coupon_id discount_rate  distance  date_received  \\\n",
       "0  1439408        2632       nan           NaN       0.0            NaN   \n",
       "1  1439408        4663   11002.0        150:20       1.0     20160528.0   \n",
       "2  1439408        2632    8591.0          20:1       0.0     20160217.0   \n",
       "3  1439408        2632    1078.0          20:1       0.0     20160319.0   \n",
       "4  1439408        2632    8591.0          20:1       0.0     20160613.0   \n",
       "\n",
       "         date  \n",
       "0  20160217.0  \n",
       "1         NaN  \n",
       "2         NaN  \n",
       "3         NaN  \n",
       "4         NaN  "
      ]
     },
     "execution_count": 5,
     "metadata": {},
     "output_type": "execute_result"
    }
   ],
   "source": [
    "#离线训练数据\n",
    "off_train.head()"
   ]
  },
  {
   "cell_type": "code",
   "execution_count": 6,
   "metadata": {},
   "outputs": [
    {
     "data": {
      "text/html": [
       "<div>\n",
       "<style scoped>\n",
       "    .dataframe tbody tr th:only-of-type {\n",
       "        vertical-align: middle;\n",
       "    }\n",
       "\n",
       "    .dataframe tbody tr th {\n",
       "        vertical-align: top;\n",
       "    }\n",
       "\n",
       "    .dataframe thead th {\n",
       "        text-align: right;\n",
       "    }\n",
       "</style>\n",
       "<table border=\"1\" class=\"dataframe\">\n",
       "  <thead>\n",
       "    <tr style=\"text-align: right;\">\n",
       "      <th></th>\n",
       "      <th>user_id</th>\n",
       "      <th>merchant_id</th>\n",
       "      <th>action</th>\n",
       "      <th>coupon_id</th>\n",
       "      <th>discount_rate</th>\n",
       "      <th>date_received</th>\n",
       "      <th>date</th>\n",
       "    </tr>\n",
       "  </thead>\n",
       "  <tbody>\n",
       "    <tr>\n",
       "      <td>0</td>\n",
       "      <td>13740231</td>\n",
       "      <td>18907</td>\n",
       "      <td>2</td>\n",
       "      <td>100017492</td>\n",
       "      <td>500:50</td>\n",
       "      <td>20160513.0</td>\n",
       "      <td>NaN</td>\n",
       "    </tr>\n",
       "    <tr>\n",
       "      <td>1</td>\n",
       "      <td>13740231</td>\n",
       "      <td>34805</td>\n",
       "      <td>1</td>\n",
       "      <td>nan</td>\n",
       "      <td>NaN</td>\n",
       "      <td>NaN</td>\n",
       "      <td>20160321.0</td>\n",
       "    </tr>\n",
       "    <tr>\n",
       "      <td>2</td>\n",
       "      <td>14336199</td>\n",
       "      <td>18907</td>\n",
       "      <td>0</td>\n",
       "      <td>nan</td>\n",
       "      <td>NaN</td>\n",
       "      <td>NaN</td>\n",
       "      <td>20160618.0</td>\n",
       "    </tr>\n",
       "    <tr>\n",
       "      <td>3</td>\n",
       "      <td>14336199</td>\n",
       "      <td>18907</td>\n",
       "      <td>0</td>\n",
       "      <td>nan</td>\n",
       "      <td>NaN</td>\n",
       "      <td>NaN</td>\n",
       "      <td>20160618.0</td>\n",
       "    </tr>\n",
       "    <tr>\n",
       "      <td>4</td>\n",
       "      <td>14336199</td>\n",
       "      <td>18907</td>\n",
       "      <td>0</td>\n",
       "      <td>nan</td>\n",
       "      <td>NaN</td>\n",
       "      <td>NaN</td>\n",
       "      <td>20160618.0</td>\n",
       "    </tr>\n",
       "  </tbody>\n",
       "</table>\n",
       "</div>"
      ],
      "text/plain": [
       "    user_id merchant_id  action  coupon_id discount_rate  date_received  \\\n",
       "0  13740231       18907       2  100017492        500:50     20160513.0   \n",
       "1  13740231       34805       1        nan           NaN            NaN   \n",
       "2  14336199       18907       0        nan           NaN            NaN   \n",
       "3  14336199       18907       0        nan           NaN            NaN   \n",
       "4  14336199       18907       0        nan           NaN            NaN   \n",
       "\n",
       "         date  \n",
       "0         NaN  \n",
       "1  20160321.0  \n",
       "2  20160618.0  \n",
       "3  20160618.0  \n",
       "4  20160618.0  "
      ]
     },
     "execution_count": 6,
     "metadata": {},
     "output_type": "execute_result"
    }
   ],
   "source": [
    "#在线训练数据\n",
    "on_train.head()"
   ]
  },
  {
   "cell_type": "code",
   "execution_count": 7,
   "metadata": {},
   "outputs": [
    {
     "data": {
      "text/html": [
       "<div>\n",
       "<style scoped>\n",
       "    .dataframe tbody tr th:only-of-type {\n",
       "        vertical-align: middle;\n",
       "    }\n",
       "\n",
       "    .dataframe tbody tr th {\n",
       "        vertical-align: top;\n",
       "    }\n",
       "\n",
       "    .dataframe thead th {\n",
       "        text-align: right;\n",
       "    }\n",
       "</style>\n",
       "<table border=\"1\" class=\"dataframe\">\n",
       "  <thead>\n",
       "    <tr style=\"text-align: right;\">\n",
       "      <th></th>\n",
       "      <th>user_id</th>\n",
       "      <th>merchant_id</th>\n",
       "      <th>coupon_id</th>\n",
       "      <th>discount_rate</th>\n",
       "      <th>distance</th>\n",
       "      <th>date_received</th>\n",
       "    </tr>\n",
       "  </thead>\n",
       "  <tbody>\n",
       "    <tr>\n",
       "      <td>0</td>\n",
       "      <td>4129537</td>\n",
       "      <td>450</td>\n",
       "      <td>9983</td>\n",
       "      <td>30:5</td>\n",
       "      <td>1.0</td>\n",
       "      <td>20160712</td>\n",
       "    </tr>\n",
       "    <tr>\n",
       "      <td>1</td>\n",
       "      <td>6949378</td>\n",
       "      <td>1300</td>\n",
       "      <td>3429</td>\n",
       "      <td>30:5</td>\n",
       "      <td>NaN</td>\n",
       "      <td>20160706</td>\n",
       "    </tr>\n",
       "    <tr>\n",
       "      <td>2</td>\n",
       "      <td>2166529</td>\n",
       "      <td>7113</td>\n",
       "      <td>6928</td>\n",
       "      <td>200:20</td>\n",
       "      <td>5.0</td>\n",
       "      <td>20160727</td>\n",
       "    </tr>\n",
       "    <tr>\n",
       "      <td>3</td>\n",
       "      <td>2166529</td>\n",
       "      <td>7113</td>\n",
       "      <td>1808</td>\n",
       "      <td>100:10</td>\n",
       "      <td>5.0</td>\n",
       "      <td>20160727</td>\n",
       "    </tr>\n",
       "    <tr>\n",
       "      <td>4</td>\n",
       "      <td>6172162</td>\n",
       "      <td>7605</td>\n",
       "      <td>6500</td>\n",
       "      <td>30:1</td>\n",
       "      <td>2.0</td>\n",
       "      <td>20160708</td>\n",
       "    </tr>\n",
       "  </tbody>\n",
       "</table>\n",
       "</div>"
      ],
      "text/plain": [
       "   user_id merchant_id coupon_id discount_rate  distance  date_received\n",
       "0  4129537         450      9983          30:5       1.0       20160712\n",
       "1  6949378        1300      3429          30:5       NaN       20160706\n",
       "2  2166529        7113      6928        200:20       5.0       20160727\n",
       "3  2166529        7113      1808        100:10       5.0       20160727\n",
       "4  6172162        7605      6500          30:1       2.0       20160708"
      ]
     },
     "execution_count": 7,
     "metadata": {},
     "output_type": "execute_result"
    }
   ],
   "source": [
    "#测试数据\n",
    "off_test.head()"
   ]
  },
  {
   "cell_type": "code",
   "execution_count": 8,
   "metadata": {
    "scrolled": true
   },
   "outputs": [
    {
     "name": "stdout",
     "output_type": "stream",
     "text": [
      "<class 'pandas.core.frame.DataFrame'>\n",
      "RangeIndex: 1754884 entries, 0 to 1754883\n",
      "Data columns (total 7 columns):\n",
      "user_id          object\n",
      "merchant_id      object\n",
      "coupon_id        object\n",
      "discount_rate    object\n",
      "distance         float64\n",
      "date_received    float64\n",
      "date             float64\n",
      "dtypes: float64(3), object(4)\n",
      "memory usage: 93.7+ MB\n"
     ]
    }
   ],
   "source": [
    "#离线训练数据\n",
    "off_train.info()"
   ]
  },
  {
   "cell_type": "code",
   "execution_count": 9,
   "metadata": {},
   "outputs": [
    {
     "name": "stdout",
     "output_type": "stream",
     "text": [
      "<class 'pandas.core.frame.DataFrame'>\n",
      "RangeIndex: 11429826 entries, 0 to 11429825\n",
      "Data columns (total 7 columns):\n",
      "user_id          object\n",
      "merchant_id      object\n",
      "action           int64\n",
      "coupon_id        object\n",
      "discount_rate    object\n",
      "date_received    float64\n",
      "date             float64\n",
      "dtypes: float64(2), int64(1), object(4)\n",
      "memory usage: 610.4+ MB\n"
     ]
    }
   ],
   "source": [
    "#在线训练数据\n",
    "on_train.info()"
   ]
  },
  {
   "cell_type": "code",
   "execution_count": 10,
   "metadata": {},
   "outputs": [
    {
     "name": "stdout",
     "output_type": "stream",
     "text": [
      "<class 'pandas.core.frame.DataFrame'>\n",
      "RangeIndex: 113640 entries, 0 to 113639\n",
      "Data columns (total 6 columns):\n",
      "user_id          113640 non-null object\n",
      "merchant_id      113640 non-null object\n",
      "coupon_id        113640 non-null object\n",
      "discount_rate    113640 non-null object\n",
      "distance         101576 non-null float64\n",
      "date_received    113640 non-null int64\n",
      "dtypes: float64(1), int64(1), object(4)\n",
      "memory usage: 5.2+ MB\n"
     ]
    }
   ],
   "source": [
    "#测试集\n",
    "off_test.info()"
   ]
  },
  {
   "cell_type": "code",
   "execution_count": 11,
   "metadata": {},
   "outputs": [
    {
     "data": {
      "text/html": [
       "<div>\n",
       "<style scoped>\n",
       "    .dataframe tbody tr th:only-of-type {\n",
       "        vertical-align: middle;\n",
       "    }\n",
       "\n",
       "    .dataframe tbody tr th {\n",
       "        vertical-align: top;\n",
       "    }\n",
       "\n",
       "    .dataframe thead th {\n",
       "        text-align: right;\n",
       "    }\n",
       "</style>\n",
       "<table border=\"1\" class=\"dataframe\">\n",
       "  <thead>\n",
       "    <tr style=\"text-align: right;\">\n",
       "      <th></th>\n",
       "      <th>distance</th>\n",
       "      <th>date_received</th>\n",
       "      <th>date</th>\n",
       "    </tr>\n",
       "  </thead>\n",
       "  <tbody>\n",
       "    <tr>\n",
       "      <td>count</td>\n",
       "      <td>1.648881e+06</td>\n",
       "      <td>1.053282e+06</td>\n",
       "      <td>7.769840e+05</td>\n",
       "    </tr>\n",
       "    <tr>\n",
       "      <td>mean</td>\n",
       "      <td>2.361636e+00</td>\n",
       "      <td>2.016032e+07</td>\n",
       "      <td>2.016040e+07</td>\n",
       "    </tr>\n",
       "    <tr>\n",
       "      <td>std</td>\n",
       "      <td>3.483974e+00</td>\n",
       "      <td>1.771416e+02</td>\n",
       "      <td>1.621500e+02</td>\n",
       "    </tr>\n",
       "    <tr>\n",
       "      <td>min</td>\n",
       "      <td>0.000000e+00</td>\n",
       "      <td>2.016010e+07</td>\n",
       "      <td>2.016010e+07</td>\n",
       "    </tr>\n",
       "    <tr>\n",
       "      <td>25%</td>\n",
       "      <td>0.000000e+00</td>\n",
       "      <td>2.016013e+07</td>\n",
       "      <td>2.016031e+07</td>\n",
       "    </tr>\n",
       "    <tr>\n",
       "      <td>50%</td>\n",
       "      <td>0.000000e+00</td>\n",
       "      <td>2.016032e+07</td>\n",
       "      <td>2.016042e+07</td>\n",
       "    </tr>\n",
       "    <tr>\n",
       "      <td>75%</td>\n",
       "      <td>3.000000e+00</td>\n",
       "      <td>2.016051e+07</td>\n",
       "      <td>2.016052e+07</td>\n",
       "    </tr>\n",
       "    <tr>\n",
       "      <td>max</td>\n",
       "      <td>1.000000e+01</td>\n",
       "      <td>2.016062e+07</td>\n",
       "      <td>2.016063e+07</td>\n",
       "    </tr>\n",
       "  </tbody>\n",
       "</table>\n",
       "</div>"
      ],
      "text/plain": [
       "           distance  date_received          date\n",
       "count  1.648881e+06   1.053282e+06  7.769840e+05\n",
       "mean   2.361636e+00   2.016032e+07  2.016040e+07\n",
       "std    3.483974e+00   1.771416e+02  1.621500e+02\n",
       "min    0.000000e+00   2.016010e+07  2.016010e+07\n",
       "25%    0.000000e+00   2.016013e+07  2.016031e+07\n",
       "50%    0.000000e+00   2.016032e+07  2.016042e+07\n",
       "75%    3.000000e+00   2.016051e+07  2.016052e+07\n",
       "max    1.000000e+01   2.016062e+07  2.016063e+07"
      ]
     },
     "execution_count": 11,
     "metadata": {},
     "output_type": "execute_result"
    }
   ],
   "source": [
    "#离线训练数据\n",
    "off_train.describe()"
   ]
  },
  {
   "cell_type": "code",
   "execution_count": 12,
   "metadata": {},
   "outputs": [
    {
     "data": {
      "text/html": [
       "<div>\n",
       "<style scoped>\n",
       "    .dataframe tbody tr th:only-of-type {\n",
       "        vertical-align: middle;\n",
       "    }\n",
       "\n",
       "    .dataframe tbody tr th {\n",
       "        vertical-align: top;\n",
       "    }\n",
       "\n",
       "    .dataframe thead th {\n",
       "        text-align: right;\n",
       "    }\n",
       "</style>\n",
       "<table border=\"1\" class=\"dataframe\">\n",
       "  <thead>\n",
       "    <tr style=\"text-align: right;\">\n",
       "      <th></th>\n",
       "      <th>action</th>\n",
       "      <th>date_received</th>\n",
       "      <th>date</th>\n",
       "    </tr>\n",
       "  </thead>\n",
       "  <tbody>\n",
       "    <tr>\n",
       "      <td>count</td>\n",
       "      <td>1.142983e+07</td>\n",
       "      <td>8.723570e+05</td>\n",
       "      <td>1.077393e+07</td>\n",
       "    </tr>\n",
       "    <tr>\n",
       "      <td>mean</td>\n",
       "      <td>2.348193e-01</td>\n",
       "      <td>2.016037e+07</td>\n",
       "      <td>2.016039e+07</td>\n",
       "    </tr>\n",
       "    <tr>\n",
       "      <td>std</td>\n",
       "      <td>5.426314e-01</td>\n",
       "      <td>1.560031e+02</td>\n",
       "      <td>1.732371e+02</td>\n",
       "    </tr>\n",
       "    <tr>\n",
       "      <td>min</td>\n",
       "      <td>0.000000e+00</td>\n",
       "      <td>2.016010e+07</td>\n",
       "      <td>2.016010e+07</td>\n",
       "    </tr>\n",
       "    <tr>\n",
       "      <td>25%</td>\n",
       "      <td>0.000000e+00</td>\n",
       "      <td>2.016023e+07</td>\n",
       "      <td>2.016023e+07</td>\n",
       "    </tr>\n",
       "    <tr>\n",
       "      <td>50%</td>\n",
       "      <td>0.000000e+00</td>\n",
       "      <td>2.016040e+07</td>\n",
       "      <td>2.016041e+07</td>\n",
       "    </tr>\n",
       "    <tr>\n",
       "      <td>75%</td>\n",
       "      <td>0.000000e+00</td>\n",
       "      <td>2.016051e+07</td>\n",
       "      <td>2.016052e+07</td>\n",
       "    </tr>\n",
       "    <tr>\n",
       "      <td>max</td>\n",
       "      <td>2.000000e+00</td>\n",
       "      <td>2.016062e+07</td>\n",
       "      <td>2.016063e+07</td>\n",
       "    </tr>\n",
       "  </tbody>\n",
       "</table>\n",
       "</div>"
      ],
      "text/plain": [
       "             action  date_received          date\n",
       "count  1.142983e+07   8.723570e+05  1.077393e+07\n",
       "mean   2.348193e-01   2.016037e+07  2.016039e+07\n",
       "std    5.426314e-01   1.560031e+02  1.732371e+02\n",
       "min    0.000000e+00   2.016010e+07  2.016010e+07\n",
       "25%    0.000000e+00   2.016023e+07  2.016023e+07\n",
       "50%    0.000000e+00   2.016040e+07  2.016041e+07\n",
       "75%    0.000000e+00   2.016051e+07  2.016052e+07\n",
       "max    2.000000e+00   2.016062e+07  2.016063e+07"
      ]
     },
     "execution_count": 12,
     "metadata": {},
     "output_type": "execute_result"
    }
   ],
   "source": [
    "#在线训练数据\n",
    "on_train.describe()"
   ]
  },
  {
   "cell_type": "code",
   "execution_count": 13,
   "metadata": {
    "scrolled": true
   },
   "outputs": [
    {
     "data": {
      "text/html": [
       "<div>\n",
       "<style scoped>\n",
       "    .dataframe tbody tr th:only-of-type {\n",
       "        vertical-align: middle;\n",
       "    }\n",
       "\n",
       "    .dataframe tbody tr th {\n",
       "        vertical-align: top;\n",
       "    }\n",
       "\n",
       "    .dataframe thead th {\n",
       "        text-align: right;\n",
       "    }\n",
       "</style>\n",
       "<table border=\"1\" class=\"dataframe\">\n",
       "  <thead>\n",
       "    <tr style=\"text-align: right;\">\n",
       "      <th></th>\n",
       "      <th>distance</th>\n",
       "      <th>date_received</th>\n",
       "    </tr>\n",
       "  </thead>\n",
       "  <tbody>\n",
       "    <tr>\n",
       "      <td>count</td>\n",
       "      <td>101576.000000</td>\n",
       "      <td>1.136400e+05</td>\n",
       "    </tr>\n",
       "    <tr>\n",
       "      <td>mean</td>\n",
       "      <td>2.328040</td>\n",
       "      <td>2.016072e+07</td>\n",
       "    </tr>\n",
       "    <tr>\n",
       "      <td>std</td>\n",
       "      <td>3.260755</td>\n",
       "      <td>9.019508e+00</td>\n",
       "    </tr>\n",
       "    <tr>\n",
       "      <td>min</td>\n",
       "      <td>0.000000</td>\n",
       "      <td>2.016070e+07</td>\n",
       "    </tr>\n",
       "    <tr>\n",
       "      <td>25%</td>\n",
       "      <td>0.000000</td>\n",
       "      <td>2.016071e+07</td>\n",
       "    </tr>\n",
       "    <tr>\n",
       "      <td>50%</td>\n",
       "      <td>1.000000</td>\n",
       "      <td>2.016072e+07</td>\n",
       "    </tr>\n",
       "    <tr>\n",
       "      <td>75%</td>\n",
       "      <td>3.000000</td>\n",
       "      <td>2.016072e+07</td>\n",
       "    </tr>\n",
       "    <tr>\n",
       "      <td>max</td>\n",
       "      <td>10.000000</td>\n",
       "      <td>2.016073e+07</td>\n",
       "    </tr>\n",
       "  </tbody>\n",
       "</table>\n",
       "</div>"
      ],
      "text/plain": [
       "            distance  date_received\n",
       "count  101576.000000   1.136400e+05\n",
       "mean        2.328040   2.016072e+07\n",
       "std         3.260755   9.019508e+00\n",
       "min         0.000000   2.016070e+07\n",
       "25%         0.000000   2.016071e+07\n",
       "50%         1.000000   2.016072e+07\n",
       "75%         3.000000   2.016072e+07\n",
       "max        10.000000   2.016073e+07"
      ]
     },
     "execution_count": 13,
     "metadata": {},
     "output_type": "execute_result"
    }
   ],
   "source": [
    "##测试集\n",
    "off_test.describe()"
   ]
  },
  {
   "cell_type": "code",
   "execution_count": 14,
   "metadata": {},
   "outputs": [
    {
     "data": {
      "text/plain": [
       "user_id               0\n",
       "merchant_id           0\n",
       "coupon_id             0\n",
       "discount_rate    701602\n",
       "distance         106003\n",
       "date_received    701602\n",
       "date             977900\n",
       "dtype: int64"
      ]
     },
     "execution_count": 14,
     "metadata": {},
     "output_type": "execute_result"
    }
   ],
   "source": [
    "#离线训练数据\n",
    "off_train.isnull().sum()"
   ]
  },
  {
   "cell_type": "code",
   "execution_count": 15,
   "metadata": {},
   "outputs": [
    {
     "data": {
      "text/plain": [
       "user_id                 0\n",
       "merchant_id             0\n",
       "action                  0\n",
       "coupon_id               0\n",
       "discount_rate    10557469\n",
       "date_received    10557469\n",
       "date               655898\n",
       "dtype: int64"
      ]
     },
     "execution_count": 15,
     "metadata": {},
     "output_type": "execute_result"
    }
   ],
   "source": [
    "#在线训练数据\n",
    "on_train.isnull().sum()"
   ]
  },
  {
   "cell_type": "code",
   "execution_count": 16,
   "metadata": {},
   "outputs": [
    {
     "data": {
      "text/plain": [
       "user_id              0\n",
       "merchant_id          0\n",
       "coupon_id            0\n",
       "discount_rate        0\n",
       "distance         12064\n",
       "date_received        0\n",
       "dtype: int64"
      ]
     },
     "execution_count": 16,
     "metadata": {},
     "output_type": "execute_result"
    }
   ],
   "source": [
    "#测试集\n",
    "off_test.isnull().sum()"
   ]
  },
  {
   "cell_type": "markdown",
   "metadata": {},
   "source": [
    "# 数据初步分析"
   ]
  },
  {
   "cell_type": "markdown",
   "metadata": {},
   "source": [
    "## 数据边界"
   ]
  },
  {
   "cell_type": "markdown",
   "metadata": {},
   "source": [
    "对数据日期范围情况进行初步探索。"
   ]
  },
  {
   "cell_type": "code",
   "execution_count": 17,
   "metadata": {},
   "outputs": [],
   "source": [
    "#重新读取数据，将null原样保持，方便处理\n",
    "off_train = pd.read_csv('../data/ccf_offline_stage1_train.csv',\n",
    "                        keep_default_na=False)\n",
    "off_train.columns = [\n",
    "    'user_id', 'merchant_id', 'coupon_id', 'discount_rate', 'distance',\n",
    "    'date_received', 'date'\n",
    "]\n",
    "off_test = pd.read_csv('../data/ccf_offline_stage1_test_revised.csv',\n",
    "                       keep_default_na=False)\n",
    "off_test.columns = [\n",
    "    'user_id', 'merchant_id', 'coupon_id', 'discount_rate', 'distance',\n",
    "    'date_received'\n",
    "]\n",
    "on_train = pd.read_csv('../data/ccf_online_stage1_train.csv',\n",
    "                       keep_default_na=False)\n",
    "on_train.columns = [\n",
    "    'user_id', 'merchant_id', 'action', 'coupon_id', 'discount_rate',\n",
    "    'date_received', 'date'\n",
    "]\n",
    "off_train[['user_id', 'merchant_id',\n",
    "           'coupon_id']] = off_train[['user_id', 'merchant_id',\n",
    "                                      'coupon_id']].astype(str)\n",
    "off_test[['user_id', 'merchant_id',\n",
    "          'coupon_id']] = off_test[['user_id', 'merchant_id',\n",
    "                                    'coupon_id']].astype(str)\n",
    "on_train[['user_id', 'merchant_id',\n",
    "          'coupon_id']] = on_train[['user_id', 'merchant_id',\n",
    "                                    'coupon_id']].astype(str)"
   ]
  },
  {
   "cell_type": "code",
   "execution_count": 18,
   "metadata": {},
   "outputs": [
    {
     "name": "stdout",
     "output_type": "stream",
     "text": [
      "offline train date_received\n",
      "20160101\n",
      "20160615\n",
      "online train date_received\n",
      "20160101\n",
      "20160615\n",
      "test date_received\n",
      "20160701\n",
      "20160731\n"
     ]
    }
   ],
   "source": [
    "print('offline train date_received')\n",
    "print(off_train[off_train['date_received'] != 'null']['date_received'].min())\n",
    "print(off_train[off_train['date_received'] != 'null']['date_received'].max())\n",
    "\n",
    "print('online train date_received')\n",
    "print(on_train[on_train['date_received'] != 'null']['date_received'].min())\n",
    "print(on_train[on_train['date_received'] != 'null']['date_received'].max())\n",
    "\n",
    "print('test date_received')\n",
    "print(off_test['date_received'].min())\n",
    "print(off_test['date_received'].max())"
   ]
  },
  {
   "cell_type": "code",
   "execution_count": 19,
   "metadata": {},
   "outputs": [
    {
     "name": "stdout",
     "output_type": "stream",
     "text": [
      "offline train date\n",
      "20160101\n",
      "20160630\n",
      "online train date\n",
      "20160101\n",
      "20160630\n"
     ]
    }
   ],
   "source": [
    "print('offline train date')\n",
    "print(off_train[off_train['date'] != 'null']['date'].min())\n",
    "print(off_train[off_train['date'] != 'null']['date'].max())\n",
    "\n",
    "print('online train date')\n",
    "print(on_train[on_train['date'] != 'null']['date'].min())\n",
    "print(on_train[on_train['date'] != 'null']['date'].max())"
   ]
  },
  {
   "cell_type": "markdown",
   "metadata": {},
   "source": [
    "通过探索可以发现训练数据的用券数据是到6月30日，而领券日期并不是到6月30日，而是到6月15日，这在设计滑窗结构的时候需要注意。"
   ]
  },
  {
   "cell_type": "markdown",
   "metadata": {},
   "source": [
    "## 训练集与测试集的相关性"
   ]
  },
  {
   "cell_type": "markdown",
   "metadata": {},
   "source": [
    "在机器学习比赛及实际应用的时候，不同数据的价值是不一样的，同时也并不是所有得到的数据都是有用的。对测试集和训练集数据的重合情况进行探查对于后续的特征构建的思路有很大的指导作用。"
   ]
  },
  {
   "cell_type": "code",
   "execution_count": 20,
   "metadata": {},
   "outputs": [
    {
     "name": "stdout",
     "output_type": "stream",
     "text": [
      "offline 训练集用户ID数量\n",
      "539438\n",
      "online 训练集用户ID数量\n",
      "762858\n",
      "offline 测试集用户ID数量\n",
      "76309\n",
      "offline 训练集用户与测试集用户重复数量\n",
      "76307.0\n",
      "offline 训练集用户与测试集重复用户在总测试集用户中的占比\n",
      "0.9999737907717308\n",
      "online 训练集用户与测试集用户重复数量\n",
      "43155.0\n",
      "online 训练集用户与测试集重复用户在总测试集用户中的占比\n",
      "0.5655296229802513\n"
     ]
    }
   ],
   "source": [
    "#查看online offline 训练集的 user_id与测试集的重合度\n",
    "off_train_user = off_train[['user_id']].copy().drop_duplicates()\n",
    "off_test_user = off_test[['user_id']].copy().drop_duplicates()\n",
    "on_train_user = on_train[['user_id']].copy().drop_duplicates()\n",
    "print('offline 训练集用户ID数量')\n",
    "print(off_train_user.user_id.count())\n",
    "print('online 训练集用户ID数量')\n",
    "print(on_train_user.user_id.count())\n",
    "print('offline 测试集用户ID数量')\n",
    "print(off_test_user.user_id.count())\n",
    "off_train_user['off_train_flag'] = 1\n",
    "off_merge = off_test_user.merge(off_train_user, on='user_id',\n",
    "                                how=\"left\").reset_index().fillna(0)\n",
    "print('offline 训练集用户与测试集用户重复数量')\n",
    "print(off_merge['off_train_flag'].sum())\n",
    "print('offline 训练集用户与测试集重复用户在总测试集用户中的占比')\n",
    "print(off_merge['off_train_flag'].sum() / off_merge['off_train_flag'].count())\n",
    "on_train_user['on_train_flag'] = 1\n",
    "on_merge = off_test_user.merge(on_train_user, on='user_id',\n",
    "                               how=\"left\").reset_index().fillna(0)\n",
    "print('online 训练集用户与测试集用户重复数量')\n",
    "print(on_merge['on_train_flag'].sum())\n",
    "print('online 训练集用户与测试集重复用户在总测试集用户中的占比')\n",
    "print(on_merge['on_train_flag'].sum() / on_merge['on_train_flag'].count())"
   ]
  },
  {
   "cell_type": "code",
   "execution_count": 21,
   "metadata": {},
   "outputs": [
    {
     "name": "stdout",
     "output_type": "stream",
     "text": [
      "offline 训练集商家ID数量\n",
      "8415\n",
      "online 训练集商家ID数量\n",
      "7999\n",
      "offline 测试集商家ID数量\n",
      "1559\n",
      "offline 训练集商家与测试集商家重复数量\n",
      "1558.0\n",
      "offline 训练集商家与测试集重复商家在总测试集商家中的占比\n",
      "0.9993585631815266\n",
      "online 训练集商家与测试集商家重复数量\n",
      "0.0\n",
      "online 训练集商家与测试集重复商家在总测试集商家中的占比\n",
      "0.0\n"
     ]
    }
   ],
   "source": [
    "#查看online offline 训练集的 merchant_id 与测试集的重合度\n",
    "off_train_merchant = off_train[['merchant_id']].copy().drop_duplicates()\n",
    "off_test_merchant = off_test[['merchant_id']].copy().drop_duplicates()\n",
    "on_train_merchant = on_train[['merchant_id']].copy().drop_duplicates()\n",
    "print('offline 训练集商家ID数量')\n",
    "print(off_train_merchant.merchant_id.count())\n",
    "print('online 训练集商家ID数量')\n",
    "print(on_train_merchant.merchant_id.count())\n",
    "print('offline 测试集商家ID数量')\n",
    "print(off_test_merchant.merchant_id.count())\n",
    "\n",
    "off_train_merchant['off_train_flag'] = 1\n",
    "off_merge = off_test_merchant.merge(off_train_merchant,\n",
    "                                    on='merchant_id',\n",
    "                                    how=\"left\").reset_index().fillna(0)\n",
    "print('offline 训练集商家与测试集商家重复数量')\n",
    "print(off_merge['off_train_flag'].sum())\n",
    "print('offline 训练集商家与测试集重复商家在总测试集商家中的占比')\n",
    "print(off_merge['off_train_flag'].sum() / off_merge['off_train_flag'].count())\n",
    "\n",
    "on_train_merchant['on_train_flag'] = 1\n",
    "on_merge = off_test_merchant.merge(on_train_merchant,\n",
    "                                   on='merchant_id',\n",
    "                                   how=\"left\").reset_index().fillna(0)\n",
    "print('online 训练集商家与测试集商家重复数量')\n",
    "print(on_merge['on_train_flag'].sum())\n",
    "print('online 训练集商家与测试集重复商家在总测试集商家中的占比')\n",
    "print(on_merge['on_train_flag'].sum() / on_merge['on_train_flag'].count())"
   ]
  },
  {
   "cell_type": "code",
   "execution_count": 22,
   "metadata": {},
   "outputs": [
    {
     "name": "stdout",
     "output_type": "stream",
     "text": [
      "offline 训练集优惠券ID数量\n",
      "9739\n",
      "online 训练集优惠券ID数量\n",
      "27748\n",
      "offline 测试集优惠券ID数量\n",
      "2050\n",
      "offline 训练集优惠券与测试集优惠券重复数量\n",
      "1118.0\n",
      "offline 训练集优惠券与测试集重复优惠券在总测试集优惠券中的占比\n",
      "0.5453658536585366\n",
      "online 训练集优惠券与测试集优惠券重复数量\n",
      "0.0\n",
      "online 训练集优惠券与测试集重复优惠券在总测试集优惠券中的占比\n",
      "0.0\n"
     ]
    }
   ],
   "source": [
    "#查看online offline 训练集的 coupon_id 与测试集的重合度\n",
    "off_train_coupon = off_train[['coupon_id']].copy().drop_duplicates()\n",
    "off_test_coupon = off_test[['coupon_id']].copy().drop_duplicates()\n",
    "on_train_coupon = on_train[['coupon_id']].copy().drop_duplicates()\n",
    "print('offline 训练集优惠券ID数量')\n",
    "print(off_train_coupon.coupon_id.count())\n",
    "print('online 训练集优惠券ID数量')\n",
    "print(on_train_coupon.coupon_id.count())\n",
    "print('offline 测试集优惠券ID数量')\n",
    "print(off_test_coupon.coupon_id.count())\n",
    "\n",
    "off_train_coupon['off_train_flag'] = 1\n",
    "off_merge = off_test_coupon.merge(off_train_coupon, on='coupon_id',\n",
    "                                  how=\"left\").reset_index().fillna(0)\n",
    "print('offline 训练集优惠券与测试集优惠券重复数量')\n",
    "print(off_merge['off_train_flag'].sum())\n",
    "print('offline 训练集优惠券与测试集重复优惠券在总测试集优惠券中的占比')\n",
    "print(off_merge['off_train_flag'].sum() / off_merge['off_train_flag'].count())\n",
    "\n",
    "on_train_coupon['on_train_flag'] = 1\n",
    "on_merge = off_test_coupon.merge(on_train_coupon, on='coupon_id',\n",
    "                                 how=\"left\").reset_index().fillna(0)\n",
    "print('online 训练集优惠券与测试集优惠券重复数量')\n",
    "print(on_merge['on_train_flag'].sum())\n",
    "print('online 训练集优惠券与测试集重复优惠券在总测试集优惠券中的占比')\n",
    "print(on_merge['on_train_flag'].sum() / on_merge['on_train_flag'].count())"
   ]
  },
  {
   "cell_type": "markdown",
   "metadata": {},
   "source": [
    "对用户，商家，优惠券在训练集和测试集的重合情况进行探索发现：\n",
    "测试集的用户ID与Offline训练集重复占比0.999以上，与Online训练集重复占比0.565。\n",
    "测试集的商家ID与Offline训练集重复占比0.999以上，与Online训练集没有重复。\n",
    "测试集的优惠券ID与训练集都没有重复。\n",
    "结论：Online数据价值比较低，后续特征提取将以Offline训练集为主。在提取优惠券统计特征的时候不能通过ID进行合并。\n",
    "在后续可视化分析中将主要在Offline训练集及测试集之间进行。"
   ]
  },
  {
   "cell_type": "markdown",
   "metadata": {},
   "source": [
    "## 数据的分布"
   ]
  },
  {
   "cell_type": "code",
   "execution_count": 23,
   "metadata": {},
   "outputs": [
    {
     "data": {
      "text/plain": [
       "null       701602\n",
       "30:5       270712\n",
       "100:10     182554\n",
       "200:20     111046\n",
       "20:5        91013\n",
       "            ...  \n",
       "30:20          24\n",
       "300:10         23\n",
       "200:100        12\n",
       "50:30           9\n",
       "150:5           7\n",
       "Name: discount_rate, Length: 46, dtype: int64"
      ]
     },
     "execution_count": 23,
     "metadata": {},
     "output_type": "execute_result"
    }
   ],
   "source": [
    "off_train['discount_rate'].value_counts()"
   ]
  },
  {
   "cell_type": "code",
   "execution_count": 24,
   "metadata": {},
   "outputs": [
    {
     "data": {
      "text/plain": [
       "30:5       59318\n",
       "20:1       11273\n",
       "50:10       7476\n",
       "20:5        7026\n",
       "200:20      5496\n",
       "           ...  \n",
       "200:100        3\n",
       "0.85           1\n",
       "500:30         1\n",
       "0.6            1\n",
       "0.7            1\n",
       "Name: discount_rate, Length: 42, dtype: int64"
      ]
     },
     "execution_count": 24,
     "metadata": {},
     "output_type": "execute_result"
    }
   ],
   "source": [
    "off_test['discount_rate'].value_counts()"
   ]
  },
  {
   "cell_type": "code",
   "execution_count": 25,
   "metadata": {},
   "outputs": [
    {
     "data": {
      "image/png": "[encoded data removed]",
      "text/plain": [
       "<Figure size 1800x288 with 1 Axes>"
      ]
     },
     "metadata": {
      "needs_background": "light"
     },
     "output_type": "display_data"
    }
   ],
   "source": [
    "plt.rcParams['figure.figsize'] = (25.0, 4.0)  #设置图片大小\n",
    "plt.title(\"Value Distribution\", fontsize=24)  # 指定标题，并设置标题字体大小\n",
    "plt.xlabel(\"Values\", fontsize=14)  # 指定X坐标轴的标签，并设置标签字体大小\n",
    "plt.ylabel(\"Count\", fontsize=14)  # 指定Y坐标轴的标签，并设置标签字体大小\n",
    "plt.tick_params(axis='both', labelsize=14)  # 参数axis值为both，代表要设置横纵的刻度标记，标记大小为14\n",
    "plt.xticks(size='small', rotation=68,\n",
    "           fontsize=8)  #设置x轴标签文字的大小(size),倾斜角度(rotation),字体大小(fontsize)\n",
    "plt.plot(off_train['discount_rate'].value_counts(), linewidth=2)\n",
    "plt.show()  # 打开matplotlib查看器，并显示绘制的图形"
   ]
  },
  {
   "cell_type": "code",
   "execution_count": 26,
   "metadata": {},
   "outputs": [
    {
     "data": {
      "image/png": "[encoded data removed]",
      "text/plain": [
       "<Figure size 1800x288 with 1 Axes>"
      ]
     },
     "metadata": {
      "needs_background": "light"
     },
     "output_type": "display_data"
    }
   ],
   "source": [
    "plt.rcParams['figure.figsize'] = (25.0, 4.0)  #设置图片大小\n",
    "plt.title(\"Value Distribution\", fontsize=24)  # 指定标题，并设置标题字体大小\n",
    "plt.xlabel(\"Values\", fontsize=14)  # 指定X坐标轴的标签，并设置标签字体大小\n",
    "plt.ylabel(\"Count\", fontsize=14)  # 指定Y坐标轴的标签，并设置标签字体大小\n",
    "plt.tick_params(axis='both', labelsize=14)  # 参数axis值为both，代表要设置横纵的刻度标记，标记大小为14\n",
    "plt.xticks(size='small', rotation=68,\n",
    "           fontsize=8)  #设置x轴标签文字的大小(size),倾斜角度(rotation),字体大小(fontsize)\n",
    "plt.plot(off_test['discount_rate'].value_counts(), linewidth=2)\n",
    "plt.show()  # 打开matplotlib查看器，并显示绘制的图形"
   ]
  },
  {
   "cell_type": "code",
   "execution_count": 27,
   "metadata": {},
   "outputs": [
    {
     "data": {
      "text/plain": [
       "0       826070\n",
       "1       227221\n",
       "10      206484\n",
       "2       118413\n",
       "null    106003\n",
       "3        76598\n",
       "4        55085\n",
       "5        41452\n",
       "6        32483\n",
       "7        25681\n",
       "8        21436\n",
       "9        17958\n",
       "Name: distance, dtype: int64"
      ]
     },
     "execution_count": 27,
     "metadata": {},
     "output_type": "execute_result"
    }
   ],
   "source": [
    "off_train['distance'].value_counts()"
   ]
  },
  {
   "cell_type": "code",
   "execution_count": 28,
   "metadata": {},
   "outputs": [
    {
     "data": {
      "text/plain": [
       "0       43867\n",
       "1       18474\n",
       "null    12064\n",
       "10      10353\n",
       "2        9523\n",
       "3        5934\n",
       "4        4006\n",
       "5        2977\n",
       "6        2179\n",
       "7        1685\n",
       "8        1359\n",
       "9        1219\n",
       "Name: distance, dtype: int64"
      ]
     },
     "execution_count": 28,
     "metadata": {},
     "output_type": "execute_result"
    }
   ],
   "source": [
    "off_test['distance'].value_counts()"
   ]
  },
  {
   "cell_type": "markdown",
   "metadata": {},
   "source": [
    "通过初步观察感觉训练集和测试集数据分布比较一致。"
   ]
  },
  {
   "cell_type": "markdown",
   "metadata": {},
   "source": [
    "# 数据处理及分析"
   ]
  },
  {
   "cell_type": "markdown",
   "metadata": {},
   "source": [
    "## 将特征数值化"
   ]
  },
  {
   "cell_type": "code",
   "execution_count": 29,
   "metadata": {},
   "outputs": [],
   "source": [
    "#分隔符\n",
    "separator = ':'\n",
    "\n",
    "\n",
    "#计算折扣率，将满减和折扣统一\n",
    "#因为discount_rate为null的时候一般都是没有使用优惠券，这个时候折扣应该是1\n",
    "def get_discount_rate(s):\n",
    "    s = str(s)\n",
    "    if s == 'null':\n",
    "        return -1\n",
    "        #return 1\n",
    "    s = s.split(separator)\n",
    "    if len(s) == 1:\n",
    "        return float(s[0])\n",
    "    else:\n",
    "        return 1.0 - float(s[1]) / float(s[0])\n",
    "\n",
    "\n",
    "#获取是否满减（full reduction promotion）\n",
    "def get_if_fd(s):\n",
    "    s = str(s)\n",
    "    s = s.split(separator)\n",
    "    if len(s) == 1:\n",
    "        return 0\n",
    "    else:\n",
    "        return 1\n",
    "\n",
    "\n",
    "#获取满减的条件\n",
    "def get_full_value(s):\n",
    "    s = str(s)\n",
    "    s = s.split(separator)\n",
    "    if len(s) == 1:\n",
    "        return -1\n",
    "    else:\n",
    "        return int(s[0])\n",
    "\n",
    "\n",
    "#获取满减的优惠\n",
    "def get_reduction_value(s):\n",
    "    s = str(s)\n",
    "    s = s.split(separator)\n",
    "    if len(s) == 1:\n",
    "        return -1\n",
    "    else:\n",
    "        return int(s[1])\n",
    "\n",
    "\n",
    "#获取月份\n",
    "def get_month(s):\n",
    "    if s[0] == 'null':\n",
    "        return -1\n",
    "    else:\n",
    "        return int(s[4:6])\n",
    "\n",
    "\n",
    "#获取日期\n",
    "def get_day(s):\n",
    "    if s[0] == 'null':\n",
    "        return -1\n",
    "    else:\n",
    "        return int(s[6:8])\n",
    "\n",
    "\n",
    "#获取日期间隔输入内容为Date:Date_received\n",
    "def get_day_gap(s):\n",
    "    s = s.split(separator)\n",
    "    if s[0] == 'null':\n",
    "        return -1\n",
    "    if s[1] == 'null':\n",
    "        return -1\n",
    "    else:\n",
    "        return (date(int(s[0][0:4]), int(s[0][4:6]), int(s[0][6:8])) -\n",
    "                date(int(s[1][0:4]), int(s[1][4:6]), int(s[1][6:8]))).days\n",
    "\n",
    "\n",
    "#获取Label，输入内容为Date:Date_received\n",
    "def get_label(s):\n",
    "    s = s.split(separator)\n",
    "    if s[0] == 'null':\n",
    "        return 0\n",
    "    if s[1] == 'null':\n",
    "        return -1\n",
    "    elif (date(int(s[0][0:4]), int(s[0][4:6]), int(s[0][6:8])) -\n",
    "          date(int(s[1][0:4]), int(s[1][4:6]), int(s[1][6:8]))).days <= 15:\n",
    "        return 1\n",
    "    else:\n",
    "        return -1"
   ]
  },
  {
   "cell_type": "code",
   "execution_count": 30,
   "metadata": {},
   "outputs": [],
   "source": [
    "def add_feature(df):\n",
    "    df['if_fd'] = df['discount_rate'].apply(get_if_fd)\n",
    "    df['full_value'] = df['discount_rate'].apply(get_full_value)\n",
    "    df['reduction_value'] = df['discount_rate'].apply(get_reduction_value)\n",
    "    df['discount_rate'] = df['discount_rate'].apply(get_discount_rate)\n",
    "    df['distance'] = df['distance'].replace('null', -1).astype(int)\n",
    "    #df['month_received'] = df['date_received'].apply(get_month)\n",
    "    #df['month'] = df['date'].apply(get_month)\n",
    "    return df\n",
    "\n",
    "\n",
    "def add_label(df):\n",
    "    df['day_gap'] = df['date'].astype(\n",
    "        'str') + ':' + df['date_received'].astype('str')\n",
    "    df['label'] = df['day_gap'].apply(get_label)\n",
    "    df['day_gap'] = df['day_gap'].apply(get_day_gap)\n",
    "    return df"
   ]
  },
  {
   "cell_type": "code",
   "execution_count": 31,
   "metadata": {},
   "outputs": [],
   "source": [
    "#拷贝数据，免得调试的时候重读文件\n",
    "dftrain = off_train.copy()\n",
    "dftest = off_test.copy()"
   ]
  },
  {
   "cell_type": "code",
   "execution_count": 32,
   "metadata": {},
   "outputs": [],
   "source": [
    "dftrain = add_feature(dftrain)\n",
    "dftrain = add_label(dftrain)\n",
    "dftest = add_feature(dftest)"
   ]
  },
  {
   "cell_type": "markdown",
   "metadata": {},
   "source": [
    "## 数据分析"
   ]
  },
  {
   "cell_type": "code",
   "execution_count": 33,
   "metadata": {
    "scrolled": false
   },
   "outputs": [
    {
     "data": {
      "text/html": [
       "<div>\n",
       "<style scoped>\n",
       "    .dataframe tbody tr th:only-of-type {\n",
       "        vertical-align: middle;\n",
       "    }\n",
       "\n",
       "    .dataframe tbody tr th {\n",
       "        vertical-align: top;\n",
       "    }\n",
       "\n",
       "    .dataframe thead th {\n",
       "        text-align: right;\n",
       "    }\n",
       "</style>\n",
       "<table border=\"1\" class=\"dataframe\">\n",
       "  <thead>\n",
       "    <tr style=\"text-align: right;\">\n",
       "      <th></th>\n",
       "      <th>user_id</th>\n",
       "      <th>merchant_id</th>\n",
       "      <th>coupon_id</th>\n",
       "      <th>discount_rate</th>\n",
       "      <th>distance</th>\n",
       "      <th>...</th>\n",
       "      <th>if_fd</th>\n",
       "      <th>full_value</th>\n",
       "      <th>reduction_value</th>\n",
       "      <th>day_gap</th>\n",
       "      <th>label</th>\n",
       "    </tr>\n",
       "  </thead>\n",
       "  <tbody>\n",
       "    <tr>\n",
       "      <td>0</td>\n",
       "      <td>1439408</td>\n",
       "      <td>2632</td>\n",
       "      <td>null</td>\n",
       "      <td>-1.000000</td>\n",
       "      <td>0</td>\n",
       "      <td>...</td>\n",
       "      <td>0</td>\n",
       "      <td>-1</td>\n",
       "      <td>-1</td>\n",
       "      <td>-1</td>\n",
       "      <td>-1</td>\n",
       "    </tr>\n",
       "    <tr>\n",
       "      <td>1</td>\n",
       "      <td>1439408</td>\n",
       "      <td>4663</td>\n",
       "      <td>11002</td>\n",
       "      <td>0.866667</td>\n",
       "      <td>1</td>\n",
       "      <td>...</td>\n",
       "      <td>1</td>\n",
       "      <td>150</td>\n",
       "      <td>20</td>\n",
       "      <td>-1</td>\n",
       "      <td>0</td>\n",
       "    </tr>\n",
       "    <tr>\n",
       "      <td>2</td>\n",
       "      <td>1439408</td>\n",
       "      <td>2632</td>\n",
       "      <td>8591</td>\n",
       "      <td>0.950000</td>\n",
       "      <td>0</td>\n",
       "      <td>...</td>\n",
       "      <td>1</td>\n",
       "      <td>20</td>\n",
       "      <td>1</td>\n",
       "      <td>-1</td>\n",
       "      <td>0</td>\n",
       "    </tr>\n",
       "    <tr>\n",
       "      <td>3</td>\n",
       "      <td>1439408</td>\n",
       "      <td>2632</td>\n",
       "      <td>1078</td>\n",
       "      <td>0.950000</td>\n",
       "      <td>0</td>\n",
       "      <td>...</td>\n",
       "      <td>1</td>\n",
       "      <td>20</td>\n",
       "      <td>1</td>\n",
       "      <td>-1</td>\n",
       "      <td>0</td>\n",
       "    </tr>\n",
       "    <tr>\n",
       "      <td>4</td>\n",
       "      <td>1439408</td>\n",
       "      <td>2632</td>\n",
       "      <td>8591</td>\n",
       "      <td>0.950000</td>\n",
       "      <td>0</td>\n",
       "      <td>...</td>\n",
       "      <td>1</td>\n",
       "      <td>20</td>\n",
       "      <td>1</td>\n",
       "      <td>-1</td>\n",
       "      <td>0</td>\n",
       "    </tr>\n",
       "  </tbody>\n",
       "</table>\n",
       "<p>5 rows × 12 columns</p>\n",
       "</div>"
      ],
      "text/plain": [
       "   user_id merchant_id coupon_id  discount_rate  distance  ... if_fd  \\\n",
       "0  1439408        2632      null      -1.000000         0  ...     0   \n",
       "1  1439408        4663     11002       0.866667         1  ...     1   \n",
       "2  1439408        2632      8591       0.950000         0  ...     1   \n",
       "3  1439408        2632      1078       0.950000         0  ...     1   \n",
       "4  1439408        2632      8591       0.950000         0  ...     1   \n",
       "\n",
       "  full_value  reduction_value  day_gap  label  \n",
       "0         -1               -1       -1     -1  \n",
       "1        150               20       -1      0  \n",
       "2         20                1       -1      0  \n",
       "3         20                1       -1      0  \n",
       "4         20                1       -1      0  \n",
       "\n",
       "[5 rows x 12 columns]"
      ]
     },
     "execution_count": 33,
     "metadata": {},
     "output_type": "execute_result"
    }
   ],
   "source": [
    "dftrain.head()"
   ]
  },
  {
   "cell_type": "code",
   "execution_count": 34,
   "metadata": {},
   "outputs": [
    {
     "data": {
      "text/html": [
       "<div>\n",
       "<style scoped>\n",
       "    .dataframe tbody tr th:only-of-type {\n",
       "        vertical-align: middle;\n",
       "    }\n",
       "\n",
       "    .dataframe tbody tr th {\n",
       "        vertical-align: top;\n",
       "    }\n",
       "\n",
       "    .dataframe thead th {\n",
       "        text-align: right;\n",
       "    }\n",
       "</style>\n",
       "<table border=\"1\" class=\"dataframe\">\n",
       "  <thead>\n",
       "    <tr style=\"text-align: right;\">\n",
       "      <th></th>\n",
       "      <th>discount_rate</th>\n",
       "      <th>distance</th>\n",
       "      <th>if_fd</th>\n",
       "      <th>full_value</th>\n",
       "      <th>reduction_value</th>\n",
       "      <th>day_gap</th>\n",
       "      <th>label</th>\n",
       "    </tr>\n",
       "  </thead>\n",
       "  <tbody>\n",
       "    <tr>\n",
       "      <td>count</td>\n",
       "      <td>1.754884e+06</td>\n",
       "      <td>1.754884e+06</td>\n",
       "      <td>1.754884e+06</td>\n",
       "      <td>1.754884e+06</td>\n",
       "      <td>1.754884e+06</td>\n",
       "      <td>1.754884e+06</td>\n",
       "      <td>1.754884e+06</td>\n",
       "    </tr>\n",
       "    <tr>\n",
       "      <td>mean</td>\n",
       "      <td>1.069696e-01</td>\n",
       "      <td>2.158577e+00</td>\n",
       "      <td>5.812407e-01</td>\n",
       "      <td>4.665974e+01</td>\n",
       "      <td>5.807668e+00</td>\n",
       "      <td>-6.212582e-01</td>\n",
       "      <td>-3.693657e-01</td>\n",
       "    </tr>\n",
       "    <tr>\n",
       "      <td>std</td>\n",
       "      <td>9.061683e-01</td>\n",
       "      <td>3.470772e+00</td>\n",
       "      <td>4.933559e-01</td>\n",
       "      <td>6.830349e+01</td>\n",
       "      <td>9.037305e+00</td>\n",
       "      <td>2.414021e+00</td>\n",
       "      <td>5.534657e-01</td>\n",
       "    </tr>\n",
       "    <tr>\n",
       "      <td>min</td>\n",
       "      <td>-1.000000e+00</td>\n",
       "      <td>-1.000000e+00</td>\n",
       "      <td>0.000000e+00</td>\n",
       "      <td>-1.000000e+00</td>\n",
       "      <td>-1.000000e+00</td>\n",
       "      <td>-1.000000e+00</td>\n",
       "      <td>-1.000000e+00</td>\n",
       "    </tr>\n",
       "    <tr>\n",
       "      <td>25%</td>\n",
       "      <td>-1.000000e+00</td>\n",
       "      <td>0.000000e+00</td>\n",
       "      <td>0.000000e+00</td>\n",
       "      <td>-1.000000e+00</td>\n",
       "      <td>-1.000000e+00</td>\n",
       "      <td>-1.000000e+00</td>\n",
       "      <td>-1.000000e+00</td>\n",
       "    </tr>\n",
       "    <tr>\n",
       "      <td>50%</td>\n",
       "      <td>7.500000e-01</td>\n",
       "      <td>0.000000e+00</td>\n",
       "      <td>1.000000e+00</td>\n",
       "      <td>2.000000e+01</td>\n",
       "      <td>5.000000e+00</td>\n",
       "      <td>-1.000000e+00</td>\n",
       "      <td>0.000000e+00</td>\n",
       "    </tr>\n",
       "    <tr>\n",
       "      <td>75%</td>\n",
       "      <td>9.000000e-01</td>\n",
       "      <td>3.000000e+00</td>\n",
       "      <td>1.000000e+00</td>\n",
       "      <td>1.000000e+02</td>\n",
       "      <td>1.000000e+01</td>\n",
       "      <td>-1.000000e+00</td>\n",
       "      <td>0.000000e+00</td>\n",
       "    </tr>\n",
       "    <tr>\n",
       "      <td>max</td>\n",
       "      <td>9.900000e-01</td>\n",
       "      <td>1.000000e+01</td>\n",
       "      <td>1.000000e+00</td>\n",
       "      <td>3.000000e+02</td>\n",
       "      <td>1.000000e+02</td>\n",
       "      <td>9.600000e+01</td>\n",
       "      <td>1.000000e+00</td>\n",
       "    </tr>\n",
       "  </tbody>\n",
       "</table>\n",
       "</div>"
      ],
      "text/plain": [
       "       discount_rate      distance         if_fd    full_value  \\\n",
       "count   1.754884e+06  1.754884e+06  1.754884e+06  1.754884e+06   \n",
       "mean    1.069696e-01  2.158577e+00  5.812407e-01  4.665974e+01   \n",
       "std     9.061683e-01  3.470772e+00  4.933559e-01  6.830349e+01   \n",
       "min    -1.000000e+00 -1.000000e+00  0.000000e+00 -1.000000e+00   \n",
       "25%    -1.000000e+00  0.000000e+00  0.000000e+00 -1.000000e+00   \n",
       "50%     7.500000e-01  0.000000e+00  1.000000e+00  2.000000e+01   \n",
       "75%     9.000000e-01  3.000000e+00  1.000000e+00  1.000000e+02   \n",
       "max     9.900000e-01  1.000000e+01  1.000000e+00  3.000000e+02   \n",
       "\n",
       "       reduction_value       day_gap         label  \n",
       "count     1.754884e+06  1.754884e+06  1.754884e+06  \n",
       "mean      5.807668e+00 -6.212582e-01 -3.693657e-01  \n",
       "std       9.037305e+00  2.414021e+00  5.534657e-01  \n",
       "min      -1.000000e+00 -1.000000e+00 -1.000000e+00  \n",
       "25%      -1.000000e+00 -1.000000e+00 -1.000000e+00  \n",
       "50%       5.000000e+00 -1.000000e+00  0.000000e+00  \n",
       "75%       1.000000e+01 -1.000000e+00  0.000000e+00  \n",
       "max       1.000000e+02  9.600000e+01  1.000000e+00  "
      ]
     },
     "execution_count": 34,
     "metadata": {},
     "output_type": "execute_result"
    }
   ],
   "source": [
    "dftrain.describe()"
   ]
  },
  {
   "cell_type": "code",
   "execution_count": 35,
   "metadata": {},
   "outputs": [
    {
     "data": {
      "text/html": [
       "<div>\n",
       "<style scoped>\n",
       "    .dataframe tbody tr th:only-of-type {\n",
       "        vertical-align: middle;\n",
       "    }\n",
       "\n",
       "    .dataframe tbody tr th {\n",
       "        vertical-align: top;\n",
       "    }\n",
       "\n",
       "    .dataframe thead th {\n",
       "        text-align: right;\n",
       "    }\n",
       "</style>\n",
       "<table border=\"1\" class=\"dataframe\">\n",
       "  <thead>\n",
       "    <tr style=\"text-align: right;\">\n",
       "      <th></th>\n",
       "      <th>user_id</th>\n",
       "      <th>merchant_id</th>\n",
       "      <th>coupon_id</th>\n",
       "      <th>discount_rate</th>\n",
       "      <th>distance</th>\n",
       "      <th>date_received</th>\n",
       "      <th>if_fd</th>\n",
       "      <th>full_value</th>\n",
       "      <th>reduction_value</th>\n",
       "    </tr>\n",
       "  </thead>\n",
       "  <tbody>\n",
       "    <tr>\n",
       "      <td>0</td>\n",
       "      <td>4129537</td>\n",
       "      <td>450</td>\n",
       "      <td>9983</td>\n",
       "      <td>0.833333</td>\n",
       "      <td>1</td>\n",
       "      <td>20160712</td>\n",
       "      <td>1</td>\n",
       "      <td>30</td>\n",
       "      <td>5</td>\n",
       "    </tr>\n",
       "    <tr>\n",
       "      <td>1</td>\n",
       "      <td>6949378</td>\n",
       "      <td>1300</td>\n",
       "      <td>3429</td>\n",
       "      <td>0.833333</td>\n",
       "      <td>-1</td>\n",
       "      <td>20160706</td>\n",
       "      <td>1</td>\n",
       "      <td>30</td>\n",
       "      <td>5</td>\n",
       "    </tr>\n",
       "    <tr>\n",
       "      <td>2</td>\n",
       "      <td>2166529</td>\n",
       "      <td>7113</td>\n",
       "      <td>6928</td>\n",
       "      <td>0.900000</td>\n",
       "      <td>5</td>\n",
       "      <td>20160727</td>\n",
       "      <td>1</td>\n",
       "      <td>200</td>\n",
       "      <td>20</td>\n",
       "    </tr>\n",
       "    <tr>\n",
       "      <td>3</td>\n",
       "      <td>2166529</td>\n",
       "      <td>7113</td>\n",
       "      <td>1808</td>\n",
       "      <td>0.900000</td>\n",
       "      <td>5</td>\n",
       "      <td>20160727</td>\n",
       "      <td>1</td>\n",
       "      <td>100</td>\n",
       "      <td>10</td>\n",
       "    </tr>\n",
       "    <tr>\n",
       "      <td>4</td>\n",
       "      <td>6172162</td>\n",
       "      <td>7605</td>\n",
       "      <td>6500</td>\n",
       "      <td>0.966667</td>\n",
       "      <td>2</td>\n",
       "      <td>20160708</td>\n",
       "      <td>1</td>\n",
       "      <td>30</td>\n",
       "      <td>1</td>\n",
       "    </tr>\n",
       "  </tbody>\n",
       "</table>\n",
       "</div>"
      ],
      "text/plain": [
       "   user_id merchant_id coupon_id  discount_rate  distance  date_received  \\\n",
       "0  4129537         450      9983       0.833333         1       20160712   \n",
       "1  6949378        1300      3429       0.833333        -1       20160706   \n",
       "2  2166529        7113      6928       0.900000         5       20160727   \n",
       "3  2166529        7113      1808       0.900000         5       20160727   \n",
       "4  6172162        7605      6500       0.966667         2       20160708   \n",
       "\n",
       "   if_fd  full_value  reduction_value  \n",
       "0      1          30                5  \n",
       "1      1          30                5  \n",
       "2      1         200               20  \n",
       "3      1         100               10  \n",
       "4      1          30                1  "
      ]
     },
     "execution_count": 35,
     "metadata": {},
     "output_type": "execute_result"
    }
   ],
   "source": [
    "dftest.head()"
   ]
  },
  {
   "cell_type": "code",
   "execution_count": 36,
   "metadata": {},
   "outputs": [
    {
     "data": {
      "text/html": [
       "<div>\n",
       "<style scoped>\n",
       "    .dataframe tbody tr th:only-of-type {\n",
       "        vertical-align: middle;\n",
       "    }\n",
       "\n",
       "    .dataframe tbody tr th {\n",
       "        vertical-align: top;\n",
       "    }\n",
       "\n",
       "    .dataframe thead th {\n",
       "        text-align: right;\n",
       "    }\n",
       "</style>\n",
       "<table border=\"1\" class=\"dataframe\">\n",
       "  <thead>\n",
       "    <tr style=\"text-align: right;\">\n",
       "      <th></th>\n",
       "      <th>discount_rate</th>\n",
       "      <th>distance</th>\n",
       "      <th>date_received</th>\n",
       "      <th>if_fd</th>\n",
       "      <th>full_value</th>\n",
       "      <th>reduction_value</th>\n",
       "    </tr>\n",
       "  </thead>\n",
       "  <tbody>\n",
       "    <tr>\n",
       "      <td>count</td>\n",
       "      <td>113640.000000</td>\n",
       "      <td>113640.000000</td>\n",
       "      <td>1.136400e+05</td>\n",
       "      <td>113640.000000</td>\n",
       "      <td>113640.000000</td>\n",
       "      <td>113640.000000</td>\n",
       "    </tr>\n",
       "    <tr>\n",
       "      <td>mean</td>\n",
       "      <td>0.850671</td>\n",
       "      <td>1.974736</td>\n",
       "      <td>2.016072e+07</td>\n",
       "      <td>0.977420</td>\n",
       "      <td>43.396507</td>\n",
       "      <td>6.089141</td>\n",
       "    </tr>\n",
       "    <tr>\n",
       "      <td>std</td>\n",
       "      <td>0.063551</td>\n",
       "      <td>3.248809</td>\n",
       "      <td>9.019508e+00</td>\n",
       "      <td>0.148561</td>\n",
       "      <td>44.239815</td>\n",
       "      <td>5.640310</td>\n",
       "    </tr>\n",
       "    <tr>\n",
       "      <td>min</td>\n",
       "      <td>0.333333</td>\n",
       "      <td>-1.000000</td>\n",
       "      <td>2.016070e+07</td>\n",
       "      <td>0.000000</td>\n",
       "      <td>-1.000000</td>\n",
       "      <td>-1.000000</td>\n",
       "    </tr>\n",
       "    <tr>\n",
       "      <td>25%</td>\n",
       "      <td>0.833333</td>\n",
       "      <td>0.000000</td>\n",
       "      <td>2.016071e+07</td>\n",
       "      <td>1.000000</td>\n",
       "      <td>30.000000</td>\n",
       "      <td>5.000000</td>\n",
       "    </tr>\n",
       "    <tr>\n",
       "      <td>50%</td>\n",
       "      <td>0.833333</td>\n",
       "      <td>1.000000</td>\n",
       "      <td>2.016072e+07</td>\n",
       "      <td>1.000000</td>\n",
       "      <td>30.000000</td>\n",
       "      <td>5.000000</td>\n",
       "    </tr>\n",
       "    <tr>\n",
       "      <td>75%</td>\n",
       "      <td>0.900000</td>\n",
       "      <td>3.000000</td>\n",
       "      <td>2.016072e+07</td>\n",
       "      <td>1.000000</td>\n",
       "      <td>30.000000</td>\n",
       "      <td>5.000000</td>\n",
       "    </tr>\n",
       "    <tr>\n",
       "      <td>max</td>\n",
       "      <td>0.990000</td>\n",
       "      <td>10.000000</td>\n",
       "      <td>2.016073e+07</td>\n",
       "      <td>1.000000</td>\n",
       "      <td>500.000000</td>\n",
       "      <td>100.000000</td>\n",
       "    </tr>\n",
       "  </tbody>\n",
       "</table>\n",
       "</div>"
      ],
      "text/plain": [
       "       discount_rate       distance  date_received          if_fd  \\\n",
       "count  113640.000000  113640.000000   1.136400e+05  113640.000000   \n",
       "mean        0.850671       1.974736   2.016072e+07       0.977420   \n",
       "std         0.063551       3.248809   9.019508e+00       0.148561   \n",
       "min         0.333333      -1.000000   2.016070e+07       0.000000   \n",
       "25%         0.833333       0.000000   2.016071e+07       1.000000   \n",
       "50%         0.833333       1.000000   2.016072e+07       1.000000   \n",
       "75%         0.900000       3.000000   2.016072e+07       1.000000   \n",
       "max         0.990000      10.000000   2.016073e+07       1.000000   \n",
       "\n",
       "          full_value  reduction_value  \n",
       "count  113640.000000    113640.000000  \n",
       "mean       43.396507         6.089141  \n",
       "std        44.239815         5.640310  \n",
       "min        -1.000000        -1.000000  \n",
       "25%        30.000000         5.000000  \n",
       "50%        30.000000         5.000000  \n",
       "75%        30.000000         5.000000  \n",
       "max       500.000000       100.000000  "
      ]
     },
     "execution_count": 36,
     "metadata": {},
     "output_type": "execute_result"
    }
   ],
   "source": [
    "dftest.describe()"
   ]
  },
  {
   "cell_type": "code",
   "execution_count": 37,
   "metadata": {},
   "outputs": [
    {
     "data": {
      "text/plain": [
       "0     0.500988\n",
       "1     0.137803\n",
       "10    0.125227\n",
       "2     0.071814\n",
       "3     0.046455\n",
       "4     0.033408\n",
       "5     0.025139\n",
       "6     0.019700\n",
       "7     0.015575\n",
       "8     0.013000\n",
       "9     0.010891\n",
       "Name: distance, dtype: float64"
      ]
     },
     "execution_count": 37,
     "metadata": {},
     "output_type": "execute_result"
    }
   ],
   "source": [
    "dftrain[dftrain.distance >= 0]['distance'].value_counts() / dftrain[\n",
    "    dftrain.distance >= 0]['distance'].count()"
   ]
  },
  {
   "cell_type": "code",
   "execution_count": 38,
   "metadata": {},
   "outputs": [
    {
     "data": {
      "text/plain": [
       "0     0.431864\n",
       "1     0.181874\n",
       "10    0.101924\n",
       "2     0.093752\n",
       "3     0.058419\n",
       "4     0.039438\n",
       "5     0.029308\n",
       "6     0.021452\n",
       "7     0.016589\n",
       "8     0.013379\n",
       "9     0.012001\n",
       "Name: distance, dtype: float64"
      ]
     },
     "execution_count": 38,
     "metadata": {},
     "output_type": "execute_result"
    }
   ],
   "source": [
    "dftest[dftest.distance >= 0]['distance'].value_counts() / dftest[\n",
    "    dftest.distance >= 0]['distance'].count()"
   ]
  },
  {
   "cell_type": "code",
   "execution_count": 39,
   "metadata": {},
   "outputs": [
    {
     "data": {
      "text/plain": [
       "0     0.364509\n",
       "10    0.183892\n",
       "1     0.152033\n",
       "2     0.086069\n",
       "3     0.058229\n",
       "4     0.042997\n",
       "5     0.032928\n",
       "6     0.026195\n",
       "7     0.020890\n",
       "8     0.017433\n",
       "9     0.014824\n",
       "Name: distance, dtype: float64"
      ]
     },
     "execution_count": 39,
     "metadata": {},
     "output_type": "execute_result"
    }
   ],
   "source": [
    "dftrain[(dftrain.label >= 0)\n",
    "        & (dftrain.distance >= 0)]['distance'].value_counts() / dftrain[(\n",
    "            dftrain.label >= 0) & (dftrain.distance >= 0)]['distance'].count()"
   ]
  },
  {
   "cell_type": "code",
   "execution_count": 40,
   "metadata": {},
   "outputs": [
    {
     "data": {
      "text/plain": [
       "0     0.431864\n",
       "1     0.181874\n",
       "10    0.101924\n",
       "2     0.093752\n",
       "3     0.058419\n",
       "4     0.039438\n",
       "5     0.029308\n",
       "6     0.021452\n",
       "7     0.016589\n",
       "8     0.013379\n",
       "9     0.012001\n",
       "Name: distance, dtype: float64"
      ]
     },
     "execution_count": 40,
     "metadata": {},
     "output_type": "execute_result"
    }
   ],
   "source": [
    "dftest[(dftest.distance >= 0)]['distance'].value_counts() / dftest[\n",
    "    (dftest.distance >= 0)]['distance'].count()"
   ]
  },
  {
   "cell_type": "code",
   "execution_count": 41,
   "metadata": {},
   "outputs": [
    {
     "name": "stdout",
     "output_type": "stream",
     "text": [
      "Offline 训练集满减情况\n"
     ]
    },
    {
     "data": {
      "text/plain": [
       "1    0.581241\n",
       "0    0.418759\n",
       "Name: if_fd, dtype: float64"
      ]
     },
     "execution_count": 41,
     "metadata": {},
     "output_type": "execute_result"
    }
   ],
   "source": [
    "print('Offline 训练集满减情况')\n",
    "dftrain.if_fd.value_counts() / dftrain.if_fd.count()"
   ]
  },
  {
   "cell_type": "code",
   "execution_count": 42,
   "metadata": {},
   "outputs": [
    {
     "name": "stdout",
     "output_type": "stream",
     "text": [
      "测试集满减情况\n"
     ]
    },
    {
     "data": {
      "text/plain": [
       "1    0.97742\n",
       "0    0.02258\n",
       "Name: if_fd, dtype: float64"
      ]
     },
     "execution_count": 42,
     "metadata": {},
     "output_type": "execute_result"
    }
   ],
   "source": [
    "print('测试集满减情况')\n",
    "dftest.if_fd.value_counts() / dftest.if_fd.count()"
   ]
  },
  {
   "cell_type": "markdown",
   "metadata": {},
   "source": [
    "## 箱线图查看分布"
   ]
  },
  {
   "cell_type": "code",
   "execution_count": 43,
   "metadata": {},
   "outputs": [
    {
     "data": {
      "text/plain": [
       "<matplotlib.axes._subplots.AxesSubplot at 0x1d3305e2e88>"
      ]
     },
     "execution_count": 43,
     "metadata": {},
     "output_type": "execute_result"
    },
    {
     "data": {
      "image/png": "[encoded data removed]",
      "text/plain": [
       "<Figure size 288x432 with 1 Axes>"
      ]
     },
     "metadata": {
      "needs_background": "light"
     },
     "output_type": "display_data"
    }
   ],
   "source": [
    "fig = plt.figure(figsize=(4, 6))  # 指定绘图对象宽度和高度\n",
    "sns.boxplot(dftrain[(dftrain.label >= 0)\n",
    "                    & (dftrain.distance >= 0)]['distance'],\n",
    "            orient=\"v\",\n",
    "            width=0.5)"
   ]
  },
  {
   "cell_type": "code",
   "execution_count": 44,
   "metadata": {
    "scrolled": true
   },
   "outputs": [
    {
     "data": {
      "text/plain": [
       "<matplotlib.axes._subplots.AxesSubplot at 0x1d303521648>"
      ]
     },
     "execution_count": 44,
     "metadata": {},
     "output_type": "execute_result"
    },
    {
     "data": {
      "image/png": "[encoded data removed]",
      "text/plain": [
       "<Figure size 288x432 with 1 Axes>"
      ]
     },
     "metadata": {
      "needs_background": "light"
     },
     "output_type": "display_data"
    }
   ],
   "source": [
    "fig = plt.figure(figsize=(4, 6))  # 指定绘图对象宽度和高度\n",
    "sns.boxplot(dftrain[(dftrain.label >= 0)\n",
    "                    & (dftrain.discount_rate >= 0)]['discount_rate'],\n",
    "            orient=\"v\",\n",
    "            width=0.5)"
   ]
  },
  {
   "cell_type": "markdown",
   "metadata": {},
   "source": [
    "## 直方图和QQ图"
   ]
  },
  {
   "cell_type": "code",
   "execution_count": 45,
   "metadata": {},
   "outputs": [
    {
     "data": {
      "image/png": "[encoded data removed]",
      "text/plain": [
       "<Figure size 720x360 with 2 Axes>"
      ]
     },
     "metadata": {
      "needs_background": "light"
     },
     "output_type": "display_data"
    }
   ],
   "source": [
    "plt.figure(figsize=(10, 5))\n",
    "\n",
    "ax = plt.subplot(1, 2, 1)\n",
    "sns.distplot(dftrain[(dftrain.label >= 0)\n",
    "                     & (dftrain.distance >= 0)]['distance'],\n",
    "             fit=stats.norm)\n",
    "ax = plt.subplot(1, 2, 2)\n",
    "res = stats.probplot(dftrain[(dftrain.label >= 0)\n",
    "                             & (dftrain.distance >= 0)]['distance'],\n",
    "                     plot=plt)"
   ]
  },
  {
   "cell_type": "code",
   "execution_count": 46,
   "metadata": {
    "scrolled": true
   },
   "outputs": [
    {
     "data": {
      "image/png": "[encoded data removed]",
      "text/plain": [
       "<Figure size 720x360 with 2 Axes>"
      ]
     },
     "metadata": {
      "needs_background": "light"
     },
     "output_type": "display_data"
    }
   ],
   "source": [
    "plt.figure(figsize=(10, 5))\n",
    "\n",
    "ax = plt.subplot(1, 2, 1)\n",
    "sns.distplot(dftrain[(dftrain.label >= 0)\n",
    "                     & (dftrain.discount_rate >= 0)]['discount_rate'],\n",
    "             fit=stats.norm)\n",
    "ax = plt.subplot(1, 2, 2)\n",
    "res = stats.probplot(dftrain[(dftrain.label >= 0)\n",
    "                             & (dftrain.discount_rate >= 0)]['discount_rate'],\n",
    "                     plot=plt)"
   ]
  },
  {
   "cell_type": "markdown",
   "metadata": {},
   "source": [
    "## 对比分布"
   ]
  },
  {
   "cell_type": "code",
   "execution_count": 47,
   "metadata": {},
   "outputs": [],
   "source": [
    "plt.rcParams['figure.figsize'] = (6.0, 4.0)  #设置图片大小"
   ]
  },
  {
   "cell_type": "code",
   "execution_count": 48,
   "metadata": {},
   "outputs": [
    {
     "data": {
      "image/png": "[encoded data removed]",
      "text/plain": [
       "<Figure size 432x288 with 1 Axes>"
      ]
     },
     "metadata": {
      "needs_background": "light"
     },
     "output_type": "display_data"
    }
   ],
   "source": [
    "ax = sns.kdeplot(dftrain[(dftrain.label >= 0)\n",
    "                         & (dftrain.discount_rate >= 0)]['discount_rate'],\n",
    "                 color=\"Red\",\n",
    "                 shade=True)\n",
    "ax = sns.kdeplot(dftest[(dftest.discount_rate >= 0)]['discount_rate'],\n",
    "                 color=\"Blue\",\n",
    "                 shade=True)\n",
    "ax.set_xlabel('discount_rate')\n",
    "ax.set_ylabel(\"Frequency\")\n",
    "ax = ax.legend([\"train\", \"test\"])"
   ]
  },
  {
   "cell_type": "code",
   "execution_count": 49,
   "metadata": {},
   "outputs": [
    {
     "data": {
      "image/png": "[encoded data removed]",
      "text/plain": [
       "<Figure size 432x288 with 1 Axes>"
      ]
     },
     "metadata": {
      "needs_background": "light"
     },
     "output_type": "display_data"
    }
   ],
   "source": [
    "ax = sns.kdeplot(dftrain[(dftrain.label >= 0)\n",
    "                         & (dftrain.distance >= 0)]['distance'],\n",
    "                 color=\"Red\",\n",
    "                 shade=True)\n",
    "ax = sns.kdeplot(dftest[(dftest.distance >= 0)]['distance'],\n",
    "                 color=\"Blue\",\n",
    "                 shade=True)\n",
    "ax.set_xlabel('distance')\n",
    "ax.set_ylabel(\"Frequency\")\n",
    "ax = ax.legend([\"train\", \"test\"])"
   ]
  },
  {
   "cell_type": "code",
   "execution_count": 50,
   "metadata": {},
   "outputs": [
    {
     "data": {
      "image/png": "[encoded data removed]",
      "text/plain": [
       "<Figure size 432x288 with 1 Axes>"
      ]
     },
     "metadata": {
      "needs_background": "light"
     },
     "output_type": "display_data"
    }
   ],
   "source": [
    "ax = sns.kdeplot(dftrain[(dftrain.label >= 0)\n",
    "                         & (dftrain.full_value >= 0)]['full_value'],\n",
    "                 color=\"Red\",\n",
    "                 shade=True)\n",
    "ax = sns.kdeplot(dftest[(dftest.full_value >= 0)]['full_value'],\n",
    "                 color=\"Blue\",\n",
    "                 shade=True)\n",
    "ax.set_xlabel('full_value')\n",
    "ax.set_ylabel(\"Frequency\")\n",
    "ax = ax.legend([\"train\", \"test\"])"
   ]
  },
  {
   "cell_type": "code",
   "execution_count": 51,
   "metadata": {},
   "outputs": [
    {
     "data": {
      "image/png": "[encoded data removed]",
      "text/plain": [
       "<Figure size 432x288 with 1 Axes>"
      ]
     },
     "metadata": {
      "needs_background": "light"
     },
     "output_type": "display_data"
    }
   ],
   "source": [
    "ax = sns.kdeplot(dftrain[(dftrain.label >= 0)\n",
    "                         & (dftrain.reduction_value >= 0)]['reduction_value'],\n",
    "                 color=\"Red\",\n",
    "                 shade=True)\n",
    "ax = sns.kdeplot(dftest[(dftest.reduction_value >= 0)]['reduction_value'],\n",
    "                 color=\"Blue\",\n",
    "                 shade=True)\n",
    "ax.set_xlabel('reduction_value')\n",
    "ax.set_ylabel(\"Frequency\")\n",
    "ax = ax.legend([\"train\", \"test\"])"
   ]
  },
  {
   "cell_type": "markdown",
   "metadata": {},
   "source": [
    "## 可视化线性关系"
   ]
  },
  {
   "cell_type": "code",
   "execution_count": 52,
   "metadata": {},
   "outputs": [
    {
     "data": {
      "image/png": "[encoded data removed]",
      "text/plain": [
       "<Figure size 576x288 with 2 Axes>"
      ]
     },
     "metadata": {
      "needs_background": "light"
     },
     "output_type": "display_data"
    }
   ],
   "source": [
    "fcols = 2\n",
    "frows = 1\n",
    "plt.figure(figsize=(8, 4))\n",
    "ax = plt.subplot(1, 2, 1)\n",
    "sns.regplot(x='distance',\n",
    "            y='label',\n",
    "            data=dftrain[(dftrain.label >= 0)\n",
    "                         & (dftrain.distance >= 0)][['distance', 'label']],\n",
    "            ax=ax,\n",
    "            scatter_kws={\n",
    "                'marker': '.',\n",
    "                's': 3,\n",
    "                'alpha': 0.3\n",
    "            },\n",
    "            line_kws={'color': 'k'})\n",
    "plt.xlabel('distance')\n",
    "plt.ylabel('label')\n",
    "ax = plt.subplot(1, 2, 2)\n",
    "sns.distplot(dftrain[(dftrain.label >= 0)\n",
    "                     & (dftrain.distance >= 0)]['distance'].dropna())\n",
    "plt.xlabel('distance')\n",
    "plt.show()"
   ]
  },
  {
   "cell_type": "code",
   "execution_count": 53,
   "metadata": {},
   "outputs": [
    {
     "data": {
      "image/png": "[encoded data removed]",
      "text/plain": [
       "<Figure size 576x288 with 2 Axes>"
      ]
     },
     "metadata": {
      "needs_background": "light"
     },
     "output_type": "display_data"
    }
   ],
   "source": [
    "fcols = 2\n",
    "frows = 1\n",
    "plt.figure(figsize=(8, 4))\n",
    "ax = plt.subplot(1, 2, 1)\n",
    "sns.regplot(x='discount_rate',\n",
    "            y='label',\n",
    "            data=dftrain[(dftrain.label >= 0) & (dftrain.discount_rate >= 0)][[\n",
    "                'discount_rate', 'label'\n",
    "            ]],\n",
    "            ax=ax,\n",
    "            scatter_kws={\n",
    "                'marker': '.',\n",
    "                's': 3,\n",
    "                'alpha': 0.3\n",
    "            },\n",
    "            line_kws={'color': 'k'})\n",
    "plt.xlabel('discount_rate')\n",
    "plt.ylabel('label')\n",
    "ax = plt.subplot(1, 2, 2)\n",
    "sns.distplot(dftrain[(dftrain.label >= 0)\n",
    "                     & (dftrain.discount_rate >= 0)]['discount_rate'].dropna())\n",
    "plt.xlabel('discount_rate')\n",
    "plt.show()"
   ]
  },
  {
   "cell_type": "code",
   "execution_count": null,
   "metadata": {},
   "outputs": [],
   "source": []
  },
  {
   "cell_type": "code",
   "execution_count": null,
   "metadata": {},
   "outputs": [],
   "source": []
  },
  {
   "cell_type": "code",
   "execution_count": null,
   "metadata": {},
   "outputs": [],
   "source": []
  }
 ],
 "metadata": {
  "kernelspec": {
   "display_name": "Python 3",
   "language": "python",
   "name": "python3"
  },
  "language_info": {
   "codemirror_mode": {
    "name": "ipython",
    "version": 3
   },
   "file_extension": ".py",
   "mimetype": "text/x-python",
   "name": "python",
   "nbconvert_exporter": "python",
   "pygments_lexer": "ipython3",
   "version": "3.7.6"
  },
  "latex_envs": {
   "LaTeX_envs_menu_present": true,
   "autoclose": false,
   "autocomplete": true,
   "bibliofile": "biblio.bib",
   "cite_by": "apalike",
   "current_citInitial": 1,
   "eqLabelWithNumbers": true,
   "eqNumInitial": 1,
   "hotkeys": {
    "equation": "Ctrl-E",
    "itemize": "Ctrl-I"
   },
   "labels_anchors": false,
   "latex_user_defs": false,
   "report_style_numbering": false,
   "user_envs_cfg": false
  },
  "toc": {
   "base_numbering": 1,
   "nav_menu": {},
   "number_sections": true,
   "sideBar": true,
   "skip_h1_title": false,
   "title_cell": "02 数据探索",
   "title_sidebar": "02 数据探索",
   "toc_cell": true,
   "toc_position": {
    "height": "calc(100% - 180px)",
    "left": "10px",
    "top": "150px",
    "width": "265px"
   },
   "toc_section_display": true,
   "toc_window_display": true
  }
 },
 "nbformat": 4,
 "nbformat_minor": 2
}
