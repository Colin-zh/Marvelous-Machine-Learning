{
 "cells": [
  {
   "cell_type": "code",
   "execution_count": 1,
   "metadata": {},
   "outputs": [
    {
     "data": {
      "text/html": [
       "<style>\n",
       ".dataframe td,.dataframe thead th { \n",
       "    note:'pandas表格属性';\n",
       "    white-space: auto;\n",
       "    text-align:left;\n",
       "    border:1px solid;\n",
       "    font-size:12px\n",
       "}\n",
       ".input_prompt{\n",
       "    note:'隐藏cell左边的提示如 In[12]以便于截图';\n",
       "#     display:none;\n",
       "}\n",
       "div.output_text {\n",
       "    note:'输出内容的高度';\n",
       "    max-height: 500px;\n",
       "}\n",
       "div.output_area img{\n",
       "    note:'输出图片的宽度';\n",
       "    max-width:100%\n",
       "}\n",
       "div.output_scroll{\n",
       "    note:'禁用输出的阴影';\n",
       "    box-shadow: none;\n",
       "}\n",
       "</style>\n",
       "<h5>!!以上是作者为了排版而修改的排版效果，请注意是否需要使用!!</h5>\n"
      ],
      "text/plain": [
       "<IPython.core.display.HTML object>"
      ]
     },
     "metadata": {},
     "output_type": "display_data"
    }
   ],
   "source": [
    "%%html\n",
    "<style>\n",
    ".dataframe td,.dataframe thead th { \n",
    "    note:'pandas表格属性';\n",
    "    white-space: auto;\n",
    "    text-align:left;\n",
    "    border:1px solid;\n",
    "    font-size:12px\n",
    "}\n",
    ".input_prompt{\n",
    "    note:'隐藏cell左边的提示如 In[12]以便于截图';\n",
    "#     display:none;\n",
    "}\n",
    "div.output_text {\n",
    "    note:'输出内容的高度';\n",
    "    max-height: 500px;\n",
    "}\n",
    "div.output_area img{\n",
    "    note:'输出图片的宽度';\n",
    "    max-width:100%\n",
    "}\n",
    "div.output_scroll{\n",
    "    note:'禁用输出的阴影';\n",
    "    box-shadow: none;\n",
    "}\n",
    "</style>\n",
    "<h5>!!以上是作者为了排版而修改的排版效果，请注意是否需要使用!!</h5>"
   ]
  },
  {
   "cell_type": "code",
   "execution_count": 2,
   "metadata": {},
   "outputs": [],
   "source": [
    "# 修改pandas默认的现实设置\n",
    "import pandas as pd\n",
    "pd.set_option('display.max_columns',10)  \n",
    "pd.set_option('display.max_rows',20) "
   ]
  },
  {
   "cell_type": "markdown",
   "metadata": {
    "toc": true
   },
   "source": [
    "<h1>模型验证及优化<span class=\"tocSkip\"></span></h1>\n",
    "<div class=\"toc\"><ul class=\"toc-item\"><li><span><a href=\"#模型验证及选择\" data-toc-modified-id=\"模型验证及选择-1\"><span class=\"toc-item-num\">1&nbsp;&nbsp;</span>模型验证及选择</a></span><ul class=\"toc-item\"><li><span><a href=\"#整体说明及准备工作\" data-toc-modified-id=\"整体说明及准备工作-1.1\"><span class=\"toc-item-num\">1.1&nbsp;&nbsp;</span>整体说明及准备工作</a></span></li><li><span><a href=\"#评价指标及预测方式等\" data-toc-modified-id=\"评价指标及预测方式等-1.2\"><span class=\"toc-item-num\">1.2&nbsp;&nbsp;</span>评价指标及预测方式等</a></span></li><li><span><a href=\"#验证方式\" data-toc-modified-id=\"验证方式-1.3\"><span class=\"toc-item-num\">1.3&nbsp;&nbsp;</span>验证方式</a></span><ul class=\"toc-item\"><li><span><a href=\"#简单交叉验证\" data-toc-modified-id=\"简单交叉验证-1.3.1\"><span class=\"toc-item-num\">1.3.1&nbsp;&nbsp;</span>简单交叉验证</a></span></li><li><span><a href=\"#K折交叉验证-K-fold-CV\" data-toc-modified-id=\"K折交叉验证-K-fold-CV-1.3.2\"><span class=\"toc-item-num\">1.3.2&nbsp;&nbsp;</span>K折交叉验证 K-fold CV</a></span></li><li><span><a href=\"#留P法-LPO-CV\" data-toc-modified-id=\"留P法-LPO-CV-1.3.3\"><span class=\"toc-item-num\">1.3.3&nbsp;&nbsp;</span>留P法 LPO CV</a></span></li><li><span><a href=\"#StratifiedKFold\" data-toc-modified-id=\"StratifiedKFold-1.3.4\"><span class=\"toc-item-num\">1.3.4&nbsp;&nbsp;</span>StratifiedKFold</a></span></li></ul></li><li><span><a href=\"#模型比较\" data-toc-modified-id=\"模型比较-1.4\"><span class=\"toc-item-num\">1.4&nbsp;&nbsp;</span>模型比较</a></span><ul class=\"toc-item\"><li><span><a href=\"#线下评测分数\" data-toc-modified-id=\"线下评测分数-1.4.1\"><span class=\"toc-item-num\">1.4.1&nbsp;&nbsp;</span>线下评测分数</a></span></li><li><span><a href=\"#绘制学习曲线进行可视化分析\" data-toc-modified-id=\"绘制学习曲线进行可视化分析-1.4.2\"><span class=\"toc-item-num\">1.4.2&nbsp;&nbsp;</span>绘制学习曲线进行可视化分析</a></span></li></ul></li></ul></li><li><span><a href=\"#模型超参空间及调参\" data-toc-modified-id=\"模型超参空间及调参-2\"><span class=\"toc-item-num\">2&nbsp;&nbsp;</span>模型超参空间及调参</a></span><ul class=\"toc-item\"><li><span><a href=\"#以随机森林为例介绍基本调用方法\" data-toc-modified-id=\"以随机森林为例介绍基本调用方法-2.1\"><span class=\"toc-item-num\">2.1&nbsp;&nbsp;</span>以随机森林为例介绍基本调用方法</a></span><ul class=\"toc-item\"><li><span><a href=\"#穷举网格搜索\" data-toc-modified-id=\"穷举网格搜索-2.1.1\"><span class=\"toc-item-num\">2.1.1&nbsp;&nbsp;</span>穷举网格搜索</a></span></li><li><span><a href=\"#随机参数优化\" data-toc-modified-id=\"随机参数优化-2.1.2\"><span class=\"toc-item-num\">2.1.2&nbsp;&nbsp;</span>随机参数优化</a></span></li></ul></li><li><span><a href=\"#F3特征集和LightGBM-网格调参\" data-toc-modified-id=\"F3特征集和LightGBM-网格调参-2.2\"><span class=\"toc-item-num\">2.2&nbsp;&nbsp;</span>F3特征集和LightGBM 网格调参</a></span></li><li><span><a href=\"#绘制验证曲线\" data-toc-modified-id=\"绘制验证曲线-2.3\"><span class=\"toc-item-num\">2.3&nbsp;&nbsp;</span>绘制验证曲线</a></span></li></ul></li></ul></div>"
   ]
  },
  {
   "cell_type": "markdown",
   "metadata": {},
   "source": [
    "# 模型验证及选择\n",
    "\n",
    "## 整体说明及准备工作"
   ]
  },
  {
   "cell_type": "markdown",
   "metadata": {},
   "source": [
    "按照：\n",
    "评价指标\n",
    "验证方式\n",
    "学习曲线\n",
    "结果分析，模型选择\n",
    "模型调参\n",
    "的步骤对模型进行选择，调优"
   ]
  },
  {
   "cell_type": "code",
   "execution_count": 3,
   "metadata": {},
   "outputs": [],
   "source": [
    "from sklearn import metrics  \n",
    "import numpy as np  \n",
    "import pandas as pd\n",
    "import datetime\n",
    "from sklearn.model_selection import StratifiedKFold\n",
    "import lightgbm as lgb\n",
    "import xgboost as xgb\n",
    "import matplotlib.pyplot as plt\n",
    "from sklearn.naive_bayes import GaussianNB\n",
    "from sklearn.model_selection import learning_curve\n",
    "from sklearn.model_selection import ShuffleSplit\n",
    "from sklearn.model_selection import GridSearchCV\n",
    "#########部分SKLearn 集成的算法###############\n",
    "from sklearn.neighbors import KNeighborsClassifier  \n",
    "from sklearn.ensemble import RandomForestClassifier\n",
    "from sklearn import tree  \n",
    "from sklearn.ensemble import GradientBoostingClassifier\n",
    "from sklearn.svm import SVC \n",
    "from sklearn.linear_model import LogisticRegression\n",
    "from xgboost import XGBClassifier\n",
    "from lightgbm import LGBMClassifier\n",
    "from sklearn.naive_bayes import MultinomialNB \n",
    "#########SKLearn 集成的算法###############\n",
    "import warnings\n",
    "warnings.filterwarnings(\"ignore\")\n",
    " \n",
    "%matplotlib inline\n",
    "############全局参数#################################\n",
    "id_col_names=['user_id','coupon_id','date_received']\n",
    "target_col_name='label'\n",
    "id_target_cols=['user_id','coupon_id','date_received','label']\n",
    "myeval='roc_auc'\n",
    "#cvscore=0\n",
    "############目录定义#################################\n",
    "datapath = '../data/' \n",
    "featurepath = '../feature/' \n",
    "resultpath = '../result/'\n",
    "tmppath = '../tmp/'\n",
    "scorepath = '../score/'\n"
   ]
  },
  {
   "cell_type": "code",
   "execution_count": 4,
   "metadata": {},
   "outputs": [],
   "source": [
    "###########工具函数#############################################\n",
    "#返回ID列\n",
    "def get_id_df(df):\n",
    "    return df[id_col_names]\n",
    "\n",
    "\n",
    "#返回Target列\n",
    "def get_target_df(df):\n",
    "    return df[target_col_name]\n",
    "\n",
    "\n",
    "#返回特征列\n",
    "def get_predictors_df(df):\n",
    "    predictors = [f for f in df.columns if f not in id_target_cols]\n",
    "    return df[predictors]\n",
    "\n",
    "\n",
    "#按特征名读取训练集\n",
    "def read_featurefile_train(featurename):\n",
    "    df = pd.read_csv(featurepath + 'train_' + featurename + '.csv',\n",
    "                     sep=',',\n",
    "                     encoding=\"utf-8\")\n",
    "    df.fillna(0, inplace=True)\n",
    "    return df\n",
    "\n",
    "\n",
    "#按特征名读取测试集\n",
    "def read_featurefile_test(featurename):\n",
    "    df = pd.read_csv(featurepath + 'test_' + featurename + '.csv',\n",
    "                     sep=',',\n",
    "                     encoding=\"utf-8\")\n",
    "    df.fillna(0, inplace=True)\n",
    "    return df\n",
    "\n",
    "\n",
    "# 将特征归一化\n",
    "def standize_df(train_data, test_data):\n",
    "    from sklearn import preprocessing\n",
    "\n",
    "    features_columns = [\n",
    "        f for f in test_data.columns if f not in id_target_cols\n",
    "    ]\n",
    "    min_max_scaler = preprocessing.MinMaxScaler()\n",
    "    min_max_scaler = min_max_scaler.fit(train_data[features_columns])\n",
    "\n",
    "    train_data_scaler = min_max_scaler.transform(train_data[features_columns])\n",
    "    test_data_scaler = min_max_scaler.transform(test_data[features_columns])\n",
    "\n",
    "    train_data_scaler = pd.DataFrame(train_data_scaler)\n",
    "    train_data_scaler.columns = features_columns\n",
    "\n",
    "    test_data_scaler = pd.DataFrame(test_data_scaler)\n",
    "    test_data_scaler.columns = features_columns\n",
    "\n",
    "    train_data_scaler['label'] = train_data['label']\n",
    "    train_data_scaler[id_col_names] = train_data[id_col_names]\n",
    "    test_data_scaler[id_col_names] = test_data[id_col_names]\n",
    "    return train_data_scaler, test_data_scaler\n",
    "\n",
    "\n",
    "#按特征名读取数据\n",
    "def read_data(featurename):\n",
    "    traindf = read_featurefile_train(featurename)\n",
    "    testdf = read_featurefile_test(featurename)\n",
    "    #return traindf,testdf\n",
    "    return standize_df(traindf, testdf)"
   ]
  },
  {
   "cell_type": "code",
   "execution_count": 5,
   "metadata": {},
   "outputs": [],
   "source": [
    "#数据读取\n",
    "#所有的特征都是上一节生成的\n",
    "train_f1, test_f1 = read_data('f1')\n",
    "#所有的特征都是上一节生成的\n",
    "train_f2, test_f2 = read_data('sf2')\n",
    "#所有的特征都是上一节生成的\n",
    "train_f3, test_f3 = read_data('sf3')"
   ]
  },
  {
   "cell_type": "markdown",
   "metadata": {},
   "source": [
    "## 评价指标及预测方式等"
   ]
  },
  {
   "cell_type": "code",
   "execution_count": 6,
   "metadata": {},
   "outputs": [],
   "source": [
    "#性能评价函数\n",
    "#本赛题目标是预测投放的优惠券是否核销。\n",
    "#针对此任务及一些相关背景知识，使用优惠券核销预测的平均AUC（ROC曲线下面积）作为评价标准。\n",
    "#即对每个优惠券coupon_id单独计算核销预测的AUC值，再对所有优惠券的AUC值求平均作为最终的评价标准。\n",
    "# coupon平均auc计算\n",
    "from sklearn.metrics import roc_auc_score\n",
    "\n",
    "\n",
    "def myauc(test):\n",
    "    testgroup = test.groupby(['coupon_id'])\n",
    "    aucs = []\n",
    "    for i in testgroup:\n",
    "        coupon_df = i[1]\n",
    "        #测算AUC必须大于1个类别\n",
    "        if len(coupon_df['label'].unique()) < 2:\n",
    "            continue\n",
    "        auc = metrics.roc_auc_score(coupon_df['label'], coupon_df['pred'])\n",
    "        aucs.append(auc)\n",
    "    return np.average(aucs)"
   ]
  },
  {
   "cell_type": "markdown",
   "metadata": {},
   "source": [
    "虽然赛题是按照coupon的AUC来计算。不过因为整体AUC（也就是用roc_auc_score 求出的结果）与Coupon AUC同增同减，所以在进行评估的时候可以直接使用整体AUC。"
   ]
  },
  {
   "cell_type": "markdown",
   "metadata": {},
   "source": [
    "预测方式，因为要的结果是购买的几率，所以不能直接用Predict因为这样会直接返回0,1,而要用predict_proba，它会返回每个类别的可能行，取其中为1的列即可"
   ]
  },
  {
   "cell_type": "markdown",
   "metadata": {},
   "source": [
    "## 验证方式"
   ]
  },
  {
   "cell_type": "markdown",
   "metadata": {},
   "source": [
    "### 简单交叉验证"
   ]
  },
  {
   "cell_type": "code",
   "execution_count": 7,
   "metadata": {},
   "outputs": [
    {
     "name": "stdout",
     "output_type": "stream",
     "text": [
      "LogisticRegression train 总体AUC:    0.6634424527048536\n",
      "LogisticRegression test 总体AUC:    0.6674703678292377\n",
      "LogisticRegression train Coupon AUC:    0.540286974067141\n",
      "LogisticRegression test Coupon AUC:    0.5410440709758992\n"
     ]
    }
   ],
   "source": [
    "# 简单交叉验证F1\n",
    "\n",
    "from sklearn.model_selection import train_test_split  # 切分数据\n",
    "target = get_target_df(train_f1).copy()\n",
    "traindf = train_f1.copy()\n",
    "# 切分数据 训练数据80% 验证数据20%\n",
    "train_all, test_all, train_target, test_target = train_test_split(\n",
    "    traindf, target, test_size=0.2, random_state=0)\n",
    "\n",
    "train_data = get_predictors_df(train_all).copy()\n",
    "test_data = get_predictors_df(test_all).copy()\n",
    "\n",
    "clf = LogisticRegression()\n",
    "clf.fit(train_data, train_target)\n",
    "train_pred = clf.predict_proba(train_data)[:, 1]\n",
    "test_pred = clf.predict_proba(test_data)[:, 1]\n",
    "\n",
    "score_train = roc_auc_score(train_target, train_pred)\n",
    "score_test = roc_auc_score(test_target, test_pred)\n",
    "print(\"LogisticRegression train 总体AUC:   \", score_train)\n",
    "print(\"LogisticRegression test 总体AUC:   \", score_test)\n",
    "\n",
    "train_all['pred'] = train_pred\n",
    "test_all['pred'] = test_pred\n",
    "print(\"LogisticRegression train Coupon AUC:   \", myauc(train_all))\n",
    "print(\"LogisticRegression test Coupon AUC:   \", myauc(test_all))"
   ]
  },
  {
   "cell_type": "code",
   "execution_count": 8,
   "metadata": {},
   "outputs": [
    {
     "name": "stdout",
     "output_type": "stream",
     "text": [
      "LogisticRegression train 总体AUC:    0.8401632612736963\n",
      "LogisticRegression test 总体AUC:    0.8407963973598427\n",
      "LogisticRegression train Coupon AUC:    0.7124120705235216\n",
      "LogisticRegression test Coupon AUC:    0.7327117645422953\n"
     ]
    }
   ],
   "source": [
    "# 简单交叉验证 F3\n",
    "\n",
    "from sklearn.model_selection import train_test_split  # 切分数据\n",
    "\n",
    "target = get_target_df(train_f3).copy()\n",
    "traindf = train_f3.copy()\n",
    "\n",
    "# 切分数据 训练数据80% 验证数据20%\n",
    "train_all, test_all, train_target, test_target = train_test_split(\n",
    "    traindf, target, test_size=0.2, random_state=0)\n",
    "\n",
    "train_data = get_predictors_df(train_all).copy()\n",
    "test_data = get_predictors_df(test_all).copy()\n",
    "\n",
    "clf = LogisticRegression()\n",
    "clf.fit(train_data, train_target)\n",
    "train_pred = clf.predict_proba(train_data)[:, 1]\n",
    "test_pred = clf.predict_proba(test_data)[:, 1]\n",
    "\n",
    "score_train = roc_auc_score(train_target, train_pred)\n",
    "score_test = roc_auc_score(test_target, test_pred)\n",
    "print(\"LogisticRegression train 总体AUC:   \", score_train)\n",
    "print(\"LogisticRegression test 总体AUC:   \", score_test)\n",
    "\n",
    "train_all['pred'] = train_pred\n",
    "test_all['pred'] = test_pred\n",
    "print(\"LogisticRegression train Coupon AUC:   \", myauc(train_all))\n",
    "print(\"LogisticRegression test Coupon AUC:   \", myauc(test_all))"
   ]
  },
  {
   "cell_type": "markdown",
   "metadata": {},
   "source": [
    "### K折交叉验证 K-fold CV"
   ]
  },
  {
   "cell_type": "code",
   "execution_count": 9,
   "metadata": {},
   "outputs": [
    {
     "name": "stdout",
     "output_type": "stream",
     "text": [
      "1  折 LogisticRegression train 总体AUC:    0.8331587411477548\n",
      "1  折 LogisticRegression test 总体AUC:    0.8684165166166979\n",
      "1  折 LogisticRegression train Coupon AUC:    0.7115502158661619\n",
      "1  折 LogisticRegression test Coupon AUC:    0.7239951466590894 \n",
      "\n",
      "2  折 LogisticRegression train 总体AUC:    0.8335549195186673\n",
      "2  折 LogisticRegression test 总体AUC:    0.8652683000539335\n",
      "2  折 LogisticRegression train Coupon AUC:    0.7143705158721593\n",
      "2  折 LogisticRegression test Coupon AUC:    0.7147310370114887 \n",
      "\n",
      "3  折 LogisticRegression train 总体AUC:    0.8445411734854178\n",
      "3  折 LogisticRegression test 总体AUC:    0.8210357416287534\n",
      "3  折 LogisticRegression train Coupon AUC:    0.7177615895085989\n",
      "3  折 LogisticRegression test Coupon AUC:    0.7206336189190645 \n",
      "\n",
      "4  折 LogisticRegression train 总体AUC:    0.8457626665332536\n",
      "4  折 LogisticRegression test 总体AUC:    0.8172040524606592\n",
      "4  折 LogisticRegression train Coupon AUC:    0.7098587244005776\n",
      "4  折 LogisticRegression test Coupon AUC:    0.7407145414616322 \n",
      "\n",
      "5  折 LogisticRegression train 总体AUC:    0.8458179727089516\n",
      "5  折 LogisticRegression test 总体AUC:    0.8164750509974038\n",
      "5  折 LogisticRegression train Coupon AUC:    0.7120782700371108\n",
      "5  折 LogisticRegression test Coupon AUC:    0.7299876449647462 \n",
      "\n"
     ]
    }
   ],
   "source": [
    "# 5折交叉验证\n",
    "train = train_f3.copy()\n",
    "target = get_target_df(train_f3).copy()\n",
    "\n",
    "from sklearn.model_selection import KFold\n",
    "\n",
    "kf = KFold(n_splits=5)\n",
    "for k, (train_index, test_index) in enumerate(kf.split(train)):\n",
    "    train_data, test_data, train_target, test_target = train.iloc[\n",
    "        train_index], train.iloc[test_index], target[train_index], target[\n",
    "            test_index]\n",
    "    clf = LogisticRegression()\n",
    "    clf.fit(get_predictors_df(train_data), train_target)\n",
    "\n",
    "    train_pred = clf.predict_proba(get_predictors_df(train_data))[:, 1]\n",
    "    test_pred = clf.predict_proba(get_predictors_df(test_data))[:, 1]\n",
    "    score_train = roc_auc_score(train_target, train_pred)\n",
    "    score_test = roc_auc_score(test_target, test_pred)\n",
    "    train_data['pred'] = train_pred\n",
    "    test_data['pred'] = test_pred\n",
    "    print(k + 1, \" 折\", \"LogisticRegression train 总体AUC:   \", score_train)\n",
    "    print(k + 1, \" 折\", \"LogisticRegression test 总体AUC:   \", score_test)\n",
    "    print(k + 1, \" 折\", \"LogisticRegression train Coupon AUC:   \",\n",
    "          myauc(train_data))\n",
    "    print(k + 1, \" 折\", \"LogisticRegression test Coupon AUC:   \",\n",
    "          myauc(test_data), '\\n')"
   ]
  },
  {
   "cell_type": "markdown",
   "metadata": {},
   "source": [
    "### 留P法 LPO CV"
   ]
  },
  {
   "cell_type": "code",
   "execution_count": 10,
   "metadata": {
    "scrolled": true
   },
   "outputs": [
    {
     "name": "stdout",
     "output_type": "stream",
     "text": [
      "1  折 LogisticRegression train 总体AUC:    0.8403689320302499\n",
      "1  折 LogisticRegression test 总体AUC:    0.8783244680851063\n",
      "1  折 LogisticRegression train Coupon AUC:    0.711733094863993\n",
      "1  折 LogisticRegression test Coupon AUC:    0.6578947368421053 \n",
      "\n",
      "2  折 LogisticRegression train 总体AUC:    0.8403752056024251\n",
      "2  折 LogisticRegression test 总体AUC:    0.8783244680851063\n",
      "2  折 LogisticRegression train Coupon AUC:    0.7116736866974863\n",
      "2  折 LogisticRegression test Coupon AUC:    0.675 \n",
      "\n",
      "3  折 LogisticRegression train 总体AUC:    0.840375304593119\n",
      "3  折 LogisticRegression test 总体AUC:    0.8783244680851063\n",
      "3  折 LogisticRegression train Coupon AUC:    0.7124268324697342\n",
      "3  折 LogisticRegression test Coupon AUC:    0.6578947368421053 \n",
      "\n",
      "4  折 LogisticRegression train 总体AUC:    0.8403767743094317\n",
      "4  折 LogisticRegression test 总体AUC:    0.8783244680851063\n",
      "4  折 LogisticRegression train Coupon AUC:    0.7124294197452108\n",
      "4  折 LogisticRegression test Coupon AUC:    0.6578947368421053 \n",
      "\n",
      "5  折 LogisticRegression train 总体AUC:    0.8403729258615148\n",
      "5  折 LogisticRegression test 总体AUC:    0.8747783687943261\n",
      "5  折 LogisticRegression train Coupon AUC:    0.7117278138201153\n",
      "5  折 LogisticRegression test Coupon AUC:    0.6578947368421053 \n",
      "\n",
      "6  折 LogisticRegression train 总体AUC:    0.8403727576512083\n",
      "6  折 LogisticRegression test 总体AUC:    0.8765514184397163\n",
      "6  折 LogisticRegression train Coupon AUC:    0.7124295063411288\n",
      "6  折 LogisticRegression test Coupon AUC:    0.6578947368421053 \n",
      "\n"
     ]
    }
   ],
   "source": [
    "train = train_f3.copy()\n",
    "target = get_target_df(train_f3).copy()\n",
    "\n",
    "from sklearn.model_selection import LeavePOut\n",
    "lpo = LeavePOut(p=200)\n",
    "num = 100\n",
    "for k, (train_index, test_index) in enumerate(lpo.split(train)):\n",
    "    train_data, test_data, train_target, test_target = train.iloc[\n",
    "        train_index], train.iloc[test_index], target[train_index], target[\n",
    "            test_index]\n",
    "    clf = LogisticRegression()\n",
    "    clf.fit(get_predictors_df(train_data), train_target)\n",
    "\n",
    "    train_pred = clf.predict_proba(get_predictors_df(train_data))[:, 1]\n",
    "    test_pred = clf.predict_proba(get_predictors_df(test_data))[:, 1]\n",
    "    score_train = roc_auc_score(train_target, train_pred)\n",
    "    score_test = roc_auc_score(test_target, test_pred)\n",
    "    train_data['pred'] = train_pred\n",
    "    test_data['pred'] = test_pred\n",
    "    print(k + 1, \" 折\", \"LogisticRegression train 总体AUC:   \", score_train)\n",
    "    print(k + 1, \" 折\", \"LogisticRegression test 总体AUC:   \", score_test)\n",
    "    print(k + 1, \" 折\", \"LogisticRegression train Coupon AUC:   \",\n",
    "          myauc(train_data))\n",
    "    print(k + 1, \" 折\", \"LogisticRegression test Coupon AUC:   \",\n",
    "          myauc(test_data), '\\n')\n",
    "    if k >= 5:\n",
    "        break"
   ]
  },
  {
   "cell_type": "markdown",
   "metadata": {},
   "source": [
    "### StratifiedKFold\n",
    "通过比较发现还是StratifiedKFold比较适合本赛题。因为本赛题正负样本分布不均匀。而StratifiedKFold 分层采样交叉切分，确保训练集，测试集中各类别样本的比例与原始数据集中相同。"
   ]
  },
  {
   "cell_type": "code",
   "execution_count": 11,
   "metadata": {},
   "outputs": [
    {
     "name": "stdout",
     "output_type": "stream",
     "text": [
      "1  折 LogisticRegression train 总体AUC:    0.8335672883670855\n",
      "1  折 LogisticRegression test 总体AUC:    0.8665180570386886\n",
      "1  折 LogisticRegression train Coupon AUC:    0.7144669664663063\n",
      "1  折 LogisticRegression test Coupon AUC:    0.719460319253799 \n",
      "\n",
      "2  折 LogisticRegression train 总体AUC:    0.8340413905539288\n",
      "2  折 LogisticRegression test 总体AUC:    0.8667059995817261\n",
      "2  折 LogisticRegression train Coupon AUC:    0.7112422291800881\n",
      "2  折 LogisticRegression test Coupon AUC:    0.7274937066158953 \n",
      "\n",
      "3  折 LogisticRegression train 总体AUC:    0.8438176760654955\n",
      "3  折 LogisticRegression test 总体AUC:    0.8265719308545689\n",
      "3  折 LogisticRegression train Coupon AUC:    0.7138094614638892\n",
      "3  折 LogisticRegression test Coupon AUC:    0.7219695766522634 \n",
      "\n",
      "4  折 LogisticRegression train 总体AUC:    0.8458785217849514\n",
      "4  折 LogisticRegression test 总体AUC:    0.8162153381918147\n",
      "4  折 LogisticRegression train Coupon AUC:    0.7128195497759101\n",
      "4  折 LogisticRegression test Coupon AUC:    0.7409048621174605 \n",
      "\n",
      "5  折 LogisticRegression train 总体AUC:    0.8459648876989363\n",
      "5  折 LogisticRegression test 总体AUC:    0.8166881287904217\n",
      "5  折 LogisticRegression train Coupon AUC:    0.7124062588848254\n",
      "5  折 LogisticRegression test Coupon AUC:    0.7306691003952328 \n",
      "\n"
     ]
    }
   ],
   "source": [
    "# 5折交叉验证\n",
    "train = train_f3.copy()\n",
    "target = get_target_df(train_f3).copy()\n",
    "\n",
    "from sklearn.model_selection import StratifiedKFold\n",
    "\n",
    "kf = StratifiedKFold(n_splits=5)\n",
    "for k, (train_index, test_index) in enumerate(kf.split(train, target)):\n",
    "    train_data, test_data, train_target, test_target = train.iloc[\n",
    "        train_index], train.iloc[test_index], target[train_index], target[\n",
    "            test_index]\n",
    "    clf = LogisticRegression()\n",
    "    clf.fit(get_predictors_df(train_data), train_target)\n",
    "\n",
    "    train_pred = clf.predict_proba(get_predictors_df(train_data))[:, 1]\n",
    "    test_pred = clf.predict_proba(get_predictors_df(test_data))[:, 1]\n",
    "    score_train = roc_auc_score(train_target, train_pred)\n",
    "    score_test = roc_auc_score(test_target, test_pred)\n",
    "    train_data['pred'] = train_pred\n",
    "    test_data['pred'] = test_pred\n",
    "    print(k + 1, \" 折\", \"LogisticRegression train 总体AUC:   \", score_train)\n",
    "    print(k + 1, \" 折\", \"LogisticRegression test 总体AUC:   \", score_test)\n",
    "    print(k + 1, \" 折\", \"LogisticRegression train Coupon AUC:   \",\n",
    "          myauc(train_data))\n",
    "    print(k + 1, \" 折\", \"LogisticRegression test Coupon AUC:   \",\n",
    "          myauc(test_data), '\\n')"
   ]
  },
  {
   "cell_type": "markdown",
   "metadata": {},
   "source": [
    "## 模型比较"
   ]
  },
  {
   "cell_type": "markdown",
   "metadata": {},
   "source": [
    "### 线下评测分数\n",
    "选定StratifiedKFold后我们可以直接用上面的方法对不同模型进行比对。也可以sklearn.model_selection.cross_val_score函数。它在cv是整数，而且目标是类别的时候也是用的StratifiedKFold。具体看：\n",
    "https://scikit-learn.org/stable/modules/generated/sklearn.model_selection.cross_val_score.html\n",
    "不过本赛题因为评测指标是按Coupon的AUC，所以不能用它，要自己计算。"
   ]
  },
  {
   "cell_type": "code",
   "execution_count": 12,
   "metadata": {},
   "outputs": [],
   "source": [
    "####################使用sklearn的统一代码框架##########################\n",
    "#提供的函数包括：\n",
    "#classifier_single(featurename,classifier,cvnum)\n",
    "#按满减情况分别预测\n",
    "#classifier_single_sep_fd(featurename,classifier,cvnum):\n",
    "####################整合在sklearn的分类算法###############\n",
    "def get_sklearn_model(model_name, param=None):\n",
    "    #朴素贝叶斯\n",
    "    if model_name == 'NB':\n",
    "        model = MultinomialNB(alpha=0.01)\n",
    "    #逻辑回归\n",
    "    elif model_name == 'LR':\n",
    "        model = LogisticRegression(penalty='l2')\n",
    "    # KNN\n",
    "    elif model_name == 'KNN':\n",
    "        model = KNeighborsClassifier()\n",
    "    #随机森林\n",
    "    elif model_name == 'RF':\n",
    "        model = RandomForestClassifier()\n",
    "    #决策树\n",
    "    elif model_name == 'DT':\n",
    "        model = tree.DecisionTreeClassifier()\n",
    "    #向量机\n",
    "    elif model_name == 'SVC':\n",
    "        model = SVC(kernel='rbf')\n",
    "    #GBDT\n",
    "    elif model_name == 'GBDT':\n",
    "        model = GradientBoostingClassifier()\n",
    "    #XGBoost\n",
    "    elif model_name == 'XGB':\n",
    "        model = XGBClassifier()\n",
    "    #lightGBM\n",
    "    elif model_name == 'LGB':\n",
    "        model = LGBMClassifier()\n",
    "    else:\n",
    "        print(\"wrong model name!\")\n",
    "        return\n",
    "    if param is not None:\n",
    "        model.set_params(**param)\n",
    "    return model\n",
    "\n",
    "\n",
    "#对算法进行分析\n",
    "def classifier_df_score(train_feat, classifier, cvnum, param=None):\n",
    "    clf = get_sklearn_model(classifier, param)\n",
    "    train = train_feat.copy()\n",
    "    target = get_target_df(train_feat).copy()\n",
    "    kf = StratifiedKFold(n_splits=cvnum)\n",
    "\n",
    "    scores = []\n",
    "    score_coupons = []\n",
    "    for k, (train_index, test_index) in enumerate(kf.split(train, target)):\n",
    "        train_data, test_data, train_target, test_target = train.iloc[\n",
    "            train_index], train.iloc[test_index], target[train_index], target[\n",
    "                test_index]\n",
    "        clf.fit(get_predictors_df(train_data), train_target)\n",
    "        train_pred = clf.predict_proba(get_predictors_df(train_data))[:, 1]\n",
    "        test_pred = clf.predict_proba(get_predictors_df(test_data))[:, 1]\n",
    "\n",
    "        score_test = roc_auc_score(test_target, test_pred)\n",
    "        test_data['pred'] = test_pred\n",
    "        score_coupon_test = myauc(test_data)\n",
    "\n",
    "        scores.append(score_test)\n",
    "        score_coupons.append(score_coupon_test)\n",
    "\n",
    "    print(classifier + \"总体AUC:\", scores)\n",
    "    print(classifier + \"Coupon AUC:\", score_coupons)"
   ]
  },
  {
   "cell_type": "code",
   "execution_count": 13,
   "metadata": {
    "scrolled": true
   },
   "outputs": [
    {
     "data": {
      "text/html": [
       "<div>\n",
       "<style scoped>\n",
       "    .dataframe tbody tr th:only-of-type {\n",
       "        vertical-align: middle;\n",
       "    }\n",
       "\n",
       "    .dataframe tbody tr th {\n",
       "        vertical-align: top;\n",
       "    }\n",
       "\n",
       "    .dataframe thead th {\n",
       "        text-align: right;\n",
       "    }\n",
       "</style>\n",
       "<table border=\"1\" class=\"dataframe\">\n",
       "  <thead>\n",
       "    <tr style=\"text-align: right;\">\n",
       "      <th></th>\n",
       "      <th>discount_rate</th>\n",
       "      <th>distance</th>\n",
       "      <th>if_fd</th>\n",
       "      <th>full_value</th>\n",
       "      <th>reduction_value</th>\n",
       "      <th>label</th>\n",
       "      <th>user_id</th>\n",
       "      <th>coupon_id</th>\n",
       "      <th>date_received</th>\n",
       "    </tr>\n",
       "  </thead>\n",
       "  <tbody>\n",
       "    <tr>\n",
       "      <td>0</td>\n",
       "      <td>0.812785</td>\n",
       "      <td>0.1</td>\n",
       "      <td>1.0</td>\n",
       "      <td>0.500000</td>\n",
       "      <td>0.20</td>\n",
       "      <td>0</td>\n",
       "      <td>1439408</td>\n",
       "      <td>11002</td>\n",
       "      <td>20160528</td>\n",
       "    </tr>\n",
       "    <tr>\n",
       "      <td>1</td>\n",
       "      <td>0.939117</td>\n",
       "      <td>0.0</td>\n",
       "      <td>1.0</td>\n",
       "      <td>0.066667</td>\n",
       "      <td>0.01</td>\n",
       "      <td>0</td>\n",
       "      <td>1439408</td>\n",
       "      <td>8591</td>\n",
       "      <td>20160613</td>\n",
       "    </tr>\n",
       "    <tr>\n",
       "      <td>2</td>\n",
       "      <td>0.939117</td>\n",
       "      <td>0.0</td>\n",
       "      <td>1.0</td>\n",
       "      <td>0.066667</td>\n",
       "      <td>0.01</td>\n",
       "      <td>0</td>\n",
       "      <td>1439408</td>\n",
       "      <td>8591</td>\n",
       "      <td>20160516</td>\n",
       "    </tr>\n",
       "    <tr>\n",
       "      <td>3</td>\n",
       "      <td>0.761035</td>\n",
       "      <td>0.0</td>\n",
       "      <td>1.0</td>\n",
       "      <td>0.100000</td>\n",
       "      <td>0.05</td>\n",
       "      <td>0</td>\n",
       "      <td>2029232</td>\n",
       "      <td>1532</td>\n",
       "      <td>20160530</td>\n",
       "    </tr>\n",
       "    <tr>\n",
       "      <td>4</td>\n",
       "      <td>0.939117</td>\n",
       "      <td>0.0</td>\n",
       "      <td>1.0</td>\n",
       "      <td>0.066667</td>\n",
       "      <td>0.01</td>\n",
       "      <td>0</td>\n",
       "      <td>2029232</td>\n",
       "      <td>12737</td>\n",
       "      <td>20160519</td>\n",
       "    </tr>\n",
       "  </tbody>\n",
       "</table>\n",
       "</div>"
      ],
      "text/plain": [
       "   discount_rate  distance  if_fd  full_value  reduction_value  label  \\\n",
       "0       0.812785       0.1    1.0    0.500000             0.20      0   \n",
       "1       0.939117       0.0    1.0    0.066667             0.01      0   \n",
       "2       0.939117       0.0    1.0    0.066667             0.01      0   \n",
       "3       0.761035       0.0    1.0    0.100000             0.05      0   \n",
       "4       0.939117       0.0    1.0    0.066667             0.01      0   \n",
       "\n",
       "   user_id  coupon_id  date_received  \n",
       "0  1439408      11002       20160528  \n",
       "1  1439408       8591       20160613  \n",
       "2  1439408       8591       20160516  \n",
       "3  2029232       1532       20160530  \n",
       "4  2029232      12737       20160519  "
      ]
     },
     "execution_count": 13,
     "metadata": {},
     "output_type": "execute_result"
    }
   ],
   "source": [
    "#f1特征\n",
    "train = train_f1.copy()\n",
    "train.head()"
   ]
  },
  {
   "cell_type": "code",
   "execution_count": 14,
   "metadata": {
    "scrolled": true
   },
   "outputs": [
    {
     "name": "stdout",
     "output_type": "stream",
     "text": [
      "特征f1, 不同模型5折训练Score：\n",
      "NB总体AUC: [0.6484443076650914, 0.653782946558422, 0.657432305119762, 0.650365868900341, 0.6633592555110361]\n",
      "NBCoupon AUC: [0.5363634518948031, 0.5338224316610605, 0.533498393240069, 0.5415347391633621, 0.5384562409294064]\n",
      "LR总体AUC: [0.6629734010151047, 0.6609443401627635, 0.664057866660277, 0.6626167442257056, 0.6708052117988299]\n",
      "LRCoupon AUC: [0.5363634518948031, 0.5338224316610605, 0.533498393240069, 0.5415347391633621, 0.5384562409294064]\n",
      "RF总体AUC: [0.6837299437187315, 0.684537761465094, 0.6841457780882024, 0.6816223966577881, 0.6870504059995632]\n",
      "RFCoupon AUC: [0.5308996485051398, 0.5283769070557913, 0.5227865786073982, 0.5286266292875597, 0.5393767768279629]\n",
      "LGB总体AUC: [0.6851859959693405, 0.685200258947734, 0.6857321947111865, 0.6829574074515359, 0.6888458641150075]\n",
      "LGBCoupon AUC: [0.5332253932949081, 0.5264648698156732, 0.5269345156817808, 0.5323563904224374, 0.5405386626715268]\n"
     ]
    }
   ],
   "source": [
    "print('特征f1, 不同模型5折训练Score：')\n",
    "classifier_df_score(train, 'NB', 5)\n",
    "classifier_df_score(train, 'LR', 5)\n",
    "classifier_df_score(train, 'RF', 5)\n",
    "classifier_df_score(train, 'LGB', 5)"
   ]
  },
  {
   "cell_type": "code",
   "execution_count": 15,
   "metadata": {},
   "outputs": [
    {
     "data": {
      "text/html": [
       "<div>\n",
       "<style scoped>\n",
       "    .dataframe tbody tr th:only-of-type {\n",
       "        vertical-align: middle;\n",
       "    }\n",
       "\n",
       "    .dataframe tbody tr th {\n",
       "        vertical-align: top;\n",
       "    }\n",
       "\n",
       "    .dataframe thead th {\n",
       "        text-align: right;\n",
       "    }\n",
       "</style>\n",
       "<table border=\"1\" class=\"dataframe\">\n",
       "  <thead>\n",
       "    <tr style=\"text-align: right;\">\n",
       "      <th></th>\n",
       "      <th>discount_rate</th>\n",
       "      <th>distance</th>\n",
       "      <th>if_fd</th>\n",
       "      <th>full_value</th>\n",
       "      <th>reduction_value</th>\n",
       "      <th>...</th>\n",
       "      <th>user_merchant_common_buy_rate</th>\n",
       "      <th>label</th>\n",
       "      <th>user_id</th>\n",
       "      <th>coupon_id</th>\n",
       "      <th>date_received</th>\n",
       "    </tr>\n",
       "  </thead>\n",
       "  <tbody>\n",
       "    <tr>\n",
       "      <td>0</td>\n",
       "      <td>0.863014</td>\n",
       "      <td>0.0</td>\n",
       "      <td>1.0</td>\n",
       "      <td>0.666667</td>\n",
       "      <td>0.20</td>\n",
       "      <td>...</td>\n",
       "      <td>0.0</td>\n",
       "      <td>0</td>\n",
       "      <td>1832624</td>\n",
       "      <td>7610</td>\n",
       "      <td>20160429</td>\n",
       "    </tr>\n",
       "    <tr>\n",
       "      <td>1</td>\n",
       "      <td>0.786910</td>\n",
       "      <td>1.0</td>\n",
       "      <td>1.0</td>\n",
       "      <td>0.666667</td>\n",
       "      <td>0.30</td>\n",
       "      <td>...</td>\n",
       "      <td>0.0</td>\n",
       "      <td>0</td>\n",
       "      <td>163606</td>\n",
       "      <td>5054</td>\n",
       "      <td>20160421</td>\n",
       "    </tr>\n",
       "    <tr>\n",
       "      <td>2</td>\n",
       "      <td>0.863014</td>\n",
       "      <td>0.2</td>\n",
       "      <td>1.0</td>\n",
       "      <td>0.666667</td>\n",
       "      <td>0.20</td>\n",
       "      <td>...</td>\n",
       "      <td>0.0</td>\n",
       "      <td>0</td>\n",
       "      <td>94107</td>\n",
       "      <td>7610</td>\n",
       "      <td>20160412</td>\n",
       "    </tr>\n",
       "    <tr>\n",
       "      <td>3</td>\n",
       "      <td>0.863014</td>\n",
       "      <td>1.0</td>\n",
       "      <td>1.0</td>\n",
       "      <td>0.666667</td>\n",
       "      <td>0.20</td>\n",
       "      <td>...</td>\n",
       "      <td>0.0</td>\n",
       "      <td>0</td>\n",
       "      <td>4061024</td>\n",
       "      <td>7610</td>\n",
       "      <td>20160426</td>\n",
       "    </tr>\n",
       "    <tr>\n",
       "      <td>4</td>\n",
       "      <td>0.761035</td>\n",
       "      <td>1.0</td>\n",
       "      <td>1.0</td>\n",
       "      <td>0.100000</td>\n",
       "      <td>0.05</td>\n",
       "      <td>...</td>\n",
       "      <td>0.0</td>\n",
       "      <td>0</td>\n",
       "      <td>4061024</td>\n",
       "      <td>9871</td>\n",
       "      <td>20160409</td>\n",
       "    </tr>\n",
       "  </tbody>\n",
       "</table>\n",
       "<p>5 rows × 41 columns</p>\n",
       "</div>"
      ],
      "text/plain": [
       "   discount_rate  distance  if_fd  full_value  reduction_value  ...  \\\n",
       "0       0.863014       0.0    1.0    0.666667             0.20  ...   \n",
       "1       0.786910       1.0    1.0    0.666667             0.30  ...   \n",
       "2       0.863014       0.2    1.0    0.666667             0.20  ...   \n",
       "3       0.863014       1.0    1.0    0.666667             0.20  ...   \n",
       "4       0.761035       1.0    1.0    0.100000             0.05  ...   \n",
       "\n",
       "   user_merchant_common_buy_rate  label  user_id  coupon_id  date_received  \n",
       "0                            0.0      0  1832624       7610       20160429  \n",
       "1                            0.0      0   163606       5054       20160421  \n",
       "2                            0.0      0    94107       7610       20160412  \n",
       "3                            0.0      0  4061024       7610       20160426  \n",
       "4                            0.0      0  4061024       9871       20160409  \n",
       "\n",
       "[5 rows x 41 columns]"
      ]
     },
     "execution_count": 15,
     "metadata": {},
     "output_type": "execute_result"
    }
   ],
   "source": [
    "#f2特征\n",
    "train = train_f2.copy()\n",
    "train.head()"
   ]
  },
  {
   "cell_type": "code",
   "execution_count": 16,
   "metadata": {
    "scrolled": false
   },
   "outputs": [
    {
     "name": "stdout",
     "output_type": "stream",
     "text": [
      "特征f2, 不同模型5折训练Score：\n",
      "NB总体AUC: [0.8220931929754454, 0.804169363171415, 0.7472996479976531, 0.7364542468459478, 0.7399672403073105]\n",
      "NBCoupon AUC: [0.6306880228045485, 0.6121314564824665, 0.6071659402447231, 0.6118855432357609, 0.6024926053240627]\n",
      "LR总体AUC: [0.8381984449179252, 0.8335265022686658, 0.783696023164985, 0.7733779574887727, 0.775555137007464]\n",
      "LRCoupon AUC: [0.631339626103777, 0.62207295911567, 0.6091744678282707, 0.6095061878447319, 0.6075648757381682]\n",
      "RF总体AUC: [0.7315001913200931, 0.7293586076535182, 0.7220586780934544, 0.7409550217501144, 0.7521653769138598]\n",
      "RFCoupon AUC: [0.5667008468421834, 0.5358543852476242, 0.5160386756446573, 0.5453530868789428, 0.5452087793654802]\n",
      "LGB总体AUC: [0.8746736157221453, 0.8737063825688013, 0.8477064244732748, 0.8416921841594016, 0.8432967709983599]\n",
      "LGBCoupon AUC: [0.6357018028553509, 0.5959257194770607, 0.6022173359609332, 0.6122837533831077, 0.6006187449588496]\n"
     ]
    }
   ],
   "source": [
    "print('特征f2, 不同模型5折训练Score：')\n",
    "classifier_df_score(train, 'NB', 5)\n",
    "classifier_df_score(train, 'LR', 5)\n",
    "classifier_df_score(train, 'RF', 5)\n",
    "classifier_df_score(train, 'LGB', 5)"
   ]
  },
  {
   "cell_type": "code",
   "execution_count": 17,
   "metadata": {},
   "outputs": [
    {
     "data": {
      "text/html": [
       "<div>\n",
       "<style scoped>\n",
       "    .dataframe tbody tr th:only-of-type {\n",
       "        vertical-align: middle;\n",
       "    }\n",
       "\n",
       "    .dataframe tbody tr th {\n",
       "        vertical-align: top;\n",
       "    }\n",
       "\n",
       "    .dataframe thead th {\n",
       "        text-align: right;\n",
       "    }\n",
       "</style>\n",
       "<table border=\"1\" class=\"dataframe\">\n",
       "  <thead>\n",
       "    <tr style=\"text-align: right;\">\n",
       "      <th></th>\n",
       "      <th>discount_rate</th>\n",
       "      <th>distance</th>\n",
       "      <th>if_fd</th>\n",
       "      <th>full_value</th>\n",
       "      <th>reduction_value</th>\n",
       "      <th>...</th>\n",
       "      <th>day_gap_after</th>\n",
       "      <th>label</th>\n",
       "      <th>user_id</th>\n",
       "      <th>coupon_id</th>\n",
       "      <th>date_received</th>\n",
       "    </tr>\n",
       "  </thead>\n",
       "  <tbody>\n",
       "    <tr>\n",
       "      <td>0</td>\n",
       "      <td>0.863014</td>\n",
       "      <td>0.0</td>\n",
       "      <td>1.0</td>\n",
       "      <td>0.666667</td>\n",
       "      <td>0.20</td>\n",
       "      <td>...</td>\n",
       "      <td>0.0</td>\n",
       "      <td>0</td>\n",
       "      <td>1832624</td>\n",
       "      <td>7610</td>\n",
       "      <td>20160429</td>\n",
       "    </tr>\n",
       "    <tr>\n",
       "      <td>1</td>\n",
       "      <td>0.786910</td>\n",
       "      <td>1.0</td>\n",
       "      <td>1.0</td>\n",
       "      <td>0.666667</td>\n",
       "      <td>0.30</td>\n",
       "      <td>...</td>\n",
       "      <td>0.0</td>\n",
       "      <td>0</td>\n",
       "      <td>163606</td>\n",
       "      <td>5054</td>\n",
       "      <td>20160421</td>\n",
       "    </tr>\n",
       "    <tr>\n",
       "      <td>2</td>\n",
       "      <td>0.863014</td>\n",
       "      <td>0.2</td>\n",
       "      <td>1.0</td>\n",
       "      <td>0.666667</td>\n",
       "      <td>0.20</td>\n",
       "      <td>...</td>\n",
       "      <td>0.0</td>\n",
       "      <td>0</td>\n",
       "      <td>94107</td>\n",
       "      <td>7610</td>\n",
       "      <td>20160412</td>\n",
       "    </tr>\n",
       "    <tr>\n",
       "      <td>3</td>\n",
       "      <td>0.863014</td>\n",
       "      <td>1.0</td>\n",
       "      <td>1.0</td>\n",
       "      <td>0.666667</td>\n",
       "      <td>0.20</td>\n",
       "      <td>...</td>\n",
       "      <td>0.0</td>\n",
       "      <td>0</td>\n",
       "      <td>4061024</td>\n",
       "      <td>7610</td>\n",
       "      <td>20160426</td>\n",
       "    </tr>\n",
       "    <tr>\n",
       "      <td>4</td>\n",
       "      <td>0.761035</td>\n",
       "      <td>1.0</td>\n",
       "      <td>1.0</td>\n",
       "      <td>0.100000</td>\n",
       "      <td>0.05</td>\n",
       "      <td>...</td>\n",
       "      <td>0.0</td>\n",
       "      <td>0</td>\n",
       "      <td>4061024</td>\n",
       "      <td>9871</td>\n",
       "      <td>20160409</td>\n",
       "    </tr>\n",
       "  </tbody>\n",
       "</table>\n",
       "<p>5 rows × 49 columns</p>\n",
       "</div>"
      ],
      "text/plain": [
       "   discount_rate  distance  if_fd  full_value  reduction_value  ...  \\\n",
       "0       0.863014       0.0    1.0    0.666667             0.20  ...   \n",
       "1       0.786910       1.0    1.0    0.666667             0.30  ...   \n",
       "2       0.863014       0.2    1.0    0.666667             0.20  ...   \n",
       "3       0.863014       1.0    1.0    0.666667             0.20  ...   \n",
       "4       0.761035       1.0    1.0    0.100000             0.05  ...   \n",
       "\n",
       "   day_gap_after  label  user_id  coupon_id  date_received  \n",
       "0            0.0      0  1832624       7610       20160429  \n",
       "1            0.0      0   163606       5054       20160421  \n",
       "2            0.0      0    94107       7610       20160412  \n",
       "3            0.0      0  4061024       7610       20160426  \n",
       "4            0.0      0  4061024       9871       20160409  \n",
       "\n",
       "[5 rows x 49 columns]"
      ]
     },
     "execution_count": 17,
     "metadata": {},
     "output_type": "execute_result"
    }
   ],
   "source": [
    "#f3特征\n",
    "train = train_f3.copy()\n",
    "train.head()"
   ]
  },
  {
   "cell_type": "code",
   "execution_count": 18,
   "metadata": {
    "scrolled": true
   },
   "outputs": [
    {
     "name": "stdout",
     "output_type": "stream",
     "text": [
      "特征f3, 不同模型5折训练Score：\n",
      "NB总体AUC: [0.8535552184389527, 0.8388599216672568, 0.7908156467731013, 0.7803335152248032, 0.7833362717513173]\n",
      "NBCoupon AUC: [0.7131584312999717, 0.7056698780857392, 0.7067684841516864, 0.7134645015989857, 0.706570801743292]\n",
      "LR总体AUC: [0.8665180570386886, 0.8667059995817261, 0.8265719308545689, 0.8162153381918147, 0.8166881287904217]\n",
      "LRCoupon AUC: [0.719460319253799, 0.7274937066158953, 0.7219695766522634, 0.7409048621174605, 0.7306691003952328]\n",
      "RF总体AUC: [0.8035009385032182, 0.8100947828984136, 0.8072825849919404, 0.8070838739897185, 0.813615123050509]\n",
      "RFCoupon AUC: [0.6912068018166672, 0.66940476255624, 0.6806663628047865, 0.692414012178118, 0.6958338825600764]\n",
      "LGB总体AUC: [0.9017063876540394, 0.9028474497847858, 0.8860489799298887, 0.8810605942191141, 0.8825448947499648]\n",
      "LGBCoupon AUC: [0.7440798692234487, 0.741981950122888, 0.7474652592149504, 0.7642682296497904, 0.7628559092978145]\n"
     ]
    }
   ],
   "source": [
    "print('特征f3, 不同模型5折训练Score：')\n",
    "classifier_df_score(train, 'NB', 5)\n",
    "classifier_df_score(train, 'LR', 5)\n",
    "classifier_df_score(train, 'RF', 5)\n",
    "classifier_df_score(train, 'LGB', 5)"
   ]
  },
  {
   "cell_type": "markdown",
   "metadata": {},
   "source": [
    "通过对比训练集上不同算法的运算结果可以发现，F1特征集因为特征比较少，有严重的欠拟合，所以所有算法的分数都比较低。\n",
    "F2特征集通过滑窗增加统计特征，它的分数比f1有了飞跃性的提高，其实在现实的业务场景F2+LR已经是一个很常用的解决方案了。之所以在实际作业中更倾向逻辑回归而不是类似LightGBM的算法，是为了减少计算量。当然如果计算资源不是问题的话，LightGBM也是一个好选择"
   ]
  },
  {
   "cell_type": "markdown",
   "metadata": {},
   "source": [
    "### 绘制学习曲线进行可视化分析"
   ]
  },
  {
   "cell_type": "markdown",
   "metadata": {},
   "source": [
    "我们还可以通过绘制学习曲线，对训练的过程进行比较深入的了解。"
   ]
  },
  {
   "cell_type": "code",
   "execution_count": 19,
   "metadata": {},
   "outputs": [],
   "source": [
    "#画学习曲线\n",
    "def plot_learning_curve(estimator,\n",
    "                        title,\n",
    "                        X,\n",
    "                        y,\n",
    "                        ylim=None,\n",
    "                        cv=None,\n",
    "                        n_jobs=1,\n",
    "                        train_sizes=[0.01, 0.02, 0.05, 0.1, 0.2, 0.3]):\n",
    "    plt.figure()\n",
    "    plt.title(title)\n",
    "    if ylim is not None:\n",
    "        plt.ylim(*ylim)\n",
    "    plt.xlabel(\"Training examples\")\n",
    "    plt.ylabel(\"Score\")\n",
    "    train_sizes, train_scores, test_scores = learning_curve(\n",
    "        estimator,\n",
    "        X,\n",
    "        y,\n",
    "        cv=cv,\n",
    "        scoring=myeval,\n",
    "        n_jobs=n_jobs,\n",
    "        train_sizes=train_sizes)\n",
    "    train_scores_mean = np.mean(train_scores, axis=1)\n",
    "    train_scores_std = np.std(train_scores, axis=1)\n",
    "    test_scores_mean = np.mean(test_scores, axis=1)\n",
    "    test_scores_std = np.std(test_scores, axis=1)\n",
    "    plt.grid()\n",
    "\n",
    "    plt.fill_between(train_sizes,\n",
    "                     train_scores_mean - train_scores_std,\n",
    "                     train_scores_mean + train_scores_std,\n",
    "                     alpha=0.1,\n",
    "                     color=\"r\")\n",
    "    plt.fill_between(train_sizes,\n",
    "                     test_scores_mean - test_scores_std,\n",
    "                     test_scores_mean + test_scores_std,\n",
    "                     alpha=0.1,\n",
    "                     color=\"g\")\n",
    "    plt.plot(train_sizes,\n",
    "             train_scores_mean,\n",
    "             'o-',\n",
    "             color=\"r\",\n",
    "             label=\"Training score\")\n",
    "    plt.plot(train_sizes,\n",
    "             test_scores_mean,\n",
    "             'o-',\n",
    "             color=\"g\",\n",
    "             label=\"Cross-validation score\")\n",
    "\n",
    "    plt.legend(loc=\"best\")\n",
    "    plt.show()\n",
    "    return plt\n",
    "\n",
    "\n",
    "#画算法的学习曲线,为加快画图速度，最多选20%数据\n",
    "def plot_curve_single(traindf,\n",
    "                      classifier,\n",
    "                      cvnum,\n",
    "                      train_sizes=[0.01, 0.02, 0.05, 0.1, 0.2, 0.3]):\n",
    "    X = get_predictors_df(traindf)\n",
    "    y = get_target_df(traindf)\n",
    "    title = \"learning curve of \" + classifier + \", cv:\" + str(cvnum)\n",
    "    estimator = get_sklearn_model(classifier)  #建模\n",
    "    plot_learning_curve(estimator,\n",
    "                        title,\n",
    "                        X,\n",
    "                        y,\n",
    "                        ylim=(0, 1.01),\n",
    "                        cv=cvnum,\n",
    "                        train_sizes=train_sizes)"
   ]
  },
  {
   "cell_type": "markdown",
   "metadata": {},
   "source": [
    "**F1特征集**"
   ]
  },
  {
   "cell_type": "code",
   "execution_count": 20,
   "metadata": {},
   "outputs": [
    {
     "data": {
      "image/png": "[encoded data removed]",
      "text/plain": [
       "<Figure size 432x288 with 1 Axes>"
      ]
     },
     "metadata": {
      "needs_background": "light"
     },
     "output_type": "display_data"
    }
   ],
   "source": [
    "plot_curve_single(train_f1, 'LR', 5, [0.01, 0.02, 0.05, 0.1, 0.2, 0.3])"
   ]
  },
  {
   "cell_type": "code",
   "execution_count": 21,
   "metadata": {},
   "outputs": [
    {
     "data": {
      "image/png": "[encoded data removed]",
      "text/plain": [
       "<Figure size 432x288 with 1 Axes>"
      ]
     },
     "metadata": {
      "needs_background": "light"
     },
     "output_type": "display_data"
    }
   ],
   "source": [
    "plot_curve_single(train_f1, 'NB', 5, [0.01, 0.02, 0.05, 0.1, 0.2, 0.3])"
   ]
  },
  {
   "cell_type": "code",
   "execution_count": 22,
   "metadata": {
    "scrolled": true
   },
   "outputs": [
    {
     "data": {
      "image/png": "[encoded data removed]",
      "text/plain": [
       "<Figure size 432x288 with 1 Axes>"
      ]
     },
     "metadata": {
      "needs_background": "light"
     },
     "output_type": "display_data"
    }
   ],
   "source": [
    "plot_curve_single(train_f1, 'DT', 5, [0.01, 0.02, 0.05, 0.1, 0.2, 0.3])"
   ]
  },
  {
   "cell_type": "code",
   "execution_count": 23,
   "metadata": {
    "scrolled": true
   },
   "outputs": [
    {
     "data": {
      "image/png": "[encoded data removed]",
      "text/plain": [
       "<Figure size 432x288 with 1 Axes>"
      ]
     },
     "metadata": {
      "needs_background": "light"
     },
     "output_type": "display_data"
    }
   ],
   "source": [
    "plot_curve_single(train_f1, 'RF', 5, [0.01, 0.02, 0.05, 0.1, 0.2, 0.3])"
   ]
  },
  {
   "cell_type": "code",
   "execution_count": 24,
   "metadata": {},
   "outputs": [
    {
     "data": {
      "image/png": "[encoded data removed]",
      "text/plain": [
       "<Figure size 432x288 with 1 Axes>"
      ]
     },
     "metadata": {
      "needs_background": "light"
     },
     "output_type": "display_data"
    }
   ],
   "source": [
    "plot_curve_single(train_f1, 'LGB', 5, [0.01, 0.02, 0.05, 0.1, 0.2, 0.3])"
   ]
  },
  {
   "cell_type": "markdown",
   "metadata": {},
   "source": [
    "**F2特征集**"
   ]
  },
  {
   "cell_type": "code",
   "execution_count": 25,
   "metadata": {},
   "outputs": [
    {
     "data": {
      "image/png": "[encoded data removed]",
      "text/plain": [
       "<Figure size 432x288 with 1 Axes>"
      ]
     },
     "metadata": {
      "needs_background": "light"
     },
     "output_type": "display_data"
    }
   ],
   "source": [
    "plot_curve_single(train_f2, 'DT', 5, [0.1, 0.2, 0.3, 0.5])"
   ]
  },
  {
   "cell_type": "code",
   "execution_count": 26,
   "metadata": {},
   "outputs": [
    {
     "data": {
      "image/png": "[encoded data removed]",
      "text/plain": [
       "<Figure size 432x288 with 1 Axes>"
      ]
     },
     "metadata": {
      "needs_background": "light"
     },
     "output_type": "display_data"
    }
   ],
   "source": [
    "plot_curve_single(train_f2, 'NB', 5, [0.1, 0.2, 0.3, 0.5])"
   ]
  },
  {
   "cell_type": "code",
   "execution_count": 27,
   "metadata": {},
   "outputs": [
    {
     "data": {
      "image/png": "[encoded data removed]",
      "text/plain": [
       "<Figure size 432x288 with 1 Axes>"
      ]
     },
     "metadata": {
      "needs_background": "light"
     },
     "output_type": "display_data"
    }
   ],
   "source": [
    "plot_curve_single(train_f2, 'LR', 5, [0.1, 0.2, 0.3, 0.5])"
   ]
  },
  {
   "cell_type": "code",
   "execution_count": 28,
   "metadata": {},
   "outputs": [
    {
     "data": {
      "image/png": "[encoded data removed]",
      "text/plain": [
       "<Figure size 432x288 with 1 Axes>"
      ]
     },
     "metadata": {
      "needs_background": "light"
     },
     "output_type": "display_data"
    }
   ],
   "source": [
    "plot_curve_single(train_f2, 'RF', 5, [0.1, 0.2, 0.3, 0.5])"
   ]
  },
  {
   "cell_type": "code",
   "execution_count": 29,
   "metadata": {},
   "outputs": [
    {
     "data": {
      "image/png": "[encoded data removed]",
      "text/plain": [
       "<Figure size 432x288 with 1 Axes>"
      ]
     },
     "metadata": {
      "needs_background": "light"
     },
     "output_type": "display_data"
    }
   ],
   "source": [
    "plot_curve_single(train_f2, 'LGB', 5, [0.1, 0.2, 0.3, 0.5])"
   ]
  },
  {
   "cell_type": "markdown",
   "metadata": {},
   "source": [
    "**F3特征集**"
   ]
  },
  {
   "cell_type": "code",
   "execution_count": 30,
   "metadata": {
    "scrolled": true
   },
   "outputs": [
    {
     "data": {
      "image/png": "[encoded data removed]",
      "text/plain": [
       "<Figure size 432x288 with 1 Axes>"
      ]
     },
     "metadata": {
      "needs_background": "light"
     },
     "output_type": "display_data"
    }
   ],
   "source": [
    "plot_curve_single(train_f3, 'DT', 5, [0.1, 0.2, 0.3, 0.5])"
   ]
  },
  {
   "cell_type": "code",
   "execution_count": 31,
   "metadata": {},
   "outputs": [
    {
     "data": {
      "image/png": "[encoded data removed]",
      "text/plain": [
       "<Figure size 432x288 with 1 Axes>"
      ]
     },
     "metadata": {
      "needs_background": "light"
     },
     "output_type": "display_data"
    }
   ],
   "source": [
    "plot_curve_single(train_f3, 'NB', 5, [0.1, 0.2, 0.3, 0.5])"
   ]
  },
  {
   "cell_type": "code",
   "execution_count": 32,
   "metadata": {},
   "outputs": [
    {
     "data": {
      "image/png": "[encoded data removed]",
      "text/plain": [
       "<Figure size 432x288 with 1 Axes>"
      ]
     },
     "metadata": {
      "needs_background": "light"
     },
     "output_type": "display_data"
    }
   ],
   "source": [
    "plot_curve_single(train_f3, 'LR', 5, [0.1, 0.2, 0.3, 0.5])"
   ]
  },
  {
   "cell_type": "code",
   "execution_count": 33,
   "metadata": {},
   "outputs": [
    {
     "data": {
      "image/png": "[encoded data removed]",
      "text/plain": [
       "<Figure size 432x288 with 1 Axes>"
      ]
     },
     "metadata": {
      "needs_background": "light"
     },
     "output_type": "display_data"
    }
   ],
   "source": [
    "plot_curve_single(train_f3, 'RF', 5, [0.1, 0.2, 0.3, 0.5])"
   ]
  },
  {
   "cell_type": "code",
   "execution_count": 34,
   "metadata": {
    "scrolled": false
   },
   "outputs": [
    {
     "data": {
      "image/png": "[encoded data removed]",
      "text/plain": [
       "<Figure size 432x288 with 1 Axes>"
      ]
     },
     "metadata": {
      "needs_background": "light"
     },
     "output_type": "display_data"
    }
   ],
   "source": [
    "plot_curve_single(train_f3, 'LGB', 5, [0.1, 0.2, 0.3, 0.5])"
   ]
  },
  {
   "cell_type": "markdown",
   "metadata": {},
   "source": [
    "可以发现在特征集f1上，评测分普遍比较低，是欠拟合。\n",
    "在特征集f3上决策树和随机森林都表现出过拟合。LGB表现比较好。"
   ]
  },
  {
   "cell_type": "markdown",
   "metadata": {},
   "source": [
    "# 模型超参空间及调参"
   ]
  },
  {
   "cell_type": "code",
   "execution_count": 35,
   "metadata": {},
   "outputs": [
    {
     "data": {
      "text/html": [
       "<div>\n",
       "<style scoped>\n",
       "    .dataframe tbody tr th:only-of-type {\n",
       "        vertical-align: middle;\n",
       "    }\n",
       "\n",
       "    .dataframe tbody tr th {\n",
       "        vertical-align: top;\n",
       "    }\n",
       "\n",
       "    .dataframe thead th {\n",
       "        text-align: right;\n",
       "    }\n",
       "</style>\n",
       "<table border=\"1\" class=\"dataframe\">\n",
       "  <thead>\n",
       "    <tr style=\"text-align: right;\">\n",
       "      <th></th>\n",
       "      <th>discount_rate</th>\n",
       "      <th>distance</th>\n",
       "      <th>if_fd</th>\n",
       "      <th>full_value</th>\n",
       "      <th>reduction_value</th>\n",
       "      <th>...</th>\n",
       "      <th>this_month_user_receive_same_coupon_firstone</th>\n",
       "      <th>this_day_receive_all_coupon_count</th>\n",
       "      <th>this_day_user_receive_same_coupon_count</th>\n",
       "      <th>day_gap_before</th>\n",
       "      <th>day_gap_after</th>\n",
       "    </tr>\n",
       "  </thead>\n",
       "  <tbody>\n",
       "    <tr>\n",
       "      <td>0</td>\n",
       "      <td>0.863014</td>\n",
       "      <td>0.0</td>\n",
       "      <td>1.0</td>\n",
       "      <td>0.666667</td>\n",
       "      <td>0.20</td>\n",
       "      <td>...</td>\n",
       "      <td>0.0</td>\n",
       "      <td>0.0</td>\n",
       "      <td>0.0</td>\n",
       "      <td>0.0</td>\n",
       "      <td>0.0</td>\n",
       "    </tr>\n",
       "    <tr>\n",
       "      <td>1</td>\n",
       "      <td>0.786910</td>\n",
       "      <td>1.0</td>\n",
       "      <td>1.0</td>\n",
       "      <td>0.666667</td>\n",
       "      <td>0.30</td>\n",
       "      <td>...</td>\n",
       "      <td>0.0</td>\n",
       "      <td>0.0</td>\n",
       "      <td>0.0</td>\n",
       "      <td>0.0</td>\n",
       "      <td>0.0</td>\n",
       "    </tr>\n",
       "    <tr>\n",
       "      <td>2</td>\n",
       "      <td>0.863014</td>\n",
       "      <td>0.2</td>\n",
       "      <td>1.0</td>\n",
       "      <td>0.666667</td>\n",
       "      <td>0.20</td>\n",
       "      <td>...</td>\n",
       "      <td>0.0</td>\n",
       "      <td>0.0</td>\n",
       "      <td>0.0</td>\n",
       "      <td>0.0</td>\n",
       "      <td>0.0</td>\n",
       "    </tr>\n",
       "    <tr>\n",
       "      <td>3</td>\n",
       "      <td>0.863014</td>\n",
       "      <td>1.0</td>\n",
       "      <td>1.0</td>\n",
       "      <td>0.666667</td>\n",
       "      <td>0.20</td>\n",
       "      <td>...</td>\n",
       "      <td>0.0</td>\n",
       "      <td>0.0</td>\n",
       "      <td>0.0</td>\n",
       "      <td>0.0</td>\n",
       "      <td>0.0</td>\n",
       "    </tr>\n",
       "    <tr>\n",
       "      <td>4</td>\n",
       "      <td>0.761035</td>\n",
       "      <td>1.0</td>\n",
       "      <td>1.0</td>\n",
       "      <td>0.100000</td>\n",
       "      <td>0.05</td>\n",
       "      <td>...</td>\n",
       "      <td>0.0</td>\n",
       "      <td>0.0</td>\n",
       "      <td>0.0</td>\n",
       "      <td>0.0</td>\n",
       "      <td>0.0</td>\n",
       "    </tr>\n",
       "  </tbody>\n",
       "</table>\n",
       "<p>5 rows × 45 columns</p>\n",
       "</div>"
      ],
      "text/plain": [
       "   discount_rate  distance  if_fd  full_value  reduction_value  ...  \\\n",
       "0       0.863014       0.0    1.0    0.666667             0.20  ...   \n",
       "1       0.786910       1.0    1.0    0.666667             0.30  ...   \n",
       "2       0.863014       0.2    1.0    0.666667             0.20  ...   \n",
       "3       0.863014       1.0    1.0    0.666667             0.20  ...   \n",
       "4       0.761035       1.0    1.0    0.100000             0.05  ...   \n",
       "\n",
       "   this_month_user_receive_same_coupon_firstone  \\\n",
       "0                                           0.0   \n",
       "1                                           0.0   \n",
       "2                                           0.0   \n",
       "3                                           0.0   \n",
       "4                                           0.0   \n",
       "\n",
       "   this_day_receive_all_coupon_count  this_day_user_receive_same_coupon_count  \\\n",
       "0                                0.0                                      0.0   \n",
       "1                                0.0                                      0.0   \n",
       "2                                0.0                                      0.0   \n",
       "3                                0.0                                      0.0   \n",
       "4                                0.0                                      0.0   \n",
       "\n",
       "   day_gap_before  day_gap_after  \n",
       "0             0.0            0.0  \n",
       "1             0.0            0.0  \n",
       "2             0.0            0.0  \n",
       "3             0.0            0.0  \n",
       "4             0.0            0.0  \n",
       "\n",
       "[5 rows x 45 columns]"
      ]
     },
     "execution_count": 35,
     "metadata": {},
     "output_type": "execute_result"
    }
   ],
   "source": [
    "#f3\n",
    "train = get_predictors_df(train_f3)\n",
    "target = get_target_df(train_f3)\n",
    "train.head()"
   ]
  },
  {
   "cell_type": "markdown",
   "metadata": {
    "collapsed": true
   },
   "source": [
    "## 以随机森林为例介绍基本调用方法\n",
    "### 穷举网格搜索"
   ]
  },
  {
   "cell_type": "code",
   "execution_count": 36,
   "metadata": {},
   "outputs": [
    {
     "name": "stdout",
     "output_type": "stream",
     "text": [
      "Fitting 3 folds for each of 9 candidates, totalling 27 fits\n",
      "[CV] max_depth=1, n_estimators=20 ....................................\n"
     ]
    },
    {
     "name": "stderr",
     "output_type": "stream",
     "text": [
      "[Parallel(n_jobs=1)]: Using backend SequentialBackend with 1 concurrent workers.\n"
     ]
    },
    {
     "name": "stdout",
     "output_type": "stream",
     "text": [
      "[CV] ..................... max_depth=1, n_estimators=20, total=   1.5s\n",
      "[CV] max_depth=1, n_estimators=20 ....................................\n"
     ]
    },
    {
     "name": "stderr",
     "output_type": "stream",
     "text": [
      "[Parallel(n_jobs=1)]: Done   1 out of   1 | elapsed:    1.4s remaining:    0.0s\n"
     ]
    },
    {
     "name": "stdout",
     "output_type": "stream",
     "text": [
      "[CV] ..................... max_depth=1, n_estimators=20, total=   1.5s\n",
      "[CV] max_depth=1, n_estimators=20 ....................................\n",
      "[CV] ..................... max_depth=1, n_estimators=20, total=   1.4s\n",
      "[CV] max_depth=1, n_estimators=50 ....................................\n",
      "[CV] ..................... max_depth=1, n_estimators=50, total=   3.2s\n",
      "[CV] max_depth=1, n_estimators=50 ....................................\n",
      "[CV] ..................... max_depth=1, n_estimators=50, total=   3.2s\n",
      "[CV] max_depth=1, n_estimators=50 ....................................\n",
      "[CV] ..................... max_depth=1, n_estimators=50, total=   3.2s\n",
      "[CV] max_depth=1, n_estimators=100 ...................................\n",
      "[CV] .................... max_depth=1, n_estimators=100, total=   6.2s\n",
      "[CV] max_depth=1, n_estimators=100 ...................................\n",
      "[CV] .................... max_depth=1, n_estimators=100, total=   6.3s\n",
      "[CV] max_depth=1, n_estimators=100 ...................................\n",
      "[CV] .................... max_depth=1, n_estimators=100, total=   6.3s\n",
      "[CV] max_depth=2, n_estimators=20 ....................................\n",
      "[CV] ..................... max_depth=2, n_estimators=20, total=   1.8s\n",
      "[CV] max_depth=2, n_estimators=20 ....................................\n",
      "[CV] ..................... max_depth=2, n_estimators=20, total=   1.8s\n",
      "[CV] max_depth=2, n_estimators=20 ....................................\n",
      "[CV] ..................... max_depth=2, n_estimators=20, total=   1.8s\n",
      "[CV] max_depth=2, n_estimators=50 ....................................\n",
      "[CV] ..................... max_depth=2, n_estimators=50, total=   4.3s\n",
      "[CV] max_depth=2, n_estimators=50 ....................................\n",
      "[CV] ..................... max_depth=2, n_estimators=50, total=   4.3s\n",
      "[CV] max_depth=2, n_estimators=50 ....................................\n",
      "[CV] ..................... max_depth=2, n_estimators=50, total=   4.3s\n",
      "[CV] max_depth=2, n_estimators=100 ...................................\n",
      "[CV] .................... max_depth=2, n_estimators=100, total=   8.4s\n",
      "[CV] max_depth=2, n_estimators=100 ...................................\n",
      "[CV] .................... max_depth=2, n_estimators=100, total=   8.5s\n",
      "[CV] max_depth=2, n_estimators=100 ...................................\n",
      "[CV] .................... max_depth=2, n_estimators=100, total=   8.2s\n",
      "[CV] max_depth=3, n_estimators=20 ....................................\n",
      "[CV] ..................... max_depth=3, n_estimators=20, total=   2.3s\n",
      "[CV] max_depth=3, n_estimators=20 ....................................\n",
      "[CV] ..................... max_depth=3, n_estimators=20, total=   2.3s\n",
      "[CV] max_depth=3, n_estimators=20 ....................................\n",
      "[CV] ..................... max_depth=3, n_estimators=20, total=   2.3s\n",
      "[CV] max_depth=3, n_estimators=50 ....................................\n",
      "[CV] ..................... max_depth=3, n_estimators=50, total=   5.3s\n",
      "[CV] max_depth=3, n_estimators=50 ....................................\n",
      "[CV] ..................... max_depth=3, n_estimators=50, total=   5.4s\n",
      "[CV] max_depth=3, n_estimators=50 ....................................\n",
      "[CV] ..................... max_depth=3, n_estimators=50, total=   5.3s\n",
      "[CV] max_depth=3, n_estimators=100 ...................................\n",
      "[CV] .................... max_depth=3, n_estimators=100, total=  10.6s\n",
      "[CV] max_depth=3, n_estimators=100 ...................................\n",
      "[CV] .................... max_depth=3, n_estimators=100, total=  10.6s\n",
      "[CV] max_depth=3, n_estimators=100 ...................................\n",
      "[CV] .................... max_depth=3, n_estimators=100, total=  10.6s\n"
     ]
    },
    {
     "name": "stderr",
     "output_type": "stream",
     "text": [
      "[Parallel(n_jobs=1)]: Done  27 out of  27 | elapsed:  2.2min finished\n"
     ]
    },
    {
     "name": "stdout",
     "output_type": "stream",
     "text": [
      "RandomForestClassifier GridSearchCV test AUC:    0.5202805021949444\n",
      "最优参数:\n",
      "{'max_depth': 3, 'n_estimators': 20}\n"
     ]
    },
    {
     "data": {
      "text/plain": [
       "['mean_fit_time',\n",
       " 'mean_score_time',\n",
       " 'mean_test_score',\n",
       " 'param_max_depth',\n",
       " 'param_n_estimators',\n",
       " 'params',\n",
       " 'rank_test_score',\n",
       " 'split0_test_score',\n",
       " 'split1_test_score',\n",
       " 'split2_test_score',\n",
       " 'std_fit_time',\n",
       " 'std_score_time',\n",
       " 'std_test_score']"
      ]
     },
     "execution_count": 36,
     "metadata": {},
     "output_type": "execute_result"
    }
   ],
   "source": [
    "from sklearn.model_selection import GridSearchCV\n",
    "from sklearn.ensemble import RandomForestClassifier\n",
    "from sklearn.model_selection import train_test_split  # 切分数据\n",
    "# 切分数据 训练数据80% 验证数据20%\n",
    "train_data, test_data, train_target, test_target = train_test_split(\n",
    "    train, target, test_size=0.2, random_state=0)\n",
    "\n",
    "model = RandomForestClassifier()\n",
    "parameters = {'n_estimators': [20, 50, 100], 'max_depth': [1, 2, 3]}\n",
    "\n",
    "clf = GridSearchCV(model, parameters, cv=3, verbose=2)\n",
    "clf.fit(train_data, train_target)\n",
    "\n",
    "score_test = roc_auc_score(test_target, clf.predict(test_data))\n",
    "\n",
    "print(\"RandomForestClassifier GridSearchCV test AUC:   \", score_test)\n",
    "print(\"最优参数:\")\n",
    "print(clf.best_params_)\n",
    "sorted(clf.cv_results_.keys())"
   ]
  },
  {
   "cell_type": "markdown",
   "metadata": {},
   "source": [
    "运行起来我们可以发现网格搜索很耗时间，每次训练及预测的次数是按照参数的个数指数增长的。所以一次不要搜索太多的参数，一般1，2个就可以了。"
   ]
  },
  {
   "cell_type": "markdown",
   "metadata": {},
   "source": [
    "### 随机参数优化"
   ]
  },
  {
   "cell_type": "code",
   "execution_count": 37,
   "metadata": {},
   "outputs": [
    {
     "name": "stdout",
     "output_type": "stream",
     "text": [
      "Fitting 3 folds for each of 10 candidates, totalling 30 fits\n",
      "[CV] n_estimators=20, max_depth=2 ....................................\n"
     ]
    },
    {
     "name": "stderr",
     "output_type": "stream",
     "text": [
      "[Parallel(n_jobs=1)]: Using backend SequentialBackend with 1 concurrent workers.\n"
     ]
    },
    {
     "name": "stdout",
     "output_type": "stream",
     "text": [
      "[CV] ..................... n_estimators=20, max_depth=2, total=   1.9s\n",
      "[CV] n_estimators=20, max_depth=2 ....................................\n"
     ]
    },
    {
     "name": "stderr",
     "output_type": "stream",
     "text": [
      "[Parallel(n_jobs=1)]: Done   1 out of   1 | elapsed:    1.8s remaining:    0.0s\n"
     ]
    },
    {
     "name": "stdout",
     "output_type": "stream",
     "text": [
      "[CV] ..................... n_estimators=20, max_depth=2, total=   1.9s\n",
      "[CV] n_estimators=20, max_depth=2 ....................................\n",
      "[CV] ..................... n_estimators=20, max_depth=2, total=   1.9s\n",
      "[CV] n_estimators=10, max_depth=1 ....................................\n",
      "[CV] ..................... n_estimators=10, max_depth=1, total=   0.8s\n",
      "[CV] n_estimators=10, max_depth=1 ....................................\n",
      "[CV] ..................... n_estimators=10, max_depth=1, total=   0.8s\n",
      "[CV] n_estimators=10, max_depth=1 ....................................\n",
      "[CV] ..................... n_estimators=10, max_depth=1, total=   0.8s\n",
      "[CV] n_estimators=20, max_depth=3 ....................................\n",
      "[CV] ..................... n_estimators=20, max_depth=3, total=   2.2s\n",
      "[CV] n_estimators=20, max_depth=3 ....................................\n",
      "[CV] ..................... n_estimators=20, max_depth=3, total=   2.3s\n",
      "[CV] n_estimators=20, max_depth=3 ....................................\n",
      "[CV] ..................... n_estimators=20, max_depth=3, total=   2.3s\n",
      "[CV] n_estimators=30, max_depth=2 ....................................\n",
      "[CV] ..................... n_estimators=30, max_depth=2, total=   2.6s\n",
      "[CV] n_estimators=30, max_depth=2 ....................................\n",
      "[CV] ..................... n_estimators=30, max_depth=2, total=   2.7s\n",
      "[CV] n_estimators=30, max_depth=2 ....................................\n",
      "[CV] ..................... n_estimators=30, max_depth=2, total=   2.7s\n",
      "[CV] n_estimators=50, max_depth=1 ....................................\n",
      "[CV] ..................... n_estimators=50, max_depth=1, total=   3.1s\n",
      "[CV] n_estimators=50, max_depth=1 ....................................\n",
      "[CV] ..................... n_estimators=50, max_depth=1, total=   3.2s\n",
      "[CV] n_estimators=50, max_depth=1 ....................................\n",
      "[CV] ..................... n_estimators=50, max_depth=1, total=   3.2s\n",
      "[CV] n_estimators=30, max_depth=3 ....................................\n",
      "[CV] ..................... n_estimators=30, max_depth=3, total=   3.4s\n",
      "[CV] n_estimators=30, max_depth=3 ....................................\n",
      "[CV] ..................... n_estimators=30, max_depth=3, total=   3.9s\n",
      "[CV] n_estimators=30, max_depth=3 ....................................\n",
      "[CV] ..................... n_estimators=30, max_depth=3, total=   4.5s\n",
      "[CV] n_estimators=10, max_depth=2 ....................................\n",
      "[CV] ..................... n_estimators=10, max_depth=2, total=   1.1s\n",
      "[CV] n_estimators=10, max_depth=2 ....................................\n",
      "[CV] ..................... n_estimators=10, max_depth=2, total=   1.0s\n",
      "[CV] n_estimators=10, max_depth=2 ....................................\n",
      "[CV] ..................... n_estimators=10, max_depth=2, total=   1.5s\n",
      "[CV] n_estimators=10, max_depth=3 ....................................\n",
      "[CV] ..................... n_estimators=10, max_depth=3, total=   1.6s\n",
      "[CV] n_estimators=10, max_depth=3 ....................................\n",
      "[CV] ..................... n_estimators=10, max_depth=3, total=   1.5s\n",
      "[CV] n_estimators=10, max_depth=3 ....................................\n",
      "[CV] ..................... n_estimators=10, max_depth=3, total=   1.6s\n",
      "[CV] n_estimators=20, max_depth=1 ....................................\n",
      "[CV] ..................... n_estimators=20, max_depth=1, total=   1.6s\n",
      "[CV] n_estimators=20, max_depth=1 ....................................\n",
      "[CV] ..................... n_estimators=20, max_depth=1, total=   1.7s\n",
      "[CV] n_estimators=20, max_depth=1 ....................................\n",
      "[CV] ..................... n_estimators=20, max_depth=1, total=   1.7s\n",
      "[CV] n_estimators=50, max_depth=3 ....................................\n",
      "[CV] ..................... n_estimators=50, max_depth=3, total=   6.9s\n",
      "[CV] n_estimators=50, max_depth=3 ....................................\n",
      "[CV] ..................... n_estimators=50, max_depth=3, total=   7.1s\n",
      "[CV] n_estimators=50, max_depth=3 ....................................\n",
      "[CV] ..................... n_estimators=50, max_depth=3, total=   7.0s\n"
     ]
    },
    {
     "name": "stderr",
     "output_type": "stream",
     "text": [
      "[Parallel(n_jobs=1)]: Done  30 out of  30 | elapsed:  1.3min finished\n"
     ]
    },
    {
     "name": "stdout",
     "output_type": "stream",
     "text": [
      "RandomForestClassifier RandomizedSearchCV test AUC:    0.5275905398159426\n",
      "最优参数:\n",
      "{'n_estimators': 10, 'max_depth': 3}\n"
     ]
    },
    {
     "data": {
      "text/plain": [
       "['mean_fit_time',\n",
       " 'mean_score_time',\n",
       " 'mean_test_score',\n",
       " 'param_max_depth',\n",
       " 'param_n_estimators',\n",
       " 'params',\n",
       " 'rank_test_score',\n",
       " 'split0_test_score',\n",
       " 'split1_test_score',\n",
       " 'split2_test_score',\n",
       " 'std_fit_time',\n",
       " 'std_score_time',\n",
       " 'std_test_score']"
      ]
     },
     "execution_count": 37,
     "metadata": {},
     "output_type": "execute_result"
    }
   ],
   "source": [
    "from sklearn.model_selection import RandomizedSearchCV\n",
    "from sklearn.ensemble import RandomForestClassifier\n",
    "from sklearn.model_selection import train_test_split  # 切分数据\n",
    "# 切分数据 训练数据80% 验证数据20%\n",
    "train_data, test_data, train_target, test_target = train_test_split(\n",
    "    train, target, test_size=0.2, random_state=0)\n",
    "\n",
    "model = RandomForestClassifier()\n",
    "parameters = {'n_estimators': [10, 20, 30, 50], 'max_depth': [1, 2, 3]}\n",
    "\n",
    "clf = RandomizedSearchCV(model, parameters, cv=3, verbose=2)\n",
    "clf.fit(train_data, train_target)\n",
    "\n",
    "score_test = roc_auc_score(test_target, clf.predict(test_data))\n",
    "\n",
    "print(\"RandomForestClassifier RandomizedSearchCV test AUC:   \", score_test)\n",
    "print(\"最优参数:\")\n",
    "print(clf.best_params_)\n",
    "sorted(clf.cv_results_.keys())"
   ]
  },
  {
   "cell_type": "markdown",
   "metadata": {},
   "source": [
    "## F3特征集和LightGBM 网格调参"
   ]
  },
  {
   "cell_type": "markdown",
   "metadata": {},
   "source": [
    "LightGBM 调参次序：  \n",
    "第一步：学习率和迭代次数  \n",
    "第二步：确定max_depth和num_leaves  \n",
    "第三步：确定min_data_in_leaf和max_bin in  \n",
    "第四步：确定feature_fraction、bagging_fraction、bagging_freq  \n",
    "第五步：确定lambda_l1和lambda_l2  \n",
    "第六步：确定 min_split_gain   \n",
    "第七步：降低学习率，增加迭代次数，验证模型  "
   ]
  },
  {
   "cell_type": "code",
   "execution_count": 38,
   "metadata": {},
   "outputs": [
    {
     "data": {
      "text/html": [
       "<div>\n",
       "<style scoped>\n",
       "    .dataframe tbody tr th:only-of-type {\n",
       "        vertical-align: middle;\n",
       "    }\n",
       "\n",
       "    .dataframe tbody tr th {\n",
       "        vertical-align: top;\n",
       "    }\n",
       "\n",
       "    .dataframe thead th {\n",
       "        text-align: right;\n",
       "    }\n",
       "</style>\n",
       "<table border=\"1\" class=\"dataframe\">\n",
       "  <thead>\n",
       "    <tr style=\"text-align: right;\">\n",
       "      <th></th>\n",
       "      <th>discount_rate</th>\n",
       "      <th>distance</th>\n",
       "      <th>if_fd</th>\n",
       "      <th>full_value</th>\n",
       "      <th>reduction_value</th>\n",
       "      <th>...</th>\n",
       "      <th>day_gap_after</th>\n",
       "      <th>label</th>\n",
       "      <th>user_id</th>\n",
       "      <th>coupon_id</th>\n",
       "      <th>date_received</th>\n",
       "    </tr>\n",
       "  </thead>\n",
       "  <tbody>\n",
       "    <tr>\n",
       "      <td>0</td>\n",
       "      <td>0.863014</td>\n",
       "      <td>0.0</td>\n",
       "      <td>1.0</td>\n",
       "      <td>0.666667</td>\n",
       "      <td>0.20</td>\n",
       "      <td>...</td>\n",
       "      <td>0.0</td>\n",
       "      <td>0</td>\n",
       "      <td>1832624</td>\n",
       "      <td>7610</td>\n",
       "      <td>20160429</td>\n",
       "    </tr>\n",
       "    <tr>\n",
       "      <td>1</td>\n",
       "      <td>0.786910</td>\n",
       "      <td>1.0</td>\n",
       "      <td>1.0</td>\n",
       "      <td>0.666667</td>\n",
       "      <td>0.30</td>\n",
       "      <td>...</td>\n",
       "      <td>0.0</td>\n",
       "      <td>0</td>\n",
       "      <td>163606</td>\n",
       "      <td>5054</td>\n",
       "      <td>20160421</td>\n",
       "    </tr>\n",
       "    <tr>\n",
       "      <td>2</td>\n",
       "      <td>0.863014</td>\n",
       "      <td>0.2</td>\n",
       "      <td>1.0</td>\n",
       "      <td>0.666667</td>\n",
       "      <td>0.20</td>\n",
       "      <td>...</td>\n",
       "      <td>0.0</td>\n",
       "      <td>0</td>\n",
       "      <td>94107</td>\n",
       "      <td>7610</td>\n",
       "      <td>20160412</td>\n",
       "    </tr>\n",
       "    <tr>\n",
       "      <td>3</td>\n",
       "      <td>0.863014</td>\n",
       "      <td>1.0</td>\n",
       "      <td>1.0</td>\n",
       "      <td>0.666667</td>\n",
       "      <td>0.20</td>\n",
       "      <td>...</td>\n",
       "      <td>0.0</td>\n",
       "      <td>0</td>\n",
       "      <td>4061024</td>\n",
       "      <td>7610</td>\n",
       "      <td>20160426</td>\n",
       "    </tr>\n",
       "    <tr>\n",
       "      <td>4</td>\n",
       "      <td>0.761035</td>\n",
       "      <td>1.0</td>\n",
       "      <td>1.0</td>\n",
       "      <td>0.100000</td>\n",
       "      <td>0.05</td>\n",
       "      <td>...</td>\n",
       "      <td>0.0</td>\n",
       "      <td>0</td>\n",
       "      <td>4061024</td>\n",
       "      <td>9871</td>\n",
       "      <td>20160409</td>\n",
       "    </tr>\n",
       "  </tbody>\n",
       "</table>\n",
       "<p>5 rows × 49 columns</p>\n",
       "</div>"
      ],
      "text/plain": [
       "   discount_rate  distance  if_fd  full_value  reduction_value  ...  \\\n",
       "0       0.863014       0.0    1.0    0.666667             0.20  ...   \n",
       "1       0.786910       1.0    1.0    0.666667             0.30  ...   \n",
       "2       0.863014       0.2    1.0    0.666667             0.20  ...   \n",
       "3       0.863014       1.0    1.0    0.666667             0.20  ...   \n",
       "4       0.761035       1.0    1.0    0.100000             0.05  ...   \n",
       "\n",
       "   day_gap_after  label  user_id  coupon_id  date_received  \n",
       "0            0.0      0  1832624       7610       20160429  \n",
       "1            0.0      0   163606       5054       20160421  \n",
       "2            0.0      0    94107       7610       20160412  \n",
       "3            0.0      0  4061024       7610       20160426  \n",
       "4            0.0      0  4061024       9871       20160409  \n",
       "\n",
       "[5 rows x 49 columns]"
      ]
     },
     "execution_count": 38,
     "metadata": {},
     "output_type": "execute_result"
    }
   ],
   "source": [
    "#f3特征\n",
    "traindf = train_f3.copy()\n",
    "\n",
    "#按日期分割，为了加快速度，只用了一般数据进行网格调参，正式的时候应该全用\n",
    "train = traindf[traindf.date_received < 20160515]\n",
    "test = traindf[traindf.date_received >= 20160515]\n",
    "\n",
    "train_data = get_predictors_df(train).copy()\n",
    "train_target = get_target_df(train).copy()\n",
    "test_data = get_predictors_df(test).copy()\n",
    "test_target = get_target_df(test).copy()\n",
    "\n",
    "traindf.head()"
   ]
  },
  {
   "cell_type": "code",
   "execution_count": 39,
   "metadata": {
    "scrolled": true
   },
   "outputs": [
    {
     "name": "stdout",
     "output_type": "stream",
     "text": [
      "Fitting 3 folds for each of 6 candidates, totalling 18 fits\n",
      "[CV] n_estimators=100 ................................................\n"
     ]
    },
    {
     "name": "stderr",
     "output_type": "stream",
     "text": [
      "[Parallel(n_jobs=1)]: Using backend SequentialBackend with 1 concurrent workers.\n"
     ]
    },
    {
     "name": "stdout",
     "output_type": "stream",
     "text": [
      "[CV] ................................. n_estimators=100, total=   2.1s\n",
      "[CV] n_estimators=100 ................................................\n"
     ]
    },
    {
     "name": "stderr",
     "output_type": "stream",
     "text": [
      "[Parallel(n_jobs=1)]: Done   1 out of   1 | elapsed:    2.0s remaining:    0.0s\n"
     ]
    },
    {
     "name": "stdout",
     "output_type": "stream",
     "text": [
      "[CV] ................................. n_estimators=100, total=   2.1s\n",
      "[CV] n_estimators=100 ................................................\n",
      "[CV] ................................. n_estimators=100, total=   2.4s\n",
      "[CV] n_estimators=150 ................................................\n",
      "[CV] ................................. n_estimators=150, total=   2.8s\n",
      "[CV] n_estimators=150 ................................................\n",
      "[CV] ................................. n_estimators=150, total=   2.9s\n",
      "[CV] n_estimators=150 ................................................\n",
      "[CV] ................................. n_estimators=150, total=   2.9s\n",
      "[CV] n_estimators=175 ................................................\n",
      "[CV] ................................. n_estimators=175, total=   2.9s\n",
      "[CV] n_estimators=175 ................................................\n",
      "[CV] ................................. n_estimators=175, total=   2.9s\n",
      "[CV] n_estimators=175 ................................................\n",
      "[CV] ................................. n_estimators=175, total=   3.5s\n",
      "[CV] n_estimators=200 ................................................\n",
      "[CV] ................................. n_estimators=200, total=   3.7s\n",
      "[CV] n_estimators=200 ................................................\n",
      "[CV] ................................. n_estimators=200, total=   3.7s\n",
      "[CV] n_estimators=200 ................................................\n",
      "[CV] ................................. n_estimators=200, total=   3.5s\n",
      "[CV] n_estimators=225 ................................................\n",
      "[CV] ................................. n_estimators=225, total=   3.5s\n",
      "[CV] n_estimators=225 ................................................\n",
      "[CV] ................................. n_estimators=225, total=   4.1s\n",
      "[CV] n_estimators=225 ................................................\n",
      "[CV] ................................. n_estimators=225, total=   4.4s\n",
      "[CV] n_estimators=250 ................................................\n",
      "[CV] ................................. n_estimators=250, total=   4.2s\n",
      "[CV] n_estimators=250 ................................................\n",
      "[CV] ................................. n_estimators=250, total=   5.4s\n",
      "[CV] n_estimators=250 ................................................\n",
      "[CV] ................................. n_estimators=250, total=   4.3s\n"
     ]
    },
    {
     "name": "stderr",
     "output_type": "stream",
     "text": [
      "[Parallel(n_jobs=1)]: Done  18 out of  18 | elapsed:  1.0min finished\n"
     ]
    },
    {
     "name": "stdout",
     "output_type": "stream",
     "text": [
      "LightGBM GridSearchCV AUC Score:    0.8168762892373986\n",
      "最优参数:\n",
      "{'n_estimators': 250}\n"
     ]
    }
   ],
   "source": [
    "#第一步：学习率和迭代次数\n",
    "from sklearn.model_selection import GridSearchCV\n",
    "from sklearn.model_selection import train_test_split\n",
    "# 切分数据 训练数据80% 验证数据20%\n",
    "# 为了加快速度CV选的3，其实一般用5\n",
    "# 因为每训练一次耗时很多，所以每个参数的选项不多，间隔比较大，正式的时候应该是比较多，间隔比较细的\n",
    "# 本次只是演示，所以如果最好参数位于区间的边缘也就直接用了，其实如果最好参数在边缘，需要重新再搜索。\n",
    "model = LGBMClassifier(boosting_type='gbdt',\n",
    "                       objective='binary',\n",
    "                       metrics='auc',\n",
    "                       learning_rate=0.1,\n",
    "                       max_depth=5,\n",
    "                       bagging_fraction=0.8,\n",
    "                       feature_fraction=0.8)\n",
    "parameters = {'n_estimators': [100, 150, 175, 200, 225, 250]}\n",
    "\n",
    "clf = GridSearchCV(model, parameters, cv=3, verbose=2)\n",
    "clf.fit(train_data, train_target)\n",
    "score_test = roc_auc_score(test_target, clf.predict_proba(test_data)[:, 1])\n",
    "\n",
    "print(\"LightGBM GridSearchCV AUC Score:   \", score_test)\n",
    "print(\"最优参数:\")\n",
    "print(clf.best_params_)"
   ]
  },
  {
   "cell_type": "code",
   "execution_count": 40,
   "metadata": {
    "scrolled": false
   },
   "outputs": [
    {
     "name": "stdout",
     "output_type": "stream",
     "text": [
      "Fitting 3 folds for each of 56 candidates, totalling 168 fits\n",
      "[CV] max_depth=4, num_leaves=10 ......................................\n"
     ]
    },
    {
     "name": "stderr",
     "output_type": "stream",
     "text": [
      "[Parallel(n_jobs=1)]: Using backend SequentialBackend with 1 concurrent workers.\n"
     ]
    },
    {
     "name": "stdout",
     "output_type": "stream",
     "text": [
      "[CV] ....................... max_depth=4, num_leaves=10, total=   2.8s\n",
      "[CV] max_depth=4, num_leaves=10 ......................................\n"
     ]
    },
    {
     "name": "stderr",
     "output_type": "stream",
     "text": [
      "[Parallel(n_jobs=1)]: Done   1 out of   1 | elapsed:    2.7s remaining:    0.0s\n"
     ]
    },
    {
     "name": "stdout",
     "output_type": "stream",
     "text": [
      "[CV] ....................... max_depth=4, num_leaves=10, total=   2.9s\n",
      "[CV] max_depth=4, num_leaves=10 ......................................\n",
      "[CV] ....................... max_depth=4, num_leaves=10, total=   3.6s\n",
      "[CV] max_depth=4, num_leaves=20 ......................................\n",
      "[CV] ....................... max_depth=4, num_leaves=20, total=   3.2s\n",
      "[CV] max_depth=4, num_leaves=20 ......................................\n",
      "[CV] ....................... max_depth=4, num_leaves=20, total=   2.9s\n",
      "[CV] max_depth=4, num_leaves=20 ......................................\n",
      "[CV] ....................... max_depth=4, num_leaves=20, total=   3.0s\n",
      "[CV] max_depth=4, num_leaves=30 ......................................\n",
      "[CV] ....................... max_depth=4, num_leaves=30, total=   3.0s\n",
      "[CV] max_depth=4, num_leaves=30 ......................................\n",
      "[CV] ....................... max_depth=4, num_leaves=30, total=   2.9s\n",
      "[CV] max_depth=4, num_leaves=30 ......................................\n",
      "[CV] ....................... max_depth=4, num_leaves=30, total=   3.1s\n",
      "[CV] max_depth=4, num_leaves=40 ......................................\n",
      "[CV] ....................... max_depth=4, num_leaves=40, total=   2.9s\n",
      "[CV] max_depth=4, num_leaves=40 ......................................\n",
      "[CV] ....................... max_depth=4, num_leaves=40, total=   3.0s\n",
      "[CV] max_depth=4, num_leaves=40 ......................................\n",
      "[CV] ....................... max_depth=4, num_leaves=40, total=   2.9s\n",
      "[CV] max_depth=4, num_leaves=50 ......................................\n",
      "[CV] ....................... max_depth=4, num_leaves=50, total=   3.0s\n",
      "[CV] max_depth=4, num_leaves=50 ......................................\n",
      "[CV] ....................... max_depth=4, num_leaves=50, total=   2.8s\n",
      "[CV] max_depth=4, num_leaves=50 ......................................\n",
      "[CV] ....................... max_depth=4, num_leaves=50, total=   3.0s\n",
      "[CV] max_depth=4, num_leaves=60 ......................................\n",
      "[CV] ....................... max_depth=4, num_leaves=60, total=   3.0s\n",
      "[CV] max_depth=4, num_leaves=60 ......................................\n",
      "[CV] ....................... max_depth=4, num_leaves=60, total=   3.1s\n",
      "[CV] max_depth=4, num_leaves=60 ......................................\n",
      "[CV] ....................... max_depth=4, num_leaves=60, total=   2.7s\n",
      "[CV] max_depth=4, num_leaves=70 ......................................\n",
      "[CV] ....................... max_depth=4, num_leaves=70, total=   3.2s\n",
      "[CV] max_depth=4, num_leaves=70 ......................................\n",
      "[CV] ....................... max_depth=4, num_leaves=70, total=   3.4s\n",
      "[CV] max_depth=4, num_leaves=70 ......................................\n",
      "[CV] ....................... max_depth=4, num_leaves=70, total=   3.6s\n",
      "[CV] max_depth=4, num_leaves=80 ......................................\n",
      "[CV] ....................... max_depth=4, num_leaves=80, total=   3.9s\n",
      "[CV] max_depth=4, num_leaves=80 ......................................\n",
      "[CV] ....................... max_depth=4, num_leaves=80, total=   3.8s\n",
      "[CV] max_depth=4, num_leaves=80 ......................................\n",
      "[CV] ....................... max_depth=4, num_leaves=80, total=   3.1s\n",
      "[CV] max_depth=4, num_leaves=90 ......................................\n",
      "[CV] ....................... max_depth=4, num_leaves=90, total=   3.0s\n",
      "[CV] max_depth=4, num_leaves=90 ......................................\n",
      "[CV] ....................... max_depth=4, num_leaves=90, total=   2.9s\n",
      "[CV] max_depth=4, num_leaves=90 ......................................\n",
      "[CV] ....................... max_depth=4, num_leaves=90, total=   3.2s\n",
      "[CV] max_depth=4, num_leaves=100 .....................................\n",
      "[CV] ...................... max_depth=4, num_leaves=100, total=   3.2s\n",
      "[CV] max_depth=4, num_leaves=100 .....................................\n",
      "[CV] ...................... max_depth=4, num_leaves=100, total=   2.9s\n",
      "[CV] max_depth=4, num_leaves=100 .....................................\n",
      "[CV] ...................... max_depth=4, num_leaves=100, total=   3.0s\n",
      "[CV] max_depth=4, num_leaves=110 .....................................\n",
      "[CV] ...................... max_depth=4, num_leaves=110, total=   2.8s\n",
      "[CV] max_depth=4, num_leaves=110 .....................................\n",
      "[CV] ...................... max_depth=4, num_leaves=110, total=   3.2s\n",
      "[CV] max_depth=4, num_leaves=110 .....................................\n",
      "[CV] ...................... max_depth=4, num_leaves=110, total=   3.0s\n",
      "[CV] max_depth=4, num_leaves=120 .....................................\n",
      "[CV] ...................... max_depth=4, num_leaves=120, total=   2.8s\n",
      "[CV] max_depth=4, num_leaves=120 .....................................\n",
      "[CV] ...................... max_depth=4, num_leaves=120, total=   3.0s\n",
      "[CV] max_depth=4, num_leaves=120 .....................................\n",
      "[CV] ...................... max_depth=4, num_leaves=120, total=   3.0s\n",
      "[CV] max_depth=4, num_leaves=130 .....................................\n",
      "[CV] ...................... max_depth=4, num_leaves=130, total=   3.2s\n",
      "[CV] max_depth=4, num_leaves=130 .....................................\n",
      "[CV] ...................... max_depth=4, num_leaves=130, total=   2.6s\n",
      "[CV] max_depth=4, num_leaves=130 .....................................\n",
      "[CV] ...................... max_depth=4, num_leaves=130, total=   2.9s\n",
      "[CV] max_depth=4, num_leaves=140 .....................................\n",
      "[CV] ...................... max_depth=4, num_leaves=140, total=   2.9s\n",
      "[CV] max_depth=4, num_leaves=140 .....................................\n",
      "[CV] ...................... max_depth=4, num_leaves=140, total=   3.0s\n",
      "[CV] max_depth=4, num_leaves=140 .....................................\n",
      "[CV] ...................... max_depth=4, num_leaves=140, total=   2.7s\n",
      "[CV] max_depth=5, num_leaves=10 ......................................\n",
      "[CV] ....................... max_depth=5, num_leaves=10, total=   2.7s\n",
      "[CV] max_depth=5, num_leaves=10 ......................................\n",
      "[CV] ....................... max_depth=5, num_leaves=10, total=   2.7s\n",
      "[CV] max_depth=5, num_leaves=10 ......................................\n",
      "[CV] ....................... max_depth=5, num_leaves=10, total=   2.6s\n",
      "[CV] max_depth=5, num_leaves=20 ......................................\n",
      "[CV] ....................... max_depth=5, num_leaves=20, total=   3.1s\n",
      "[CV] max_depth=5, num_leaves=20 ......................................\n",
      "[CV] ....................... max_depth=5, num_leaves=20, total=   3.2s\n",
      "[CV] max_depth=5, num_leaves=20 ......................................\n",
      "[CV] ....................... max_depth=5, num_leaves=20, total=   3.4s\n",
      "[CV] max_depth=5, num_leaves=30 ......................................\n",
      "[CV] ....................... max_depth=5, num_leaves=30, total=   3.3s\n",
      "[CV] max_depth=5, num_leaves=30 ......................................\n",
      "[CV] ....................... max_depth=5, num_leaves=30, total=   3.6s\n",
      "[CV] max_depth=5, num_leaves=30 ......................................\n",
      "[CV] ....................... max_depth=5, num_leaves=30, total=   3.4s\n",
      "[CV] max_depth=5, num_leaves=40 ......................................\n",
      "[CV] ....................... max_depth=5, num_leaves=40, total=   3.5s\n",
      "[CV] max_depth=5, num_leaves=40 ......................................\n",
      "[CV] ....................... max_depth=5, num_leaves=40, total=   3.7s\n",
      "[CV] max_depth=5, num_leaves=40 ......................................\n",
      "[CV] ....................... max_depth=5, num_leaves=40, total=   3.4s\n",
      "[CV] max_depth=5, num_leaves=50 ......................................\n",
      "[CV] ....................... max_depth=5, num_leaves=50, total=   3.4s\n",
      "[CV] max_depth=5, num_leaves=50 ......................................\n",
      "[CV] ....................... max_depth=5, num_leaves=50, total=   3.2s\n",
      "[CV] max_depth=5, num_leaves=50 ......................................\n",
      "[CV] ....................... max_depth=5, num_leaves=50, total=   3.2s\n",
      "[CV] max_depth=5, num_leaves=60 ......................................\n",
      "[CV] ....................... max_depth=5, num_leaves=60, total=   3.1s\n",
      "[CV] max_depth=5, num_leaves=60 ......................................\n",
      "[CV] ....................... max_depth=5, num_leaves=60, total=   3.5s\n",
      "[CV] max_depth=5, num_leaves=60 ......................................\n"
     ]
    },
    {
     "name": "stdout",
     "output_type": "stream",
     "text": [
      "[CV] ....................... max_depth=5, num_leaves=60, total=   3.4s\n",
      "[CV] max_depth=5, num_leaves=70 ......................................\n",
      "[CV] ....................... max_depth=5, num_leaves=70, total=   3.1s\n",
      "[CV] max_depth=5, num_leaves=70 ......................................\n",
      "[CV] ....................... max_depth=5, num_leaves=70, total=   3.4s\n",
      "[CV] max_depth=5, num_leaves=70 ......................................\n",
      "[CV] ....................... max_depth=5, num_leaves=70, total=   3.5s\n",
      "[CV] max_depth=5, num_leaves=80 ......................................\n",
      "[CV] ....................... max_depth=5, num_leaves=80, total=   3.3s\n",
      "[CV] max_depth=5, num_leaves=80 ......................................\n",
      "[CV] ....................... max_depth=5, num_leaves=80, total=   3.6s\n",
      "[CV] max_depth=5, num_leaves=80 ......................................\n",
      "[CV] ....................... max_depth=5, num_leaves=80, total=   3.6s\n",
      "[CV] max_depth=5, num_leaves=90 ......................................\n",
      "[CV] ....................... max_depth=5, num_leaves=90, total=   3.4s\n",
      "[CV] max_depth=5, num_leaves=90 ......................................\n",
      "[CV] ....................... max_depth=5, num_leaves=90, total=   3.5s\n",
      "[CV] max_depth=5, num_leaves=90 ......................................\n",
      "[CV] ....................... max_depth=5, num_leaves=90, total=   3.2s\n",
      "[CV] max_depth=5, num_leaves=100 .....................................\n",
      "[CV] ...................... max_depth=5, num_leaves=100, total=   3.3s\n",
      "[CV] max_depth=5, num_leaves=100 .....................................\n",
      "[CV] ...................... max_depth=5, num_leaves=100, total=   3.4s\n",
      "[CV] max_depth=5, num_leaves=100 .....................................\n",
      "[CV] ...................... max_depth=5, num_leaves=100, total=   3.7s\n",
      "[CV] max_depth=5, num_leaves=110 .....................................\n",
      "[CV] ...................... max_depth=5, num_leaves=110, total=   3.3s\n",
      "[CV] max_depth=5, num_leaves=110 .....................................\n",
      "[CV] ...................... max_depth=5, num_leaves=110, total=   3.3s\n",
      "[CV] max_depth=5, num_leaves=110 .....................................\n",
      "[CV] ...................... max_depth=5, num_leaves=110, total=   3.1s\n",
      "[CV] max_depth=5, num_leaves=120 .....................................\n",
      "[CV] ...................... max_depth=5, num_leaves=120, total=   3.2s\n",
      "[CV] max_depth=5, num_leaves=120 .....................................\n",
      "[CV] ...................... max_depth=5, num_leaves=120, total=   3.2s\n",
      "[CV] max_depth=5, num_leaves=120 .....................................\n",
      "[CV] ...................... max_depth=5, num_leaves=120, total=   3.2s\n",
      "[CV] max_depth=5, num_leaves=130 .....................................\n",
      "[CV] ...................... max_depth=5, num_leaves=130, total=   3.4s\n",
      "[CV] max_depth=5, num_leaves=130 .....................................\n",
      "[CV] ...................... max_depth=5, num_leaves=130, total=   3.6s\n",
      "[CV] max_depth=5, num_leaves=130 .....................................\n",
      "[CV] ...................... max_depth=5, num_leaves=130, total=   3.6s\n",
      "[CV] max_depth=5, num_leaves=140 .....................................\n",
      "[CV] ...................... max_depth=5, num_leaves=140, total=   3.1s\n",
      "[CV] max_depth=5, num_leaves=140 .....................................\n",
      "[CV] ...................... max_depth=5, num_leaves=140, total=   3.2s\n",
      "[CV] max_depth=5, num_leaves=140 .....................................\n",
      "[CV] ...................... max_depth=5, num_leaves=140, total=   3.2s\n",
      "[CV] max_depth=6, num_leaves=10 ......................................\n",
      "[CV] ....................... max_depth=6, num_leaves=10, total=   2.8s\n",
      "[CV] max_depth=6, num_leaves=10 ......................................\n",
      "[CV] ....................... max_depth=6, num_leaves=10, total=   2.7s\n",
      "[CV] max_depth=6, num_leaves=10 ......................................\n",
      "[CV] ....................... max_depth=6, num_leaves=10, total=   2.8s\n",
      "[CV] max_depth=6, num_leaves=20 ......................................\n",
      "[CV] ....................... max_depth=6, num_leaves=20, total=   3.0s\n",
      "[CV] max_depth=6, num_leaves=20 ......................................\n",
      "[CV] ....................... max_depth=6, num_leaves=20, total=   3.0s\n",
      "[CV] max_depth=6, num_leaves=20 ......................................\n",
      "[CV] ....................... max_depth=6, num_leaves=20, total=   3.2s\n",
      "[CV] max_depth=6, num_leaves=30 ......................................\n",
      "[CV] ....................... max_depth=6, num_leaves=30, total=   3.2s\n",
      "[CV] max_depth=6, num_leaves=30 ......................................\n",
      "[CV] ....................... max_depth=6, num_leaves=30, total=   3.7s\n",
      "[CV] max_depth=6, num_leaves=30 ......................................\n",
      "[CV] ....................... max_depth=6, num_leaves=30, total=   3.4s\n",
      "[CV] max_depth=6, num_leaves=40 ......................................\n",
      "[CV] ....................... max_depth=6, num_leaves=40, total=   3.4s\n",
      "[CV] max_depth=6, num_leaves=40 ......................................\n",
      "[CV] ....................... max_depth=6, num_leaves=40, total=   3.4s\n",
      "[CV] max_depth=6, num_leaves=40 ......................................\n",
      "[CV] ....................... max_depth=6, num_leaves=40, total=   3.6s\n",
      "[CV] max_depth=6, num_leaves=50 ......................................\n",
      "[CV] ....................... max_depth=6, num_leaves=50, total=   3.8s\n",
      "[CV] max_depth=6, num_leaves=50 ......................................\n",
      "[CV] ....................... max_depth=6, num_leaves=50, total=   3.6s\n",
      "[CV] max_depth=6, num_leaves=50 ......................................\n",
      "[CV] ....................... max_depth=6, num_leaves=50, total=   3.4s\n",
      "[CV] max_depth=6, num_leaves=60 ......................................\n",
      "[CV] ....................... max_depth=6, num_leaves=60, total=   3.9s\n",
      "[CV] max_depth=6, num_leaves=60 ......................................\n",
      "[CV] ....................... max_depth=6, num_leaves=60, total=   3.8s\n",
      "[CV] max_depth=6, num_leaves=60 ......................................\n",
      "[CV] ....................... max_depth=6, num_leaves=60, total=   3.7s\n",
      "[CV] max_depth=6, num_leaves=70 ......................................\n",
      "[CV] ....................... max_depth=6, num_leaves=70, total=   3.7s\n",
      "[CV] max_depth=6, num_leaves=70 ......................................\n",
      "[CV] ....................... max_depth=6, num_leaves=70, total=   3.6s\n",
      "[CV] max_depth=6, num_leaves=70 ......................................\n",
      "[CV] ....................... max_depth=6, num_leaves=70, total=   4.4s\n",
      "[CV] max_depth=6, num_leaves=80 ......................................\n",
      "[CV] ....................... max_depth=6, num_leaves=80, total=   3.8s\n",
      "[CV] max_depth=6, num_leaves=80 ......................................\n",
      "[CV] ....................... max_depth=6, num_leaves=80, total=   4.0s\n",
      "[CV] max_depth=6, num_leaves=80 ......................................\n",
      "[CV] ....................... max_depth=6, num_leaves=80, total=   3.6s\n",
      "[CV] max_depth=6, num_leaves=90 ......................................\n",
      "[CV] ....................... max_depth=6, num_leaves=90, total=   4.0s\n",
      "[CV] max_depth=6, num_leaves=90 ......................................\n",
      "[CV] ....................... max_depth=6, num_leaves=90, total=   3.8s\n",
      "[CV] max_depth=6, num_leaves=90 ......................................\n",
      "[CV] ....................... max_depth=6, num_leaves=90, total=   3.9s\n",
      "[CV] max_depth=6, num_leaves=100 .....................................\n",
      "[CV] ...................... max_depth=6, num_leaves=100, total=   4.2s\n",
      "[CV] max_depth=6, num_leaves=100 .....................................\n",
      "[CV] ...................... max_depth=6, num_leaves=100, total=   3.9s\n",
      "[CV] max_depth=6, num_leaves=100 .....................................\n",
      "[CV] ...................... max_depth=6, num_leaves=100, total=   3.9s\n",
      "[CV] max_depth=6, num_leaves=110 .....................................\n",
      "[CV] ...................... max_depth=6, num_leaves=110, total=   3.6s\n",
      "[CV] max_depth=6, num_leaves=110 .....................................\n",
      "[CV] ...................... max_depth=6, num_leaves=110, total=   3.6s\n",
      "[CV] max_depth=6, num_leaves=110 .....................................\n",
      "[CV] ...................... max_depth=6, num_leaves=110, total=   3.7s\n",
      "[CV] max_depth=6, num_leaves=120 .....................................\n"
     ]
    },
    {
     "name": "stdout",
     "output_type": "stream",
     "text": [
      "[CV] ...................... max_depth=6, num_leaves=120, total=   3.9s\n",
      "[CV] max_depth=6, num_leaves=120 .....................................\n",
      "[CV] ...................... max_depth=6, num_leaves=120, total=   3.6s\n",
      "[CV] max_depth=6, num_leaves=120 .....................................\n",
      "[CV] ...................... max_depth=6, num_leaves=120, total=   3.9s\n",
      "[CV] max_depth=6, num_leaves=130 .....................................\n",
      "[CV] ...................... max_depth=6, num_leaves=130, total=   3.8s\n",
      "[CV] max_depth=6, num_leaves=130 .....................................\n",
      "[CV] ...................... max_depth=6, num_leaves=130, total=   4.1s\n",
      "[CV] max_depth=6, num_leaves=130 .....................................\n",
      "[CV] ...................... max_depth=6, num_leaves=130, total=   3.8s\n",
      "[CV] max_depth=6, num_leaves=140 .....................................\n",
      "[CV] ...................... max_depth=6, num_leaves=140, total=   3.7s\n",
      "[CV] max_depth=6, num_leaves=140 .....................................\n",
      "[CV] ...................... max_depth=6, num_leaves=140, total=   3.8s\n",
      "[CV] max_depth=6, num_leaves=140 .....................................\n",
      "[CV] ...................... max_depth=6, num_leaves=140, total=   3.7s\n",
      "[CV] max_depth=7, num_leaves=10 ......................................\n",
      "[CV] ....................... max_depth=7, num_leaves=10, total=   2.8s\n",
      "[CV] max_depth=7, num_leaves=10 ......................................\n",
      "[CV] ....................... max_depth=7, num_leaves=10, total=   2.9s\n",
      "[CV] max_depth=7, num_leaves=10 ......................................\n",
      "[CV] ....................... max_depth=7, num_leaves=10, total=   2.8s\n",
      "[CV] max_depth=7, num_leaves=20 ......................................\n",
      "[CV] ....................... max_depth=7, num_leaves=20, total=   3.4s\n",
      "[CV] max_depth=7, num_leaves=20 ......................................\n",
      "[CV] ....................... max_depth=7, num_leaves=20, total=   2.9s\n",
      "[CV] max_depth=7, num_leaves=20 ......................................\n",
      "[CV] ....................... max_depth=7, num_leaves=20, total=   3.3s\n",
      "[CV] max_depth=7, num_leaves=30 ......................................\n",
      "[CV] ....................... max_depth=7, num_leaves=30, total=   3.6s\n",
      "[CV] max_depth=7, num_leaves=30 ......................................\n",
      "[CV] ....................... max_depth=7, num_leaves=30, total=   3.8s\n",
      "[CV] max_depth=7, num_leaves=30 ......................................\n",
      "[CV] ....................... max_depth=7, num_leaves=30, total=   3.6s\n",
      "[CV] max_depth=7, num_leaves=40 ......................................\n",
      "[CV] ....................... max_depth=7, num_leaves=40, total=   4.0s\n",
      "[CV] max_depth=7, num_leaves=40 ......................................\n",
      "[CV] ....................... max_depth=7, num_leaves=40, total=   3.8s\n",
      "[CV] max_depth=7, num_leaves=40 ......................................\n",
      "[CV] ....................... max_depth=7, num_leaves=40, total=   3.8s\n",
      "[CV] max_depth=7, num_leaves=50 ......................................\n",
      "[CV] ....................... max_depth=7, num_leaves=50, total=   3.8s\n",
      "[CV] max_depth=7, num_leaves=50 ......................................\n",
      "[CV] ....................... max_depth=7, num_leaves=50, total=   4.1s\n",
      "[CV] max_depth=7, num_leaves=50 ......................................\n",
      "[CV] ....................... max_depth=7, num_leaves=50, total=   4.2s\n",
      "[CV] max_depth=7, num_leaves=60 ......................................\n",
      "[CV] ....................... max_depth=7, num_leaves=60, total=   4.0s\n",
      "[CV] max_depth=7, num_leaves=60 ......................................\n",
      "[CV] ....................... max_depth=7, num_leaves=60, total=   4.4s\n",
      "[CV] max_depth=7, num_leaves=60 ......................................\n",
      "[CV] ....................... max_depth=7, num_leaves=60, total=   4.2s\n",
      "[CV] max_depth=7, num_leaves=70 ......................................\n",
      "[CV] ....................... max_depth=7, num_leaves=70, total=   4.6s\n",
      "[CV] max_depth=7, num_leaves=70 ......................................\n",
      "[CV] ....................... max_depth=7, num_leaves=70, total=   4.4s\n",
      "[CV] max_depth=7, num_leaves=70 ......................................\n",
      "[CV] ....................... max_depth=7, num_leaves=70, total=   4.2s\n",
      "[CV] max_depth=7, num_leaves=80 ......................................\n",
      "[CV] ....................... max_depth=7, num_leaves=80, total=   4.2s\n",
      "[CV] max_depth=7, num_leaves=80 ......................................\n",
      "[CV] ....................... max_depth=7, num_leaves=80, total=   4.2s\n",
      "[CV] max_depth=7, num_leaves=80 ......................................\n",
      "[CV] ....................... max_depth=7, num_leaves=80, total=   4.1s\n",
      "[CV] max_depth=7, num_leaves=90 ......................................\n",
      "[CV] ....................... max_depth=7, num_leaves=90, total=   4.4s\n",
      "[CV] max_depth=7, num_leaves=90 ......................................\n",
      "[CV] ....................... max_depth=7, num_leaves=90, total=   4.7s\n",
      "[CV] max_depth=7, num_leaves=90 ......................................\n",
      "[CV] ....................... max_depth=7, num_leaves=90, total=   4.1s\n",
      "[CV] max_depth=7, num_leaves=100 .....................................\n",
      "[CV] ...................... max_depth=7, num_leaves=100, total=   4.7s\n",
      "[CV] max_depth=7, num_leaves=100 .....................................\n",
      "[CV] ...................... max_depth=7, num_leaves=100, total=   4.5s\n",
      "[CV] max_depth=7, num_leaves=100 .....................................\n",
      "[CV] ...................... max_depth=7, num_leaves=100, total=   4.5s\n",
      "[CV] max_depth=7, num_leaves=110 .....................................\n",
      "[CV] ...................... max_depth=7, num_leaves=110, total=   4.6s\n",
      "[CV] max_depth=7, num_leaves=110 .....................................\n",
      "[CV] ...................... max_depth=7, num_leaves=110, total=   4.1s\n",
      "[CV] max_depth=7, num_leaves=110 .....................................\n",
      "[CV] ...................... max_depth=7, num_leaves=110, total=   4.3s\n",
      "[CV] max_depth=7, num_leaves=120 .....................................\n",
      "[CV] ...................... max_depth=7, num_leaves=120, total=   3.9s\n",
      "[CV] max_depth=7, num_leaves=120 .....................................\n",
      "[CV] ...................... max_depth=7, num_leaves=120, total=   4.0s\n",
      "[CV] max_depth=7, num_leaves=120 .....................................\n",
      "[CV] ...................... max_depth=7, num_leaves=120, total=   4.0s\n",
      "[CV] max_depth=7, num_leaves=130 .....................................\n",
      "[CV] ...................... max_depth=7, num_leaves=130, total=   4.4s\n",
      "[CV] max_depth=7, num_leaves=130 .....................................\n",
      "[CV] ...................... max_depth=7, num_leaves=130, total=   4.9s\n",
      "[CV] max_depth=7, num_leaves=130 .....................................\n",
      "[CV] ...................... max_depth=7, num_leaves=130, total=   4.2s\n",
      "[CV] max_depth=7, num_leaves=140 .....................................\n",
      "[CV] ...................... max_depth=7, num_leaves=140, total=   5.0s\n",
      "[CV] max_depth=7, num_leaves=140 .....................................\n",
      "[CV] ...................... max_depth=7, num_leaves=140, total=   4.7s\n",
      "[CV] max_depth=7, num_leaves=140 .....................................\n",
      "[CV] ...................... max_depth=7, num_leaves=140, total=   4.6s\n"
     ]
    },
    {
     "name": "stderr",
     "output_type": "stream",
     "text": [
      "[Parallel(n_jobs=1)]: Done 168 out of 168 | elapsed:  9.9min finished\n"
     ]
    },
    {
     "name": "stdout",
     "output_type": "stream",
     "text": [
      "LightGBM GridSearchCV AUC Score:    0.81384315348191\n",
      "最优参数:\n",
      "{'max_depth': 7, 'num_leaves': 20}\n"
     ]
    }
   ],
   "source": [
    "#第二步：确定max_depth和num_leaves\n",
    "#n_estimators=200\n",
    "model = LGBMClassifier(boosting_type='gbdt',\n",
    "                       objective='binary',\n",
    "                       metrics='auc',\n",
    "                       n_estimators=200,\n",
    "                       learning_rate=0.1,\n",
    "                       bagging_fraction=0.8,\n",
    "                       feature_fraction=0.8)\n",
    "parameters = {'max_depth': range(4, 8, 1), 'num_leaves': range(10, 150, 10)}\n",
    "#parameters={'max_depth': range(4,8,2), 'num_leaves':range(10, 100, 20)}\n",
    "clf = GridSearchCV(model, parameters, cv=3, verbose=2)\n",
    "clf.fit(train_data, train_target)\n",
    "\n",
    "score_test = roc_auc_score(test_target, clf.predict_proba(test_data)[:, 1])\n",
    "\n",
    "print(\"LightGBM GridSearchCV AUC Score:   \", score_test)\n",
    "print(\"最优参数:\")\n",
    "print(clf.best_params_)"
   ]
  },
  {
   "cell_type": "markdown",
   "metadata": {},
   "source": [
    "根据结果取 max_depth=6, num_leaves=40 也都这么做。"
   ]
  },
  {
   "cell_type": "code",
   "execution_count": 41,
   "metadata": {},
   "outputs": [
    {
     "name": "stdout",
     "output_type": "stream",
     "text": [
      "Fitting 3 folds for each of 4 candidates, totalling 12 fits\n",
      "[CV] max_bin=100, min_data_in_leaf=100 ...............................\n"
     ]
    },
    {
     "name": "stderr",
     "output_type": "stream",
     "text": [
      "[Parallel(n_jobs=1)]: Using backend SequentialBackend with 1 concurrent workers.\n"
     ]
    },
    {
     "name": "stdout",
     "output_type": "stream",
     "text": [
      "[CV] ... max_bin=100, min_data_in_leaf=100, score=0.953, total=   3.6s\n",
      "[CV] max_bin=100, min_data_in_leaf=100 ...............................\n"
     ]
    },
    {
     "name": "stderr",
     "output_type": "stream",
     "text": [
      "[Parallel(n_jobs=1)]: Done   1 out of   1 | elapsed:    3.5s remaining:    0.0s\n"
     ]
    },
    {
     "name": "stdout",
     "output_type": "stream",
     "text": [
      "[CV] ... max_bin=100, min_data_in_leaf=100, score=0.951, total=   3.7s\n",
      "[CV] max_bin=100, min_data_in_leaf=100 ...............................\n"
     ]
    },
    {
     "name": "stderr",
     "output_type": "stream",
     "text": [
      "[Parallel(n_jobs=1)]: Done   2 out of   2 | elapsed:    7.2s remaining:    0.0s\n"
     ]
    },
    {
     "name": "stdout",
     "output_type": "stream",
     "text": [
      "[CV] ... max_bin=100, min_data_in_leaf=100, score=0.952, total=   3.4s\n",
      "[CV] max_bin=200, min_data_in_leaf=100 ...............................\n",
      "[CV] ... max_bin=200, min_data_in_leaf=100, score=0.952, total=   3.4s\n",
      "[CV] max_bin=200, min_data_in_leaf=100 ...............................\n",
      "[CV] ... max_bin=200, min_data_in_leaf=100, score=0.951, total=   3.5s\n",
      "[CV] max_bin=200, min_data_in_leaf=100 ...............................\n",
      "[CV] ... max_bin=200, min_data_in_leaf=100, score=0.951, total=   3.4s\n",
      "[CV] max_bin=300, min_data_in_leaf=100 ...............................\n",
      "[CV] ... max_bin=300, min_data_in_leaf=100, score=0.952, total=   3.2s\n",
      "[CV] max_bin=300, min_data_in_leaf=100 ...............................\n",
      "[CV] ... max_bin=300, min_data_in_leaf=100, score=0.951, total=   3.3s\n",
      "[CV] max_bin=300, min_data_in_leaf=100 ...............................\n",
      "[CV] ... max_bin=300, min_data_in_leaf=100, score=0.952, total=   3.8s\n",
      "[CV] max_bin=400, min_data_in_leaf=100 ...............................\n",
      "[CV] ... max_bin=400, min_data_in_leaf=100, score=0.953, total=   3.5s\n",
      "[CV] max_bin=400, min_data_in_leaf=100 ...............................\n",
      "[CV] ... max_bin=400, min_data_in_leaf=100, score=0.951, total=   4.2s\n",
      "[CV] max_bin=400, min_data_in_leaf=100 ...............................\n",
      "[CV] ... max_bin=400, min_data_in_leaf=100, score=0.952, total=   4.1s\n"
     ]
    },
    {
     "name": "stderr",
     "output_type": "stream",
     "text": [
      "[Parallel(n_jobs=1)]: Done  12 out of  12 | elapsed:   43.1s finished\n"
     ]
    },
    {
     "name": "stdout",
     "output_type": "stream",
     "text": [
      "LightGBM GridSearchCV AUC Score:    0.8158486756976501\n",
      "最优参数:\n",
      "{'max_bin': 400, 'min_data_in_leaf': 100}\n"
     ]
    }
   ],
   "source": [
    "#第三步：确定min_data_in_leaf和max_bin in\n",
    "#已经确认内容：\n",
    "#n_estimators=200\n",
    "#{'max_depth': 6, 'num_leaves': 40}\n",
    "model = LGBMClassifier(boosting_type='gbdt',\n",
    "                       objective='binary',\n",
    "                       metrics='auc',\n",
    "                       n_estimators=200,\n",
    "                       max_depth=6,\n",
    "                       num_leaves=40,\n",
    "                       learning_rate=0.1,\n",
    "                       bagging_fraction=0.8,\n",
    "                       feature_fraction=0.8)\n",
    "\n",
    "#parameters={'max_bin': range(100,500,50),'min_data_in_leaf':range(100,150,10)}\n",
    "parameters = {\n",
    "    'max_bin': range(100, 500, 100),\n",
    "    'min_data_in_leaf': range(100, 150, 50)\n",
    "}\n",
    "#调高 verbose可以看到更多信息\n",
    "clf = GridSearchCV(model, parameters, cv=3, verbose=3)\n",
    "clf.fit(train_data, train_target)\n",
    "\n",
    "score_test = roc_auc_score(test_target, clf.predict_proba(test_data)[:, 1])\n",
    "\n",
    "print(\"LightGBM GridSearchCV AUC Score:   \", score_test)\n",
    "print(\"最优参数:\")\n",
    "print(clf.best_params_)"
   ]
  },
  {
   "cell_type": "code",
   "execution_count": 42,
   "metadata": {},
   "outputs": [
    {
     "name": "stdout",
     "output_type": "stream",
     "text": [
      "Fitting 3 folds for each of 125 candidates, totalling 375 fits\n",
      "[CV] bagging_fraction=0.6, bagging_freq=0, feature_fraction=0.6 ......\n"
     ]
    },
    {
     "name": "stderr",
     "output_type": "stream",
     "text": [
      "[Parallel(n_jobs=1)]: Using backend SequentialBackend with 1 concurrent workers.\n"
     ]
    },
    {
     "name": "stdout",
     "output_type": "stream",
     "text": [
      "[CV]  bagging_fraction=0.6, bagging_freq=0, feature_fraction=0.6, score=0.953, total=   3.3s\n",
      "[CV] bagging_fraction=0.6, bagging_freq=0, feature_fraction=0.6 ......\n"
     ]
    },
    {
     "name": "stderr",
     "output_type": "stream",
     "text": [
      "[Parallel(n_jobs=1)]: Done   1 out of   1 | elapsed:    3.2s remaining:    0.0s\n"
     ]
    },
    {
     "name": "stdout",
     "output_type": "stream",
     "text": [
      "[CV]  bagging_fraction=0.6, bagging_freq=0, feature_fraction=0.6, score=0.951, total=   3.5s\n",
      "[CV] bagging_fraction=0.6, bagging_freq=0, feature_fraction=0.6 ......\n"
     ]
    },
    {
     "name": "stderr",
     "output_type": "stream",
     "text": [
      "[Parallel(n_jobs=1)]: Done   2 out of   2 | elapsed:    6.7s remaining:    0.0s\n"
     ]
    },
    {
     "name": "stdout",
     "output_type": "stream",
     "text": [
      "[CV]  bagging_fraction=0.6, bagging_freq=0, feature_fraction=0.6, score=0.952, total=   3.1s\n",
      "[CV] bagging_fraction=0.6, bagging_freq=0, feature_fraction=0.7 ......\n",
      "[CV]  bagging_fraction=0.6, bagging_freq=0, feature_fraction=0.7, score=0.953, total=   3.4s\n",
      "[CV] bagging_fraction=0.6, bagging_freq=0, feature_fraction=0.7 ......\n",
      "[CV]  bagging_fraction=0.6, bagging_freq=0, feature_fraction=0.7, score=0.951, total=   3.4s\n",
      "[CV] bagging_fraction=0.6, bagging_freq=0, feature_fraction=0.7 ......\n",
      "[CV]  bagging_fraction=0.6, bagging_freq=0, feature_fraction=0.7, score=0.952, total=   3.6s\n",
      "[CV] bagging_fraction=0.6, bagging_freq=0, feature_fraction=0.8 ......\n",
      "[CV]  bagging_fraction=0.6, bagging_freq=0, feature_fraction=0.8, score=0.953, total=   3.6s\n",
      "[CV] bagging_fraction=0.6, bagging_freq=0, feature_fraction=0.8 ......\n",
      "[CV]  bagging_fraction=0.6, bagging_freq=0, feature_fraction=0.8, score=0.950, total=   4.0s\n",
      "[CV] bagging_fraction=0.6, bagging_freq=0, feature_fraction=0.8 ......\n",
      "[CV]  bagging_fraction=0.6, bagging_freq=0, feature_fraction=0.8, score=0.952, total=   3.7s\n",
      "[CV] bagging_fraction=0.6, bagging_freq=0, feature_fraction=0.9 ......\n",
      "[CV]  bagging_fraction=0.6, bagging_freq=0, feature_fraction=0.9, score=0.953, total=   4.0s\n",
      "[CV] bagging_fraction=0.6, bagging_freq=0, feature_fraction=0.9 ......\n",
      "[CV]  bagging_fraction=0.6, bagging_freq=0, feature_fraction=0.9, score=0.951, total=   4.3s\n",
      "[CV] bagging_fraction=0.6, bagging_freq=0, feature_fraction=0.9 ......\n",
      "[CV]  bagging_fraction=0.6, bagging_freq=0, feature_fraction=0.9, score=0.952, total=   4.2s\n",
      "[CV] bagging_fraction=0.6, bagging_freq=0, feature_fraction=1.0 ......\n",
      "[CV]  bagging_fraction=0.6, bagging_freq=0, feature_fraction=1.0, score=0.953, total=   3.9s\n",
      "[CV] bagging_fraction=0.6, bagging_freq=0, feature_fraction=1.0 ......\n",
      "[CV]  bagging_fraction=0.6, bagging_freq=0, feature_fraction=1.0, score=0.951, total=   4.0s\n",
      "[CV] bagging_fraction=0.6, bagging_freq=0, feature_fraction=1.0 ......\n",
      "[CV]  bagging_fraction=0.6, bagging_freq=0, feature_fraction=1.0, score=0.951, total=   3.7s\n",
      "[CV] bagging_fraction=0.6, bagging_freq=2, feature_fraction=0.6 ......\n",
      "[CV]  bagging_fraction=0.6, bagging_freq=2, feature_fraction=0.6, score=0.952, total=   3.7s\n",
      "[CV] bagging_fraction=0.6, bagging_freq=2, feature_fraction=0.6 ......\n",
      "[CV]  bagging_fraction=0.6, bagging_freq=2, feature_fraction=0.6, score=0.951, total=   4.0s\n",
      "[CV] bagging_fraction=0.6, bagging_freq=2, feature_fraction=0.6 ......\n",
      "[CV]  bagging_fraction=0.6, bagging_freq=2, feature_fraction=0.6, score=0.951, total=   4.2s\n",
      "[CV] bagging_fraction=0.6, bagging_freq=2, feature_fraction=0.7 ......\n",
      "[CV]  bagging_fraction=0.6, bagging_freq=2, feature_fraction=0.7, score=0.953, total=   4.6s\n",
      "[CV] bagging_fraction=0.6, bagging_freq=2, feature_fraction=0.7 ......\n",
      "[CV]  bagging_fraction=0.6, bagging_freq=2, feature_fraction=0.7, score=0.951, total=   4.2s\n",
      "[CV] bagging_fraction=0.6, bagging_freq=2, feature_fraction=0.7 ......\n",
      "[CV]  bagging_fraction=0.6, bagging_freq=2, feature_fraction=0.7, score=0.951, total=   4.4s\n",
      "[CV] bagging_fraction=0.6, bagging_freq=2, feature_fraction=0.8 ......\n",
      "[CV]  bagging_fraction=0.6, bagging_freq=2, feature_fraction=0.8, score=0.953, total=   4.6s\n",
      "[CV] bagging_fraction=0.6, bagging_freq=2, feature_fraction=0.8 ......\n",
      "[CV]  bagging_fraction=0.6, bagging_freq=2, feature_fraction=0.8, score=0.951, total=   4.4s\n",
      "[CV] bagging_fraction=0.6, bagging_freq=2, feature_fraction=0.8 ......\n",
      "[CV]  bagging_fraction=0.6, bagging_freq=2, feature_fraction=0.8, score=0.951, total=   4.3s\n",
      "[CV] bagging_fraction=0.6, bagging_freq=2, feature_fraction=0.9 ......\n",
      "[CV]  bagging_fraction=0.6, bagging_freq=2, feature_fraction=0.9, score=0.953, total=   4.3s\n",
      "[CV] bagging_fraction=0.6, bagging_freq=2, feature_fraction=0.9 ......\n",
      "[CV]  bagging_fraction=0.6, bagging_freq=2, feature_fraction=0.9, score=0.951, total=   3.9s\n",
      "[CV] bagging_fraction=0.6, bagging_freq=2, feature_fraction=0.9 ......\n",
      "[CV]  bagging_fraction=0.6, bagging_freq=2, feature_fraction=0.9, score=0.951, total=   4.5s\n",
      "[CV] bagging_fraction=0.6, bagging_freq=2, feature_fraction=1.0 ......\n",
      "[CV]  bagging_fraction=0.6, bagging_freq=2, feature_fraction=1.0, score=0.953, total=   4.8s\n",
      "[CV] bagging_fraction=0.6, bagging_freq=2, feature_fraction=1.0 ......\n",
      "[CV]  bagging_fraction=0.6, bagging_freq=2, feature_fraction=1.0, score=0.951, total=   4.8s\n",
      "[CV] bagging_fraction=0.6, bagging_freq=2, feature_fraction=1.0 ......\n",
      "[CV]  bagging_fraction=0.6, bagging_freq=2, feature_fraction=1.0, score=0.951, total=   4.6s\n",
      "[CV] bagging_fraction=0.6, bagging_freq=4, feature_fraction=0.6 ......\n",
      "[CV]  bagging_fraction=0.6, bagging_freq=4, feature_fraction=0.6, score=0.952, total=   3.9s\n",
      "[CV] bagging_fraction=0.6, bagging_freq=4, feature_fraction=0.6 ......\n",
      "[CV]  bagging_fraction=0.6, bagging_freq=4, feature_fraction=0.6, score=0.951, total=   4.3s\n",
      "[CV] bagging_fraction=0.6, bagging_freq=4, feature_fraction=0.6 ......\n",
      "[CV]  bagging_fraction=0.6, bagging_freq=4, feature_fraction=0.6, score=0.951, total=   3.9s\n",
      "[CV] bagging_fraction=0.6, bagging_freq=4, feature_fraction=0.7 ......\n",
      "[CV]  bagging_fraction=0.6, bagging_freq=4, feature_fraction=0.7, score=0.953, total=   3.8s\n",
      "[CV] bagging_fraction=0.6, bagging_freq=4, feature_fraction=0.7 ......\n",
      "[CV]  bagging_fraction=0.6, bagging_freq=4, feature_fraction=0.7, score=0.950, total=   3.8s\n",
      "[CV] bagging_fraction=0.6, bagging_freq=4, feature_fraction=0.7 ......\n",
      "[CV]  bagging_fraction=0.6, bagging_freq=4, feature_fraction=0.7, score=0.951, total=   3.7s\n",
      "[CV] bagging_fraction=0.6, bagging_freq=4, feature_fraction=0.8 ......\n",
      "[CV]  bagging_fraction=0.6, bagging_freq=4, feature_fraction=0.8, score=0.953, total=   3.6s\n",
      "[CV] bagging_fraction=0.6, bagging_freq=4, feature_fraction=0.8 ......\n",
      "[CV]  bagging_fraction=0.6, bagging_freq=4, feature_fraction=0.8, score=0.951, total=   4.3s\n",
      "[CV] bagging_fraction=0.6, bagging_freq=4, feature_fraction=0.8 ......\n",
      "[CV]  bagging_fraction=0.6, bagging_freq=4, feature_fraction=0.8, score=0.952, total=   4.4s\n",
      "[CV] bagging_fraction=0.6, bagging_freq=4, feature_fraction=0.9 ......\n",
      "[CV]  bagging_fraction=0.6, bagging_freq=4, feature_fraction=0.9, score=0.952, total=   4.6s\n",
      "[CV] bagging_fraction=0.6, bagging_freq=4, feature_fraction=0.9 ......\n",
      "[CV]  bagging_fraction=0.6, bagging_freq=4, feature_fraction=0.9, score=0.950, total=   4.3s\n",
      "[CV] bagging_fraction=0.6, bagging_freq=4, feature_fraction=0.9 ......\n",
      "[CV]  bagging_fraction=0.6, bagging_freq=4, feature_fraction=0.9, score=0.951, total=   4.4s\n",
      "[CV] bagging_fraction=0.6, bagging_freq=4, feature_fraction=1.0 ......\n",
      "[CV]  bagging_fraction=0.6, bagging_freq=4, feature_fraction=1.0, score=0.952, total=   4.3s\n",
      "[CV] bagging_fraction=0.6, bagging_freq=4, feature_fraction=1.0 ......\n",
      "[CV]  bagging_fraction=0.6, bagging_freq=4, feature_fraction=1.0, score=0.950, total=   4.4s\n",
      "[CV] bagging_fraction=0.6, bagging_freq=4, feature_fraction=1.0 ......\n",
      "[CV]  bagging_fraction=0.6, bagging_freq=4, feature_fraction=1.0, score=0.951, total=   4.4s\n",
      "[CV] bagging_fraction=0.6, bagging_freq=6, feature_fraction=0.6 ......\n",
      "[CV]  bagging_fraction=0.6, bagging_freq=6, feature_fraction=0.6, score=0.953, total=   3.9s\n",
      "[CV] bagging_fraction=0.6, bagging_freq=6, feature_fraction=0.6 ......\n",
      "[CV]  bagging_fraction=0.6, bagging_freq=6, feature_fraction=0.6, score=0.951, total=   4.0s\n",
      "[CV] bagging_fraction=0.6, bagging_freq=6, feature_fraction=0.6 ......\n",
      "[CV]  bagging_fraction=0.6, bagging_freq=6, feature_fraction=0.6, score=0.951, total=   3.8s\n",
      "[CV] bagging_fraction=0.6, bagging_freq=6, feature_fraction=0.7 ......\n",
      "[CV]  bagging_fraction=0.6, bagging_freq=6, feature_fraction=0.7, score=0.953, total=   3.9s\n",
      "[CV] bagging_fraction=0.6, bagging_freq=6, feature_fraction=0.7 ......\n",
      "[CV]  bagging_fraction=0.6, bagging_freq=6, feature_fraction=0.7, score=0.951, total=   3.9s\n",
      "[CV] bagging_fraction=0.6, bagging_freq=6, feature_fraction=0.7 ......\n",
      "[CV]  bagging_fraction=0.6, bagging_freq=6, feature_fraction=0.7, score=0.951, total=   4.0s\n",
      "[CV] bagging_fraction=0.6, bagging_freq=6, feature_fraction=0.8 ......\n",
      "[CV]  bagging_fraction=0.6, bagging_freq=6, feature_fraction=0.8, score=0.953, total=   4.4s\n",
      "[CV] bagging_fraction=0.6, bagging_freq=6, feature_fraction=0.8 ......\n"
     ]
    },
    {
     "name": "stdout",
     "output_type": "stream",
     "text": [
      "[CV]  bagging_fraction=0.6, bagging_freq=6, feature_fraction=0.8, score=0.951, total=   4.3s\n",
      "[CV] bagging_fraction=0.6, bagging_freq=6, feature_fraction=0.8 ......\n",
      "[CV]  bagging_fraction=0.6, bagging_freq=6, feature_fraction=0.8, score=0.951, total=   4.2s\n",
      "[CV] bagging_fraction=0.6, bagging_freq=6, feature_fraction=0.9 ......\n",
      "[CV]  bagging_fraction=0.6, bagging_freq=6, feature_fraction=0.9, score=0.952, total=   4.1s\n",
      "[CV] bagging_fraction=0.6, bagging_freq=6, feature_fraction=0.9 ......\n",
      "[CV]  bagging_fraction=0.6, bagging_freq=6, feature_fraction=0.9, score=0.950, total=   4.1s\n",
      "[CV] bagging_fraction=0.6, bagging_freq=6, feature_fraction=0.9 ......\n",
      "[CV]  bagging_fraction=0.6, bagging_freq=6, feature_fraction=0.9, score=0.951, total=   4.0s\n",
      "[CV] bagging_fraction=0.6, bagging_freq=6, feature_fraction=1.0 ......\n",
      "[CV]  bagging_fraction=0.6, bagging_freq=6, feature_fraction=1.0, score=0.953, total=   3.9s\n",
      "[CV] bagging_fraction=0.6, bagging_freq=6, feature_fraction=1.0 ......\n",
      "[CV]  bagging_fraction=0.6, bagging_freq=6, feature_fraction=1.0, score=0.951, total=   4.5s\n",
      "[CV] bagging_fraction=0.6, bagging_freq=6, feature_fraction=1.0 ......\n",
      "[CV]  bagging_fraction=0.6, bagging_freq=6, feature_fraction=1.0, score=0.951, total=   4.7s\n",
      "[CV] bagging_fraction=0.6, bagging_freq=8, feature_fraction=0.6 ......\n",
      "[CV]  bagging_fraction=0.6, bagging_freq=8, feature_fraction=0.6, score=0.953, total=   3.9s\n",
      "[CV] bagging_fraction=0.6, bagging_freq=8, feature_fraction=0.6 ......\n",
      "[CV]  bagging_fraction=0.6, bagging_freq=8, feature_fraction=0.6, score=0.950, total=   3.7s\n",
      "[CV] bagging_fraction=0.6, bagging_freq=8, feature_fraction=0.6 ......\n",
      "[CV]  bagging_fraction=0.6, bagging_freq=8, feature_fraction=0.6, score=0.952, total=   3.8s\n",
      "[CV] bagging_fraction=0.6, bagging_freq=8, feature_fraction=0.7 ......\n",
      "[CV]  bagging_fraction=0.6, bagging_freq=8, feature_fraction=0.7, score=0.953, total=   3.8s\n",
      "[CV] bagging_fraction=0.6, bagging_freq=8, feature_fraction=0.7 ......\n",
      "[CV]  bagging_fraction=0.6, bagging_freq=8, feature_fraction=0.7, score=0.951, total=   3.7s\n",
      "[CV] bagging_fraction=0.6, bagging_freq=8, feature_fraction=0.7 ......\n",
      "[CV]  bagging_fraction=0.6, bagging_freq=8, feature_fraction=0.7, score=0.951, total=   3.9s\n",
      "[CV] bagging_fraction=0.6, bagging_freq=8, feature_fraction=0.8 ......\n",
      "[CV]  bagging_fraction=0.6, bagging_freq=8, feature_fraction=0.8, score=0.953, total=   4.5s\n",
      "[CV] bagging_fraction=0.6, bagging_freq=8, feature_fraction=0.8 ......\n",
      "[CV]  bagging_fraction=0.6, bagging_freq=8, feature_fraction=0.8, score=0.951, total=   4.1s\n",
      "[CV] bagging_fraction=0.6, bagging_freq=8, feature_fraction=0.8 ......\n",
      "[CV]  bagging_fraction=0.6, bagging_freq=8, feature_fraction=0.8, score=0.951, total=   3.8s\n",
      "[CV] bagging_fraction=0.6, bagging_freq=8, feature_fraction=0.9 ......\n",
      "[CV]  bagging_fraction=0.6, bagging_freq=8, feature_fraction=0.9, score=0.953, total=   4.0s\n",
      "[CV] bagging_fraction=0.6, bagging_freq=8, feature_fraction=0.9 ......\n",
      "[CV]  bagging_fraction=0.6, bagging_freq=8, feature_fraction=0.9, score=0.951, total=   4.1s\n",
      "[CV] bagging_fraction=0.6, bagging_freq=8, feature_fraction=0.9 ......\n",
      "[CV]  bagging_fraction=0.6, bagging_freq=8, feature_fraction=0.9, score=0.951, total=   4.4s\n",
      "[CV] bagging_fraction=0.6, bagging_freq=8, feature_fraction=1.0 ......\n",
      "[CV]  bagging_fraction=0.6, bagging_freq=8, feature_fraction=1.0, score=0.953, total=   3.9s\n",
      "[CV] bagging_fraction=0.6, bagging_freq=8, feature_fraction=1.0 ......\n",
      "[CV]  bagging_fraction=0.6, bagging_freq=8, feature_fraction=1.0, score=0.951, total=   4.5s\n",
      "[CV] bagging_fraction=0.6, bagging_freq=8, feature_fraction=1.0 ......\n",
      "[CV]  bagging_fraction=0.6, bagging_freq=8, feature_fraction=1.0, score=0.952, total=   4.7s\n",
      "[CV] bagging_fraction=0.7, bagging_freq=0, feature_fraction=0.6 ......\n",
      "[CV]  bagging_fraction=0.7, bagging_freq=0, feature_fraction=0.6, score=0.953, total=   3.1s\n",
      "[CV] bagging_fraction=0.7, bagging_freq=0, feature_fraction=0.6 ......\n",
      "[CV]  bagging_fraction=0.7, bagging_freq=0, feature_fraction=0.6, score=0.951, total=   3.4s\n",
      "[CV] bagging_fraction=0.7, bagging_freq=0, feature_fraction=0.6 ......\n",
      "[CV]  bagging_fraction=0.7, bagging_freq=0, feature_fraction=0.6, score=0.952, total=   3.7s\n",
      "[CV] bagging_fraction=0.7, bagging_freq=0, feature_fraction=0.7 ......\n",
      "[CV]  bagging_fraction=0.7, bagging_freq=0, feature_fraction=0.7, score=0.953, total=   4.0s\n",
      "[CV] bagging_fraction=0.7, bagging_freq=0, feature_fraction=0.7 ......\n",
      "[CV]  bagging_fraction=0.7, bagging_freq=0, feature_fraction=0.7, score=0.951, total=   3.2s\n",
      "[CV] bagging_fraction=0.7, bagging_freq=0, feature_fraction=0.7 ......\n",
      "[CV]  bagging_fraction=0.7, bagging_freq=0, feature_fraction=0.7, score=0.952, total=   3.2s\n",
      "[CV] bagging_fraction=0.7, bagging_freq=0, feature_fraction=0.8 ......\n",
      "[CV]  bagging_fraction=0.7, bagging_freq=0, feature_fraction=0.8, score=0.953, total=   3.2s\n",
      "[CV] bagging_fraction=0.7, bagging_freq=0, feature_fraction=0.8 ......\n",
      "[CV]  bagging_fraction=0.7, bagging_freq=0, feature_fraction=0.8, score=0.950, total=   3.2s\n",
      "[CV] bagging_fraction=0.7, bagging_freq=0, feature_fraction=0.8 ......\n",
      "[CV]  bagging_fraction=0.7, bagging_freq=0, feature_fraction=0.8, score=0.952, total=   3.2s\n",
      "[CV] bagging_fraction=0.7, bagging_freq=0, feature_fraction=0.9 ......\n",
      "[CV]  bagging_fraction=0.7, bagging_freq=0, feature_fraction=0.9, score=0.953, total=   3.3s\n",
      "[CV] bagging_fraction=0.7, bagging_freq=0, feature_fraction=0.9 ......\n",
      "[CV]  bagging_fraction=0.7, bagging_freq=0, feature_fraction=0.9, score=0.951, total=   3.4s\n",
      "[CV] bagging_fraction=0.7, bagging_freq=0, feature_fraction=0.9 ......\n",
      "[CV]  bagging_fraction=0.7, bagging_freq=0, feature_fraction=0.9, score=0.952, total=   3.4s\n",
      "[CV] bagging_fraction=0.7, bagging_freq=0, feature_fraction=1.0 ......\n",
      "[CV]  bagging_fraction=0.7, bagging_freq=0, feature_fraction=1.0, score=0.953, total=   3.5s\n",
      "[CV] bagging_fraction=0.7, bagging_freq=0, feature_fraction=1.0 ......\n",
      "[CV]  bagging_fraction=0.7, bagging_freq=0, feature_fraction=1.0, score=0.951, total=   3.6s\n",
      "[CV] bagging_fraction=0.7, bagging_freq=0, feature_fraction=1.0 ......\n",
      "[CV]  bagging_fraction=0.7, bagging_freq=0, feature_fraction=1.0, score=0.951, total=   3.5s\n",
      "[CV] bagging_fraction=0.7, bagging_freq=2, feature_fraction=0.6 ......\n",
      "[CV]  bagging_fraction=0.7, bagging_freq=2, feature_fraction=0.6, score=0.952, total=   3.7s\n",
      "[CV] bagging_fraction=0.7, bagging_freq=2, feature_fraction=0.6 ......\n",
      "[CV]  bagging_fraction=0.7, bagging_freq=2, feature_fraction=0.6, score=0.951, total=   3.7s\n",
      "[CV] bagging_fraction=0.7, bagging_freq=2, feature_fraction=0.6 ......\n",
      "[CV]  bagging_fraction=0.7, bagging_freq=2, feature_fraction=0.6, score=0.951, total=   3.8s\n",
      "[CV] bagging_fraction=0.7, bagging_freq=2, feature_fraction=0.7 ......\n",
      "[CV]  bagging_fraction=0.7, bagging_freq=2, feature_fraction=0.7, score=0.953, total=   3.9s\n",
      "[CV] bagging_fraction=0.7, bagging_freq=2, feature_fraction=0.7 ......\n",
      "[CV]  bagging_fraction=0.7, bagging_freq=2, feature_fraction=0.7, score=0.951, total=   4.0s\n",
      "[CV] bagging_fraction=0.7, bagging_freq=2, feature_fraction=0.7 ......\n",
      "[CV]  bagging_fraction=0.7, bagging_freq=2, feature_fraction=0.7, score=0.952, total=   3.9s\n",
      "[CV] bagging_fraction=0.7, bagging_freq=2, feature_fraction=0.8 ......\n",
      "[CV]  bagging_fraction=0.7, bagging_freq=2, feature_fraction=0.8, score=0.953, total=   4.0s\n",
      "[CV] bagging_fraction=0.7, bagging_freq=2, feature_fraction=0.8 ......\n",
      "[CV]  bagging_fraction=0.7, bagging_freq=2, feature_fraction=0.8, score=0.951, total=   4.0s\n",
      "[CV] bagging_fraction=0.7, bagging_freq=2, feature_fraction=0.8 ......\n",
      "[CV]  bagging_fraction=0.7, bagging_freq=2, feature_fraction=0.8, score=0.952, total=   4.0s\n",
      "[CV] bagging_fraction=0.7, bagging_freq=2, feature_fraction=0.9 ......\n",
      "[CV]  bagging_fraction=0.7, bagging_freq=2, feature_fraction=0.9, score=0.953, total=   4.0s\n",
      "[CV] bagging_fraction=0.7, bagging_freq=2, feature_fraction=0.9 ......\n",
      "[CV]  bagging_fraction=0.7, bagging_freq=2, feature_fraction=0.9, score=0.951, total=   4.1s\n",
      "[CV] bagging_fraction=0.7, bagging_freq=2, feature_fraction=0.9 ......\n",
      "[CV]  bagging_fraction=0.7, bagging_freq=2, feature_fraction=0.9, score=0.952, total=   4.2s\n",
      "[CV] bagging_fraction=0.7, bagging_freq=2, feature_fraction=1.0 ......\n"
     ]
    },
    {
     "name": "stdout",
     "output_type": "stream",
     "text": [
      "[CV]  bagging_fraction=0.7, bagging_freq=2, feature_fraction=1.0, score=0.953, total=   4.4s\n",
      "[CV] bagging_fraction=0.7, bagging_freq=2, feature_fraction=1.0 ......\n",
      "[CV]  bagging_fraction=0.7, bagging_freq=2, feature_fraction=1.0, score=0.951, total=   4.2s\n",
      "[CV] bagging_fraction=0.7, bagging_freq=2, feature_fraction=1.0 ......\n",
      "[CV]  bagging_fraction=0.7, bagging_freq=2, feature_fraction=1.0, score=0.951, total=   4.2s\n",
      "[CV] bagging_fraction=0.7, bagging_freq=4, feature_fraction=0.6 ......\n",
      "[CV]  bagging_fraction=0.7, bagging_freq=4, feature_fraction=0.6, score=0.953, total=   3.5s\n",
      "[CV] bagging_fraction=0.7, bagging_freq=4, feature_fraction=0.6 ......\n",
      "[CV]  bagging_fraction=0.7, bagging_freq=4, feature_fraction=0.6, score=0.951, total=   3.6s\n",
      "[CV] bagging_fraction=0.7, bagging_freq=4, feature_fraction=0.6 ......\n",
      "[CV]  bagging_fraction=0.7, bagging_freq=4, feature_fraction=0.6, score=0.951, total=   3.5s\n",
      "[CV] bagging_fraction=0.7, bagging_freq=4, feature_fraction=0.7 ......\n",
      "[CV]  bagging_fraction=0.7, bagging_freq=4, feature_fraction=0.7, score=0.952, total=   3.6s\n",
      "[CV] bagging_fraction=0.7, bagging_freq=4, feature_fraction=0.7 ......\n",
      "[CV]  bagging_fraction=0.7, bagging_freq=4, feature_fraction=0.7, score=0.951, total=   3.6s\n",
      "[CV] bagging_fraction=0.7, bagging_freq=4, feature_fraction=0.7 ......\n",
      "[CV]  bagging_fraction=0.7, bagging_freq=4, feature_fraction=0.7, score=0.952, total=   3.6s\n",
      "[CV] bagging_fraction=0.7, bagging_freq=4, feature_fraction=0.8 ......\n",
      "[CV]  bagging_fraction=0.7, bagging_freq=4, feature_fraction=0.8, score=0.953, total=   3.7s\n",
      "[CV] bagging_fraction=0.7, bagging_freq=4, feature_fraction=0.8 ......\n",
      "[CV]  bagging_fraction=0.7, bagging_freq=4, feature_fraction=0.8, score=0.951, total=   3.7s\n",
      "[CV] bagging_fraction=0.7, bagging_freq=4, feature_fraction=0.8 ......\n",
      "[CV]  bagging_fraction=0.7, bagging_freq=4, feature_fraction=0.8, score=0.951, total=   3.8s\n",
      "[CV] bagging_fraction=0.7, bagging_freq=4, feature_fraction=0.9 ......\n",
      "[CV]  bagging_fraction=0.7, bagging_freq=4, feature_fraction=0.9, score=0.953, total=   3.8s\n",
      "[CV] bagging_fraction=0.7, bagging_freq=4, feature_fraction=0.9 ......\n",
      "[CV]  bagging_fraction=0.7, bagging_freq=4, feature_fraction=0.9, score=0.951, total=   3.9s\n",
      "[CV] bagging_fraction=0.7, bagging_freq=4, feature_fraction=0.9 ......\n",
      "[CV]  bagging_fraction=0.7, bagging_freq=4, feature_fraction=0.9, score=0.951, total=   4.0s\n",
      "[CV] bagging_fraction=0.7, bagging_freq=4, feature_fraction=1.0 ......\n",
      "[CV]  bagging_fraction=0.7, bagging_freq=4, feature_fraction=1.0, score=0.953, total=   4.0s\n",
      "[CV] bagging_fraction=0.7, bagging_freq=4, feature_fraction=1.0 ......\n",
      "[CV]  bagging_fraction=0.7, bagging_freq=4, feature_fraction=1.0, score=0.951, total=   3.9s\n",
      "[CV] bagging_fraction=0.7, bagging_freq=4, feature_fraction=1.0 ......\n",
      "[CV]  bagging_fraction=0.7, bagging_freq=4, feature_fraction=1.0, score=0.951, total=   3.9s\n",
      "[CV] bagging_fraction=0.7, bagging_freq=6, feature_fraction=0.6 ......\n",
      "[CV]  bagging_fraction=0.7, bagging_freq=6, feature_fraction=0.6, score=0.952, total=   3.4s\n",
      "[CV] bagging_fraction=0.7, bagging_freq=6, feature_fraction=0.6 ......\n",
      "[CV]  bagging_fraction=0.7, bagging_freq=6, feature_fraction=0.6, score=0.951, total=   3.5s\n",
      "[CV] bagging_fraction=0.7, bagging_freq=6, feature_fraction=0.6 ......\n",
      "[CV]  bagging_fraction=0.7, bagging_freq=6, feature_fraction=0.6, score=0.951, total=   3.5s\n",
      "[CV] bagging_fraction=0.7, bagging_freq=6, feature_fraction=0.7 ......\n",
      "[CV]  bagging_fraction=0.7, bagging_freq=6, feature_fraction=0.7, score=0.953, total=   3.5s\n",
      "[CV] bagging_fraction=0.7, bagging_freq=6, feature_fraction=0.7 ......\n",
      "[CV]  bagging_fraction=0.7, bagging_freq=6, feature_fraction=0.7, score=0.952, total=   3.6s\n",
      "[CV] bagging_fraction=0.7, bagging_freq=6, feature_fraction=0.7 ......\n",
      "[CV]  bagging_fraction=0.7, bagging_freq=6, feature_fraction=0.7, score=0.951, total=   3.7s\n",
      "[CV] bagging_fraction=0.7, bagging_freq=6, feature_fraction=0.8 ......\n",
      "[CV]  bagging_fraction=0.7, bagging_freq=6, feature_fraction=0.8, score=0.952, total=   3.8s\n",
      "[CV] bagging_fraction=0.7, bagging_freq=6, feature_fraction=0.8 ......\n",
      "[CV]  bagging_fraction=0.7, bagging_freq=6, feature_fraction=0.8, score=0.951, total=   3.7s\n",
      "[CV] bagging_fraction=0.7, bagging_freq=6, feature_fraction=0.8 ......\n",
      "[CV]  bagging_fraction=0.7, bagging_freq=6, feature_fraction=0.8, score=0.952, total=   3.6s\n",
      "[CV] bagging_fraction=0.7, bagging_freq=6, feature_fraction=0.9 ......\n",
      "[CV]  bagging_fraction=0.7, bagging_freq=6, feature_fraction=0.9, score=0.953, total=   3.7s\n",
      "[CV] bagging_fraction=0.7, bagging_freq=6, feature_fraction=0.9 ......\n",
      "[CV]  bagging_fraction=0.7, bagging_freq=6, feature_fraction=0.9, score=0.951, total=   3.9s\n",
      "[CV] bagging_fraction=0.7, bagging_freq=6, feature_fraction=0.9 ......\n",
      "[CV]  bagging_fraction=0.7, bagging_freq=6, feature_fraction=0.9, score=0.952, total=   3.8s\n",
      "[CV] bagging_fraction=0.7, bagging_freq=6, feature_fraction=1.0 ......\n",
      "[CV]  bagging_fraction=0.7, bagging_freq=6, feature_fraction=1.0, score=0.953, total=   3.8s\n",
      "[CV] bagging_fraction=0.7, bagging_freq=6, feature_fraction=1.0 ......\n",
      "[CV]  bagging_fraction=0.7, bagging_freq=6, feature_fraction=1.0, score=0.951, total=   4.0s\n",
      "[CV] bagging_fraction=0.7, bagging_freq=6, feature_fraction=1.0 ......\n",
      "[CV]  bagging_fraction=0.7, bagging_freq=6, feature_fraction=1.0, score=0.952, total=   4.0s\n",
      "[CV] bagging_fraction=0.7, bagging_freq=8, feature_fraction=0.6 ......\n",
      "[CV]  bagging_fraction=0.7, bagging_freq=8, feature_fraction=0.6, score=0.952, total=   3.4s\n",
      "[CV] bagging_fraction=0.7, bagging_freq=8, feature_fraction=0.6 ......\n",
      "[CV]  bagging_fraction=0.7, bagging_freq=8, feature_fraction=0.6, score=0.951, total=   3.4s\n",
      "[CV] bagging_fraction=0.7, bagging_freq=8, feature_fraction=0.6 ......\n",
      "[CV]  bagging_fraction=0.7, bagging_freq=8, feature_fraction=0.6, score=0.951, total=   3.4s\n",
      "[CV] bagging_fraction=0.7, bagging_freq=8, feature_fraction=0.7 ......\n",
      "[CV]  bagging_fraction=0.7, bagging_freq=8, feature_fraction=0.7, score=0.953, total=   3.5s\n",
      "[CV] bagging_fraction=0.7, bagging_freq=8, feature_fraction=0.7 ......\n",
      "[CV]  bagging_fraction=0.7, bagging_freq=8, feature_fraction=0.7, score=0.951, total=   3.6s\n",
      "[CV] bagging_fraction=0.7, bagging_freq=8, feature_fraction=0.7 ......\n",
      "[CV]  bagging_fraction=0.7, bagging_freq=8, feature_fraction=0.7, score=0.951, total=   3.7s\n",
      "[CV] bagging_fraction=0.7, bagging_freq=8, feature_fraction=0.8 ......\n",
      "[CV]  bagging_fraction=0.7, bagging_freq=8, feature_fraction=0.8, score=0.953, total=   3.9s\n",
      "[CV] bagging_fraction=0.7, bagging_freq=8, feature_fraction=0.8 ......\n",
      "[CV]  bagging_fraction=0.7, bagging_freq=8, feature_fraction=0.8, score=0.951, total=   3.9s\n",
      "[CV] bagging_fraction=0.7, bagging_freq=8, feature_fraction=0.8 ......\n",
      "[CV]  bagging_fraction=0.7, bagging_freq=8, feature_fraction=0.8, score=0.951, total=   3.8s\n",
      "[CV] bagging_fraction=0.7, bagging_freq=8, feature_fraction=0.9 ......\n",
      "[CV]  bagging_fraction=0.7, bagging_freq=8, feature_fraction=0.9, score=0.953, total=   4.4s\n",
      "[CV] bagging_fraction=0.7, bagging_freq=8, feature_fraction=0.9 ......\n",
      "[CV]  bagging_fraction=0.7, bagging_freq=8, feature_fraction=0.9, score=0.951, total=   4.3s\n",
      "[CV] bagging_fraction=0.7, bagging_freq=8, feature_fraction=0.9 ......\n",
      "[CV]  bagging_fraction=0.7, bagging_freq=8, feature_fraction=0.9, score=0.951, total=   4.1s\n",
      "[CV] bagging_fraction=0.7, bagging_freq=8, feature_fraction=1.0 ......\n",
      "[CV]  bagging_fraction=0.7, bagging_freq=8, feature_fraction=1.0, score=0.953, total=   4.0s\n",
      "[CV] bagging_fraction=0.7, bagging_freq=8, feature_fraction=1.0 ......\n",
      "[CV]  bagging_fraction=0.7, bagging_freq=8, feature_fraction=1.0, score=0.950, total=   4.4s\n",
      "[CV] bagging_fraction=0.7, bagging_freq=8, feature_fraction=1.0 ......\n",
      "[CV]  bagging_fraction=0.7, bagging_freq=8, feature_fraction=1.0, score=0.951, total=   4.2s\n",
      "[CV] bagging_fraction=0.8, bagging_freq=0, feature_fraction=0.6 ......\n",
      "[CV]  bagging_fraction=0.8, bagging_freq=0, feature_fraction=0.6, score=0.953, total=   3.6s\n",
      "[CV] bagging_fraction=0.8, bagging_freq=0, feature_fraction=0.6 ......\n",
      "[CV]  bagging_fraction=0.8, bagging_freq=0, feature_fraction=0.6, score=0.951, total=   3.4s\n",
      "[CV] bagging_fraction=0.8, bagging_freq=0, feature_fraction=0.6 ......\n"
     ]
    },
    {
     "name": "stdout",
     "output_type": "stream",
     "text": [
      "[CV]  bagging_fraction=0.8, bagging_freq=0, feature_fraction=0.6, score=0.952, total=   3.9s\n",
      "[CV] bagging_fraction=0.8, bagging_freq=0, feature_fraction=0.7 ......\n",
      "[CV]  bagging_fraction=0.8, bagging_freq=0, feature_fraction=0.7, score=0.953, total=   3.3s\n",
      "[CV] bagging_fraction=0.8, bagging_freq=0, feature_fraction=0.7 ......\n",
      "[CV]  bagging_fraction=0.8, bagging_freq=0, feature_fraction=0.7, score=0.951, total=   3.7s\n",
      "[CV] bagging_fraction=0.8, bagging_freq=0, feature_fraction=0.7 ......\n",
      "[CV]  bagging_fraction=0.8, bagging_freq=0, feature_fraction=0.7, score=0.952, total=   3.5s\n",
      "[CV] bagging_fraction=0.8, bagging_freq=0, feature_fraction=0.8 ......\n",
      "[CV]  bagging_fraction=0.8, bagging_freq=0, feature_fraction=0.8, score=0.953, total=   3.4s\n",
      "[CV] bagging_fraction=0.8, bagging_freq=0, feature_fraction=0.8 ......\n",
      "[CV]  bagging_fraction=0.8, bagging_freq=0, feature_fraction=0.8, score=0.950, total=   3.8s\n",
      "[CV] bagging_fraction=0.8, bagging_freq=0, feature_fraction=0.8 ......\n",
      "[CV]  bagging_fraction=0.8, bagging_freq=0, feature_fraction=0.8, score=0.952, total=   4.2s\n",
      "[CV] bagging_fraction=0.8, bagging_freq=0, feature_fraction=0.9 ......\n",
      "[CV]  bagging_fraction=0.8, bagging_freq=0, feature_fraction=0.9, score=0.953, total=   3.8s\n",
      "[CV] bagging_fraction=0.8, bagging_freq=0, feature_fraction=0.9 ......\n",
      "[CV]  bagging_fraction=0.8, bagging_freq=0, feature_fraction=0.9, score=0.951, total=   4.1s\n",
      "[CV] bagging_fraction=0.8, bagging_freq=0, feature_fraction=0.9 ......\n",
      "[CV]  bagging_fraction=0.8, bagging_freq=0, feature_fraction=0.9, score=0.952, total=   4.4s\n",
      "[CV] bagging_fraction=0.8, bagging_freq=0, feature_fraction=1.0 ......\n",
      "[CV]  bagging_fraction=0.8, bagging_freq=0, feature_fraction=1.0, score=0.953, total=   3.9s\n",
      "[CV] bagging_fraction=0.8, bagging_freq=0, feature_fraction=1.0 ......\n",
      "[CV]  bagging_fraction=0.8, bagging_freq=0, feature_fraction=1.0, score=0.951, total=   3.7s\n",
      "[CV] bagging_fraction=0.8, bagging_freq=0, feature_fraction=1.0 ......\n",
      "[CV]  bagging_fraction=0.8, bagging_freq=0, feature_fraction=1.0, score=0.951, total=   4.5s\n",
      "[CV] bagging_fraction=0.8, bagging_freq=2, feature_fraction=0.6 ......\n",
      "[CV]  bagging_fraction=0.8, bagging_freq=2, feature_fraction=0.6, score=0.953, total=   4.9s\n",
      "[CV] bagging_fraction=0.8, bagging_freq=2, feature_fraction=0.6 ......\n",
      "[CV]  bagging_fraction=0.8, bagging_freq=2, feature_fraction=0.6, score=0.951, total=   4.5s\n",
      "[CV] bagging_fraction=0.8, bagging_freq=2, feature_fraction=0.6 ......\n",
      "[CV]  bagging_fraction=0.8, bagging_freq=2, feature_fraction=0.6, score=0.952, total=   5.2s\n",
      "[CV] bagging_fraction=0.8, bagging_freq=2, feature_fraction=0.7 ......\n",
      "[CV]  bagging_fraction=0.8, bagging_freq=2, feature_fraction=0.7, score=0.953, total=   4.6s\n",
      "[CV] bagging_fraction=0.8, bagging_freq=2, feature_fraction=0.7 ......\n",
      "[CV]  bagging_fraction=0.8, bagging_freq=2, feature_fraction=0.7, score=0.950, total=   5.4s\n",
      "[CV] bagging_fraction=0.8, bagging_freq=2, feature_fraction=0.7 ......\n",
      "[CV]  bagging_fraction=0.8, bagging_freq=2, feature_fraction=0.7, score=0.952, total=   4.3s\n",
      "[CV] bagging_fraction=0.8, bagging_freq=2, feature_fraction=0.8 ......\n",
      "[CV]  bagging_fraction=0.8, bagging_freq=2, feature_fraction=0.8, score=0.953, total=   4.5s\n",
      "[CV] bagging_fraction=0.8, bagging_freq=2, feature_fraction=0.8 ......\n",
      "[CV]  bagging_fraction=0.8, bagging_freq=2, feature_fraction=0.8, score=0.951, total=   4.8s\n",
      "[CV] bagging_fraction=0.8, bagging_freq=2, feature_fraction=0.8 ......\n",
      "[CV]  bagging_fraction=0.8, bagging_freq=2, feature_fraction=0.8, score=0.952, total=   4.6s\n",
      "[CV] bagging_fraction=0.8, bagging_freq=2, feature_fraction=0.9 ......\n",
      "[CV]  bagging_fraction=0.8, bagging_freq=2, feature_fraction=0.9, score=0.953, total=   5.4s\n",
      "[CV] bagging_fraction=0.8, bagging_freq=2, feature_fraction=0.9 ......\n",
      "[CV]  bagging_fraction=0.8, bagging_freq=2, feature_fraction=0.9, score=0.951, total=   4.9s\n",
      "[CV] bagging_fraction=0.8, bagging_freq=2, feature_fraction=0.9 ......\n",
      "[CV]  bagging_fraction=0.8, bagging_freq=2, feature_fraction=0.9, score=0.952, total=   4.7s\n",
      "[CV] bagging_fraction=0.8, bagging_freq=2, feature_fraction=1.0 ......\n",
      "[CV]  bagging_fraction=0.8, bagging_freq=2, feature_fraction=1.0, score=0.953, total=   5.2s\n",
      "[CV] bagging_fraction=0.8, bagging_freq=2, feature_fraction=1.0 ......\n",
      "[CV]  bagging_fraction=0.8, bagging_freq=2, feature_fraction=1.0, score=0.951, total=   4.9s\n",
      "[CV] bagging_fraction=0.8, bagging_freq=2, feature_fraction=1.0 ......\n",
      "[CV]  bagging_fraction=0.8, bagging_freq=2, feature_fraction=1.0, score=0.952, total=   4.6s\n",
      "[CV] bagging_fraction=0.8, bagging_freq=4, feature_fraction=0.6 ......\n",
      "[CV]  bagging_fraction=0.8, bagging_freq=4, feature_fraction=0.6, score=0.953, total=   4.0s\n",
      "[CV] bagging_fraction=0.8, bagging_freq=4, feature_fraction=0.6 ......\n",
      "[CV]  bagging_fraction=0.8, bagging_freq=4, feature_fraction=0.6, score=0.951, total=   4.8s\n",
      "[CV] bagging_fraction=0.8, bagging_freq=4, feature_fraction=0.6 ......\n",
      "[CV]  bagging_fraction=0.8, bagging_freq=4, feature_fraction=0.6, score=0.952, total=   4.3s\n",
      "[CV] bagging_fraction=0.8, bagging_freq=4, feature_fraction=0.7 ......\n"
     ]
    },
    {
     "ename": "KeyboardInterrupt",
     "evalue": "",
     "output_type": "error",
     "traceback": [
      "\u001b[1;31m---------------------------------------------------------------------------\u001b[0m",
      "\u001b[1;31mKeyboardInterrupt\u001b[0m                         Traceback (most recent call last)",
      "\u001b[1;32m<ipython-input-42-00f0868f5717>\u001b[0m in \u001b[0;36m<module>\u001b[1;34m\u001b[0m\n\u001b[0;32m     24\u001b[0m \u001b[1;31m#调高 verbose可以看到更多信息\u001b[0m\u001b[1;33m\u001b[0m\u001b[1;33m\u001b[0m\u001b[1;33m\u001b[0m\u001b[0m\n\u001b[0;32m     25\u001b[0m \u001b[0mclf\u001b[0m \u001b[1;33m=\u001b[0m \u001b[0mGridSearchCV\u001b[0m\u001b[1;33m(\u001b[0m\u001b[0mmodel\u001b[0m\u001b[1;33m,\u001b[0m \u001b[0mparameters\u001b[0m\u001b[1;33m,\u001b[0m \u001b[0mcv\u001b[0m\u001b[1;33m=\u001b[0m\u001b[1;36m3\u001b[0m\u001b[1;33m,\u001b[0m \u001b[0mverbose\u001b[0m\u001b[1;33m=\u001b[0m\u001b[1;36m3\u001b[0m\u001b[1;33m)\u001b[0m\u001b[1;33m\u001b[0m\u001b[1;33m\u001b[0m\u001b[0m\n\u001b[1;32m---> 26\u001b[1;33m \u001b[0mclf\u001b[0m\u001b[1;33m.\u001b[0m\u001b[0mfit\u001b[0m\u001b[1;33m(\u001b[0m\u001b[0mtrain_data\u001b[0m\u001b[1;33m,\u001b[0m \u001b[0mtrain_target\u001b[0m\u001b[1;33m)\u001b[0m\u001b[1;33m\u001b[0m\u001b[1;33m\u001b[0m\u001b[0m\n\u001b[0m\u001b[0;32m     27\u001b[0m \u001b[1;33m\u001b[0m\u001b[0m\n\u001b[0;32m     28\u001b[0m \u001b[0mscore_test\u001b[0m \u001b[1;33m=\u001b[0m \u001b[0mroc_auc_score\u001b[0m\u001b[1;33m(\u001b[0m\u001b[0mtest_target\u001b[0m\u001b[1;33m,\u001b[0m \u001b[0mclf\u001b[0m\u001b[1;33m.\u001b[0m\u001b[0mpredict_proba\u001b[0m\u001b[1;33m(\u001b[0m\u001b[0mtest_data\u001b[0m\u001b[1;33m)\u001b[0m\u001b[1;33m[\u001b[0m\u001b[1;33m:\u001b[0m\u001b[1;33m,\u001b[0m \u001b[1;36m1\u001b[0m\u001b[1;33m]\u001b[0m\u001b[1;33m)\u001b[0m\u001b[1;33m\u001b[0m\u001b[1;33m\u001b[0m\u001b[0m\n",
      "\u001b[1;32md:\\ProgramData\\Anaconda3\\lib\\site-packages\\sklearn\\model_selection\\_search.py\u001b[0m in \u001b[0;36mfit\u001b[1;34m(self, X, y, groups, **fit_params)\u001b[0m\n\u001b[0;32m    686\u001b[0m                 \u001b[1;32mreturn\u001b[0m \u001b[0mresults\u001b[0m\u001b[1;33m\u001b[0m\u001b[1;33m\u001b[0m\u001b[0m\n\u001b[0;32m    687\u001b[0m \u001b[1;33m\u001b[0m\u001b[0m\n\u001b[1;32m--> 688\u001b[1;33m             \u001b[0mself\u001b[0m\u001b[1;33m.\u001b[0m\u001b[0m_run_search\u001b[0m\u001b[1;33m(\u001b[0m\u001b[0mevaluate_candidates\u001b[0m\u001b[1;33m)\u001b[0m\u001b[1;33m\u001b[0m\u001b[1;33m\u001b[0m\u001b[0m\n\u001b[0m\u001b[0;32m    689\u001b[0m \u001b[1;33m\u001b[0m\u001b[0m\n\u001b[0;32m    690\u001b[0m         \u001b[1;31m# For multi-metric evaluation, store the best_index_, best_params_ and\u001b[0m\u001b[1;33m\u001b[0m\u001b[1;33m\u001b[0m\u001b[1;33m\u001b[0m\u001b[0m\n",
      "\u001b[1;32md:\\ProgramData\\Anaconda3\\lib\\site-packages\\sklearn\\model_selection\\_search.py\u001b[0m in \u001b[0;36m_run_search\u001b[1;34m(self, evaluate_candidates)\u001b[0m\n\u001b[0;32m   1147\u001b[0m     \u001b[1;32mdef\u001b[0m \u001b[0m_run_search\u001b[0m\u001b[1;33m(\u001b[0m\u001b[0mself\u001b[0m\u001b[1;33m,\u001b[0m \u001b[0mevaluate_candidates\u001b[0m\u001b[1;33m)\u001b[0m\u001b[1;33m:\u001b[0m\u001b[1;33m\u001b[0m\u001b[1;33m\u001b[0m\u001b[0m\n\u001b[0;32m   1148\u001b[0m         \u001b[1;34m\"\"\"Search all candidates in param_grid\"\"\"\u001b[0m\u001b[1;33m\u001b[0m\u001b[1;33m\u001b[0m\u001b[0m\n\u001b[1;32m-> 1149\u001b[1;33m         \u001b[0mevaluate_candidates\u001b[0m\u001b[1;33m(\u001b[0m\u001b[0mParameterGrid\u001b[0m\u001b[1;33m(\u001b[0m\u001b[0mself\u001b[0m\u001b[1;33m.\u001b[0m\u001b[0mparam_grid\u001b[0m\u001b[1;33m)\u001b[0m\u001b[1;33m)\u001b[0m\u001b[1;33m\u001b[0m\u001b[1;33m\u001b[0m\u001b[0m\n\u001b[0m\u001b[0;32m   1150\u001b[0m \u001b[1;33m\u001b[0m\u001b[0m\n\u001b[0;32m   1151\u001b[0m \u001b[1;33m\u001b[0m\u001b[0m\n",
      "\u001b[1;32md:\\ProgramData\\Anaconda3\\lib\\site-packages\\sklearn\\model_selection\\_search.py\u001b[0m in \u001b[0;36mevaluate_candidates\u001b[1;34m(candidate_params)\u001b[0m\n\u001b[0;32m    665\u001b[0m                                \u001b[1;32mfor\u001b[0m \u001b[0mparameters\u001b[0m\u001b[1;33m,\u001b[0m \u001b[1;33m(\u001b[0m\u001b[0mtrain\u001b[0m\u001b[1;33m,\u001b[0m \u001b[0mtest\u001b[0m\u001b[1;33m)\u001b[0m\u001b[1;33m\u001b[0m\u001b[1;33m\u001b[0m\u001b[0m\n\u001b[0;32m    666\u001b[0m                                in product(candidate_params,\n\u001b[1;32m--> 667\u001b[1;33m                                           cv.split(X, y, groups)))\n\u001b[0m\u001b[0;32m    668\u001b[0m \u001b[1;33m\u001b[0m\u001b[0m\n\u001b[0;32m    669\u001b[0m                 \u001b[1;32mif\u001b[0m \u001b[0mlen\u001b[0m\u001b[1;33m(\u001b[0m\u001b[0mout\u001b[0m\u001b[1;33m)\u001b[0m \u001b[1;33m<\u001b[0m \u001b[1;36m1\u001b[0m\u001b[1;33m:\u001b[0m\u001b[1;33m\u001b[0m\u001b[1;33m\u001b[0m\u001b[0m\n",
      "\u001b[1;32md:\\ProgramData\\Anaconda3\\lib\\site-packages\\joblib\\parallel.py\u001b[0m in \u001b[0;36m__call__\u001b[1;34m(self, iterable)\u001b[0m\n\u001b[0;32m    922\u001b[0m                 \u001b[0mself\u001b[0m\u001b[1;33m.\u001b[0m\u001b[0m_iterating\u001b[0m \u001b[1;33m=\u001b[0m \u001b[0mself\u001b[0m\u001b[1;33m.\u001b[0m\u001b[0m_original_iterator\u001b[0m \u001b[1;32mis\u001b[0m \u001b[1;32mnot\u001b[0m \u001b[1;32mNone\u001b[0m\u001b[1;33m\u001b[0m\u001b[1;33m\u001b[0m\u001b[0m\n\u001b[0;32m    923\u001b[0m \u001b[1;33m\u001b[0m\u001b[0m\n\u001b[1;32m--> 924\u001b[1;33m             \u001b[1;32mwhile\u001b[0m \u001b[0mself\u001b[0m\u001b[1;33m.\u001b[0m\u001b[0mdispatch_one_batch\u001b[0m\u001b[1;33m(\u001b[0m\u001b[0miterator\u001b[0m\u001b[1;33m)\u001b[0m\u001b[1;33m:\u001b[0m\u001b[1;33m\u001b[0m\u001b[1;33m\u001b[0m\u001b[0m\n\u001b[0m\u001b[0;32m    925\u001b[0m                 \u001b[1;32mpass\u001b[0m\u001b[1;33m\u001b[0m\u001b[1;33m\u001b[0m\u001b[0m\n\u001b[0;32m    926\u001b[0m \u001b[1;33m\u001b[0m\u001b[0m\n",
      "\u001b[1;32md:\\ProgramData\\Anaconda3\\lib\\site-packages\\joblib\\parallel.py\u001b[0m in \u001b[0;36mdispatch_one_batch\u001b[1;34m(self, iterator)\u001b[0m\n\u001b[0;32m    757\u001b[0m                 \u001b[1;32mreturn\u001b[0m \u001b[1;32mFalse\u001b[0m\u001b[1;33m\u001b[0m\u001b[1;33m\u001b[0m\u001b[0m\n\u001b[0;32m    758\u001b[0m             \u001b[1;32melse\u001b[0m\u001b[1;33m:\u001b[0m\u001b[1;33m\u001b[0m\u001b[1;33m\u001b[0m\u001b[0m\n\u001b[1;32m--> 759\u001b[1;33m                 \u001b[0mself\u001b[0m\u001b[1;33m.\u001b[0m\u001b[0m_dispatch\u001b[0m\u001b[1;33m(\u001b[0m\u001b[0mtasks\u001b[0m\u001b[1;33m)\u001b[0m\u001b[1;33m\u001b[0m\u001b[1;33m\u001b[0m\u001b[0m\n\u001b[0m\u001b[0;32m    760\u001b[0m                 \u001b[1;32mreturn\u001b[0m \u001b[1;32mTrue\u001b[0m\u001b[1;33m\u001b[0m\u001b[1;33m\u001b[0m\u001b[0m\n\u001b[0;32m    761\u001b[0m \u001b[1;33m\u001b[0m\u001b[0m\n",
      "\u001b[1;32md:\\ProgramData\\Anaconda3\\lib\\site-packages\\joblib\\parallel.py\u001b[0m in \u001b[0;36m_dispatch\u001b[1;34m(self, batch)\u001b[0m\n\u001b[0;32m    714\u001b[0m         \u001b[1;32mwith\u001b[0m \u001b[0mself\u001b[0m\u001b[1;33m.\u001b[0m\u001b[0m_lock\u001b[0m\u001b[1;33m:\u001b[0m\u001b[1;33m\u001b[0m\u001b[1;33m\u001b[0m\u001b[0m\n\u001b[0;32m    715\u001b[0m             \u001b[0mjob_idx\u001b[0m \u001b[1;33m=\u001b[0m \u001b[0mlen\u001b[0m\u001b[1;33m(\u001b[0m\u001b[0mself\u001b[0m\u001b[1;33m.\u001b[0m\u001b[0m_jobs\u001b[0m\u001b[1;33m)\u001b[0m\u001b[1;33m\u001b[0m\u001b[1;33m\u001b[0m\u001b[0m\n\u001b[1;32m--> 716\u001b[1;33m             \u001b[0mjob\u001b[0m \u001b[1;33m=\u001b[0m \u001b[0mself\u001b[0m\u001b[1;33m.\u001b[0m\u001b[0m_backend\u001b[0m\u001b[1;33m.\u001b[0m\u001b[0mapply_async\u001b[0m\u001b[1;33m(\u001b[0m\u001b[0mbatch\u001b[0m\u001b[1;33m,\u001b[0m \u001b[0mcallback\u001b[0m\u001b[1;33m=\u001b[0m\u001b[0mcb\u001b[0m\u001b[1;33m)\u001b[0m\u001b[1;33m\u001b[0m\u001b[1;33m\u001b[0m\u001b[0m\n\u001b[0m\u001b[0;32m    717\u001b[0m             \u001b[1;31m# A job can complete so quickly than its callback is\u001b[0m\u001b[1;33m\u001b[0m\u001b[1;33m\u001b[0m\u001b[1;33m\u001b[0m\u001b[0m\n\u001b[0;32m    718\u001b[0m             \u001b[1;31m# called before we get here, causing self._jobs to\u001b[0m\u001b[1;33m\u001b[0m\u001b[1;33m\u001b[0m\u001b[1;33m\u001b[0m\u001b[0m\n",
      "\u001b[1;32md:\\ProgramData\\Anaconda3\\lib\\site-packages\\joblib\\_parallel_backends.py\u001b[0m in \u001b[0;36mapply_async\u001b[1;34m(self, func, callback)\u001b[0m\n\u001b[0;32m    180\u001b[0m     \u001b[1;32mdef\u001b[0m \u001b[0mapply_async\u001b[0m\u001b[1;33m(\u001b[0m\u001b[0mself\u001b[0m\u001b[1;33m,\u001b[0m \u001b[0mfunc\u001b[0m\u001b[1;33m,\u001b[0m \u001b[0mcallback\u001b[0m\u001b[1;33m=\u001b[0m\u001b[1;32mNone\u001b[0m\u001b[1;33m)\u001b[0m\u001b[1;33m:\u001b[0m\u001b[1;33m\u001b[0m\u001b[1;33m\u001b[0m\u001b[0m\n\u001b[0;32m    181\u001b[0m         \u001b[1;34m\"\"\"Schedule a func to be run\"\"\"\u001b[0m\u001b[1;33m\u001b[0m\u001b[1;33m\u001b[0m\u001b[0m\n\u001b[1;32m--> 182\u001b[1;33m         \u001b[0mresult\u001b[0m \u001b[1;33m=\u001b[0m \u001b[0mImmediateResult\u001b[0m\u001b[1;33m(\u001b[0m\u001b[0mfunc\u001b[0m\u001b[1;33m)\u001b[0m\u001b[1;33m\u001b[0m\u001b[1;33m\u001b[0m\u001b[0m\n\u001b[0m\u001b[0;32m    183\u001b[0m         \u001b[1;32mif\u001b[0m \u001b[0mcallback\u001b[0m\u001b[1;33m:\u001b[0m\u001b[1;33m\u001b[0m\u001b[1;33m\u001b[0m\u001b[0m\n\u001b[0;32m    184\u001b[0m             \u001b[0mcallback\u001b[0m\u001b[1;33m(\u001b[0m\u001b[0mresult\u001b[0m\u001b[1;33m)\u001b[0m\u001b[1;33m\u001b[0m\u001b[1;33m\u001b[0m\u001b[0m\n",
      "\u001b[1;32md:\\ProgramData\\Anaconda3\\lib\\site-packages\\joblib\\_parallel_backends.py\u001b[0m in \u001b[0;36m__init__\u001b[1;34m(self, batch)\u001b[0m\n\u001b[0;32m    547\u001b[0m         \u001b[1;31m# Don't delay the application, to avoid keeping the input\u001b[0m\u001b[1;33m\u001b[0m\u001b[1;33m\u001b[0m\u001b[1;33m\u001b[0m\u001b[0m\n\u001b[0;32m    548\u001b[0m         \u001b[1;31m# arguments in memory\u001b[0m\u001b[1;33m\u001b[0m\u001b[1;33m\u001b[0m\u001b[1;33m\u001b[0m\u001b[0m\n\u001b[1;32m--> 549\u001b[1;33m         \u001b[0mself\u001b[0m\u001b[1;33m.\u001b[0m\u001b[0mresults\u001b[0m \u001b[1;33m=\u001b[0m \u001b[0mbatch\u001b[0m\u001b[1;33m(\u001b[0m\u001b[1;33m)\u001b[0m\u001b[1;33m\u001b[0m\u001b[1;33m\u001b[0m\u001b[0m\n\u001b[0m\u001b[0;32m    550\u001b[0m \u001b[1;33m\u001b[0m\u001b[0m\n\u001b[0;32m    551\u001b[0m     \u001b[1;32mdef\u001b[0m \u001b[0mget\u001b[0m\u001b[1;33m(\u001b[0m\u001b[0mself\u001b[0m\u001b[1;33m)\u001b[0m\u001b[1;33m:\u001b[0m\u001b[1;33m\u001b[0m\u001b[1;33m\u001b[0m\u001b[0m\n",
      "\u001b[1;32md:\\ProgramData\\Anaconda3\\lib\\site-packages\\joblib\\parallel.py\u001b[0m in \u001b[0;36m__call__\u001b[1;34m(self)\u001b[0m\n\u001b[0;32m    223\u001b[0m         \u001b[1;32mwith\u001b[0m \u001b[0mparallel_backend\u001b[0m\u001b[1;33m(\u001b[0m\u001b[0mself\u001b[0m\u001b[1;33m.\u001b[0m\u001b[0m_backend\u001b[0m\u001b[1;33m,\u001b[0m \u001b[0mn_jobs\u001b[0m\u001b[1;33m=\u001b[0m\u001b[0mself\u001b[0m\u001b[1;33m.\u001b[0m\u001b[0m_n_jobs\u001b[0m\u001b[1;33m)\u001b[0m\u001b[1;33m:\u001b[0m\u001b[1;33m\u001b[0m\u001b[1;33m\u001b[0m\u001b[0m\n\u001b[0;32m    224\u001b[0m             return [func(*args, **kwargs)\n\u001b[1;32m--> 225\u001b[1;33m                     for func, args, kwargs in self.items]\n\u001b[0m\u001b[0;32m    226\u001b[0m \u001b[1;33m\u001b[0m\u001b[0m\n\u001b[0;32m    227\u001b[0m     \u001b[1;32mdef\u001b[0m \u001b[0m__len__\u001b[0m\u001b[1;33m(\u001b[0m\u001b[0mself\u001b[0m\u001b[1;33m)\u001b[0m\u001b[1;33m:\u001b[0m\u001b[1;33m\u001b[0m\u001b[1;33m\u001b[0m\u001b[0m\n",
      "\u001b[1;32md:\\ProgramData\\Anaconda3\\lib\\site-packages\\joblib\\parallel.py\u001b[0m in \u001b[0;36m<listcomp>\u001b[1;34m(.0)\u001b[0m\n\u001b[0;32m    223\u001b[0m         \u001b[1;32mwith\u001b[0m \u001b[0mparallel_backend\u001b[0m\u001b[1;33m(\u001b[0m\u001b[0mself\u001b[0m\u001b[1;33m.\u001b[0m\u001b[0m_backend\u001b[0m\u001b[1;33m,\u001b[0m \u001b[0mn_jobs\u001b[0m\u001b[1;33m=\u001b[0m\u001b[0mself\u001b[0m\u001b[1;33m.\u001b[0m\u001b[0m_n_jobs\u001b[0m\u001b[1;33m)\u001b[0m\u001b[1;33m:\u001b[0m\u001b[1;33m\u001b[0m\u001b[1;33m\u001b[0m\u001b[0m\n\u001b[0;32m    224\u001b[0m             return [func(*args, **kwargs)\n\u001b[1;32m--> 225\u001b[1;33m                     for func, args, kwargs in self.items]\n\u001b[0m\u001b[0;32m    226\u001b[0m \u001b[1;33m\u001b[0m\u001b[0m\n\u001b[0;32m    227\u001b[0m     \u001b[1;32mdef\u001b[0m \u001b[0m__len__\u001b[0m\u001b[1;33m(\u001b[0m\u001b[0mself\u001b[0m\u001b[1;33m)\u001b[0m\u001b[1;33m:\u001b[0m\u001b[1;33m\u001b[0m\u001b[1;33m\u001b[0m\u001b[0m\n",
      "\u001b[1;32md:\\ProgramData\\Anaconda3\\lib\\site-packages\\sklearn\\model_selection\\_validation.py\u001b[0m in \u001b[0;36m_fit_and_score\u001b[1;34m(estimator, X, y, scorer, train, test, verbose, parameters, fit_params, return_train_score, return_parameters, return_n_test_samples, return_times, return_estimator, error_score)\u001b[0m\n\u001b[0;32m    514\u001b[0m             \u001b[0mestimator\u001b[0m\u001b[1;33m.\u001b[0m\u001b[0mfit\u001b[0m\u001b[1;33m(\u001b[0m\u001b[0mX_train\u001b[0m\u001b[1;33m,\u001b[0m \u001b[1;33m**\u001b[0m\u001b[0mfit_params\u001b[0m\u001b[1;33m)\u001b[0m\u001b[1;33m\u001b[0m\u001b[1;33m\u001b[0m\u001b[0m\n\u001b[0;32m    515\u001b[0m         \u001b[1;32melse\u001b[0m\u001b[1;33m:\u001b[0m\u001b[1;33m\u001b[0m\u001b[1;33m\u001b[0m\u001b[0m\n\u001b[1;32m--> 516\u001b[1;33m             \u001b[0mestimator\u001b[0m\u001b[1;33m.\u001b[0m\u001b[0mfit\u001b[0m\u001b[1;33m(\u001b[0m\u001b[0mX_train\u001b[0m\u001b[1;33m,\u001b[0m \u001b[0my_train\u001b[0m\u001b[1;33m,\u001b[0m \u001b[1;33m**\u001b[0m\u001b[0mfit_params\u001b[0m\u001b[1;33m)\u001b[0m\u001b[1;33m\u001b[0m\u001b[1;33m\u001b[0m\u001b[0m\n\u001b[0m\u001b[0;32m    517\u001b[0m \u001b[1;33m\u001b[0m\u001b[0m\n\u001b[0;32m    518\u001b[0m     \u001b[1;32mexcept\u001b[0m \u001b[0mException\u001b[0m \u001b[1;32mas\u001b[0m \u001b[0me\u001b[0m\u001b[1;33m:\u001b[0m\u001b[1;33m\u001b[0m\u001b[1;33m\u001b[0m\u001b[0m\n",
      "\u001b[1;32md:\\ProgramData\\Anaconda3\\lib\\site-packages\\lightgbm\\sklearn.py\u001b[0m in \u001b[0;36mfit\u001b[1;34m(self, X, y, sample_weight, init_score, eval_set, eval_names, eval_sample_weight, eval_class_weight, eval_init_score, eval_metric, early_stopping_rounds, verbose, feature_name, categorical_feature, callbacks)\u001b[0m\n\u001b[0;32m    798\u001b[0m                                         \u001b[0mverbose\u001b[0m\u001b[1;33m=\u001b[0m\u001b[0mverbose\u001b[0m\u001b[1;33m,\u001b[0m \u001b[0mfeature_name\u001b[0m\u001b[1;33m=\u001b[0m\u001b[0mfeature_name\u001b[0m\u001b[1;33m,\u001b[0m\u001b[1;33m\u001b[0m\u001b[1;33m\u001b[0m\u001b[0m\n\u001b[0;32m    799\u001b[0m                                         \u001b[0mcategorical_feature\u001b[0m\u001b[1;33m=\u001b[0m\u001b[0mcategorical_feature\u001b[0m\u001b[1;33m,\u001b[0m\u001b[1;33m\u001b[0m\u001b[1;33m\u001b[0m\u001b[0m\n\u001b[1;32m--> 800\u001b[1;33m                                         callbacks=callbacks)\n\u001b[0m\u001b[0;32m    801\u001b[0m         \u001b[1;32mreturn\u001b[0m \u001b[0mself\u001b[0m\u001b[1;33m\u001b[0m\u001b[1;33m\u001b[0m\u001b[0m\n\u001b[0;32m    802\u001b[0m \u001b[1;33m\u001b[0m\u001b[0m\n",
      "\u001b[1;32md:\\ProgramData\\Anaconda3\\lib\\site-packages\\lightgbm\\sklearn.py\u001b[0m in \u001b[0;36mfit\u001b[1;34m(self, X, y, sample_weight, init_score, group, eval_set, eval_names, eval_sample_weight, eval_class_weight, eval_init_score, eval_group, eval_metric, early_stopping_rounds, verbose, feature_name, categorical_feature, callbacks)\u001b[0m\n\u001b[0;32m    593\u001b[0m                               \u001b[0mverbose_eval\u001b[0m\u001b[1;33m=\u001b[0m\u001b[0mverbose\u001b[0m\u001b[1;33m,\u001b[0m \u001b[0mfeature_name\u001b[0m\u001b[1;33m=\u001b[0m\u001b[0mfeature_name\u001b[0m\u001b[1;33m,\u001b[0m\u001b[1;33m\u001b[0m\u001b[1;33m\u001b[0m\u001b[0m\n\u001b[0;32m    594\u001b[0m                               \u001b[0mcategorical_feature\u001b[0m\u001b[1;33m=\u001b[0m\u001b[0mcategorical_feature\u001b[0m\u001b[1;33m,\u001b[0m\u001b[1;33m\u001b[0m\u001b[1;33m\u001b[0m\u001b[0m\n\u001b[1;32m--> 595\u001b[1;33m                               callbacks=callbacks)\n\u001b[0m\u001b[0;32m    596\u001b[0m \u001b[1;33m\u001b[0m\u001b[0m\n\u001b[0;32m    597\u001b[0m         \u001b[1;32mif\u001b[0m \u001b[0mevals_result\u001b[0m\u001b[1;33m:\u001b[0m\u001b[1;33m\u001b[0m\u001b[1;33m\u001b[0m\u001b[0m\n",
      "\u001b[1;32md:\\ProgramData\\Anaconda3\\lib\\site-packages\\lightgbm\\engine.py\u001b[0m in \u001b[0;36mtrain\u001b[1;34m(params, train_set, num_boost_round, valid_sets, valid_names, fobj, feval, init_model, feature_name, categorical_feature, early_stopping_rounds, evals_result, verbose_eval, learning_rates, keep_training_booster, callbacks)\u001b[0m\n\u001b[0;32m    247\u001b[0m                                     evaluation_result_list=None))\n\u001b[0;32m    248\u001b[0m \u001b[1;33m\u001b[0m\u001b[0m\n\u001b[1;32m--> 249\u001b[1;33m         \u001b[0mbooster\u001b[0m\u001b[1;33m.\u001b[0m\u001b[0mupdate\u001b[0m\u001b[1;33m(\u001b[0m\u001b[0mfobj\u001b[0m\u001b[1;33m=\u001b[0m\u001b[0mfobj\u001b[0m\u001b[1;33m)\u001b[0m\u001b[1;33m\u001b[0m\u001b[1;33m\u001b[0m\u001b[0m\n\u001b[0m\u001b[0;32m    250\u001b[0m \u001b[1;33m\u001b[0m\u001b[0m\n\u001b[0;32m    251\u001b[0m         \u001b[0mevaluation_result_list\u001b[0m \u001b[1;33m=\u001b[0m \u001b[1;33m[\u001b[0m\u001b[1;33m]\u001b[0m\u001b[1;33m\u001b[0m\u001b[1;33m\u001b[0m\u001b[0m\n",
      "\u001b[1;32md:\\ProgramData\\Anaconda3\\lib\\site-packages\\lightgbm\\basic.py\u001b[0m in \u001b[0;36mupdate\u001b[1;34m(self, train_set, fobj)\u001b[0m\n\u001b[0;32m   1924\u001b[0m             _safe_call(_LIB.LGBM_BoosterUpdateOneIter(\n\u001b[0;32m   1925\u001b[0m                 \u001b[0mself\u001b[0m\u001b[1;33m.\u001b[0m\u001b[0mhandle\u001b[0m\u001b[1;33m,\u001b[0m\u001b[1;33m\u001b[0m\u001b[1;33m\u001b[0m\u001b[0m\n\u001b[1;32m-> 1926\u001b[1;33m                 ctypes.byref(is_finished)))\n\u001b[0m\u001b[0;32m   1927\u001b[0m             \u001b[0mself\u001b[0m\u001b[1;33m.\u001b[0m\u001b[0m__is_predicted_cur_iter\u001b[0m \u001b[1;33m=\u001b[0m \u001b[1;33m[\u001b[0m\u001b[1;32mFalse\u001b[0m \u001b[1;32mfor\u001b[0m \u001b[0m_\u001b[0m \u001b[1;32min\u001b[0m \u001b[0mrange_\u001b[0m\u001b[1;33m(\u001b[0m\u001b[0mself\u001b[0m\u001b[1;33m.\u001b[0m\u001b[0m__num_dataset\u001b[0m\u001b[1;33m)\u001b[0m\u001b[1;33m]\u001b[0m\u001b[1;33m\u001b[0m\u001b[1;33m\u001b[0m\u001b[0m\n\u001b[0;32m   1928\u001b[0m             \u001b[1;32mreturn\u001b[0m \u001b[0mis_finished\u001b[0m\u001b[1;33m.\u001b[0m\u001b[0mvalue\u001b[0m \u001b[1;33m==\u001b[0m \u001b[1;36m1\u001b[0m\u001b[1;33m\u001b[0m\u001b[1;33m\u001b[0m\u001b[0m\n",
      "\u001b[1;31mKeyboardInterrupt\u001b[0m: "
     ]
    }
   ],
   "source": [
    "#第四步：确定feature_fraction、bagging_fraction、bagging_freq\n",
    "#已经确认内容：\n",
    "#n_estimators=200\n",
    "#{'max_depth': 6, 'num_leaves': 40}\n",
    "#{'max_bin': 400, 'min_data_in_leaf': 120}\n",
    "model = LGBMClassifier(boosting_type='gbdt',\n",
    "                       objective='binary',\n",
    "                       metrics='auc',\n",
    "                       n_estimators=200,\n",
    "                       max_depth=6,\n",
    "                       num_leaves=40,\n",
    "                       max_bin=400,\n",
    "                       min_data_in_leaf=120,\n",
    "                       learning_rate=0.1,\n",
    "                       bagging_fraction=0.8,\n",
    "                       feature_fraction=0.8)\n",
    "\n",
    "parameters = {\n",
    "    'feature_fraction': [0.6, 0.7, 0.8, 0.9, 1.0],\n",
    "    'bagging_fraction': [0.6, 0.7, 0.8, 0.9, 1.0],\n",
    "    'bagging_freq': range(0, 10, 2)\n",
    "}\n",
    "\n",
    "#调高 verbose可以看到更多信息\n",
    "clf = GridSearchCV(model, parameters, cv=3, verbose=3)\n",
    "clf.fit(train_data, train_target)\n",
    "\n",
    "score_test = roc_auc_score(test_target, clf.predict_proba(test_data)[:, 1])\n",
    "\n",
    "print(\"LightGBM GridSearchCV AUC Score:   \", score_test)\n",
    "print(\"最优参数:\")\n",
    "print(clf.best_params_)"
   ]
  },
  {
   "cell_type": "code",
   "execution_count": null,
   "metadata": {},
   "outputs": [],
   "source": [
    "#第五步：确定lambda_l1和lambda_l2\n",
    "#已经确认内容：\n",
    "#n_estimators=200\n",
    "#{'max_depth': 6, 'num_leaves': 40}\n",
    "#{'max_bin': 400, 'min_data_in_leaf': 120}\n",
    "#{'bagging_fraction': 0.9, 'bagging_freq': 4, 'feature_fraction': 0.6}\n",
    "model = LGBMClassifier(boosting_type='gbdt',\n",
    "                       objective='binary',\n",
    "                       metrics='auc',\n",
    "                       n_estimators=200,\n",
    "                       max_depth=6,\n",
    "                       num_leaves=40,\n",
    "                       max_bin=400,\n",
    "                       min_data_in_leaf=120,\n",
    "                       learning_rate=0.1,\n",
    "                       bagging_freq=4,\n",
    "                       bagging_fraction=0.9,\n",
    "                       feature_fraction=0.6)\n",
    "\n",
    "parameters = {\n",
    "    'lambda_l1': [1e-5, 1e-3, 1e-1, 0.0, 0.1, 0.3, 0.5, 0.7, 0.9, 1.0],\n",
    "    'lambda_l2': [1e-5, 1e-3, 1e-1, 0.0, 0.1, 0.3, 0.5, 0.7, 0.9, 1.0]\n",
    "}\n",
    "\n",
    "#调高 verbose可以看到更多信息\n",
    "clf = GridSearchCV(model, parameters, cv=3, verbose=3)\n",
    "clf.fit(train_data, train_target)\n",
    "\n",
    "score_test = roc_auc_score(test_target, clf.predict_proba(test_data)[:, 1])\n",
    "\n",
    "print(\"LightGBM GridSearchCV AUC Score:   \", score_test)\n",
    "print(\"最优参数:\")\n",
    "print(clf.best_params_)"
   ]
  },
  {
   "cell_type": "code",
   "execution_count": null,
   "metadata": {
    "scrolled": true
   },
   "outputs": [],
   "source": [
    "#第六步：确定 min_split_gain\n",
    "#已经确认内容：\n",
    "#n_estimators=200\n",
    "#{'max_depth': 6, 'num_leaves': 40}\n",
    "#{'max_bin': 400, 'min_data_in_leaf': 120}\n",
    "#{'bagging_fraction': 0.9, 'bagging_freq': 4, 'feature_fraction': 0.6}\n",
    "#{'lambda_l1': 1e-05, 'lambda_l2': 1e-05}\n",
    "model = LGBMClassifier(boosting_type='gbdt',\n",
    "                       objective='binary',\n",
    "                       metrics='auc',\n",
    "                       n_estimators=200,\n",
    "                       max_depth=6,\n",
    "                       num_leaves=40,\n",
    "                       max_bin=400,\n",
    "                       min_data_in_leaf=120,\n",
    "                       learning_rate=0.1,\n",
    "                       lambda_l1=1e-05,\n",
    "                       lambda_l2=1e-05,\n",
    "                       bagging_freq=4,\n",
    "                       bagging_fraction=0.9,\n",
    "                       feature_fraction=0.6)\n",
    "\n",
    "parameters = {\n",
    "    'min_split_gain': [0.0, 0.1, 0.2, 0.3, 0.4, 0.5, 0.6, 0.7, 0.8, 0.9, 1.0]\n",
    "}\n",
    "\n",
    "#调高 verbose可以看到更多信息\n",
    "clf = GridSearchCV(model, parameters, cv=3, verbose=3)\n",
    "clf.fit(train_data, train_target)\n",
    "\n",
    "score_test = roc_auc_score(test_target, clf.predict_proba(test_data)[:, 1])\n",
    "\n",
    "print(\"LightGBM GridSearchCV AUC Score:   \", score_test)\n",
    "print(\"最优参数:\")\n",
    "print(clf.best_params_)"
   ]
  },
  {
   "cell_type": "code",
   "execution_count": null,
   "metadata": {},
   "outputs": [],
   "source": [
    "# 第七步：降低学习率，增加迭代次数，验证模型\n",
    "#已经确认内容：\n",
    "#n_estimators=200\n",
    "#{'max_depth': 6, 'num_leaves': 40}\n",
    "#{'max_bin': 400, 'min_data_in_leaf': 120}\n",
    "#{'bagging_fraction': 0.9, 'bagging_freq': 4, 'feature_fraction': 0.6}\n",
    "#{'lambda_l1': 1e-05, 'lambda_l2': 1e-05}\n",
    "#{'min_split_gain': 0.0}\n",
    "model = LGBMClassifier(boosting_type='gbdt',\n",
    "                       objective='binary',\n",
    "                       metrics='auc',\n",
    "                       n_estimators=200,\n",
    "                       max_depth=6,\n",
    "                       num_leaves=40,\n",
    "                       max_bin=400,\n",
    "                       min_data_in_leaf=120,\n",
    "                       learning_rate=0.1,\n",
    "                       lambda_l1=1e-05,\n",
    "                       lambda_l2=1e-05,\n",
    "                       min_split_gain=0.0,\n",
    "                       bagging_freq=4,\n",
    "                       bagging_fraction=0.9,\n",
    "                       feature_fraction=0.6)\n",
    "\n",
    "model.fit(train_data, train_target)\n",
    "score_test = roc_auc_score(test_target, model.predict_proba(test_data)[:, 1])\n",
    "\n",
    "print(\"LightGBM learning rate 0.1 AUC Score:   \", score_test)\n",
    "\n",
    "model = LGBMClassifier(boosting_type='gbdt',\n",
    "                       objective='binary',\n",
    "                       metrics='auc',\n",
    "                       n_estimators=200,\n",
    "                       max_depth=6,\n",
    "                       num_leaves=40,\n",
    "                       max_bin=400,\n",
    "                       min_data_in_leaf=120,\n",
    "                       learning_rate=0.05,\n",
    "                       lambda_l1=1e-05,\n",
    "                       lambda_l2=1e-05,\n",
    "                       min_split_gain=0.0,\n",
    "                       bagging_freq=4,\n",
    "                       bagging_fraction=0.9,\n",
    "                       feature_fraction=0.6)\n",
    "\n",
    "model.fit(train_data, train_target)\n",
    "score_test = roc_auc_score(test_target, model.predict_proba(test_data)[:, 1])\n",
    "\n",
    "print(\"LightGBM learning rate 0.05 AUC Score:   \", score_test)\n",
    "\n",
    "model = LGBMClassifier(boosting_type='gbdt',\n",
    "                       objective='binary',\n",
    "                       metrics='auc',\n",
    "                       n_estimators=200,\n",
    "                       max_depth=6,\n",
    "                       num_leaves=40,\n",
    "                       max_bin=400,\n",
    "                       min_data_in_leaf=120,\n",
    "                       learning_rate=0.01,\n",
    "                       lambda_l1=1e-05,\n",
    "                       lambda_l2=1e-05,\n",
    "                       min_split_gain=0.0,\n",
    "                       bagging_freq=4,\n",
    "                       bagging_fraction=0.9,\n",
    "                       feature_fraction=0.6)\n",
    "\n",
    "model.fit(train_data, train_target)\n",
    "score_test = roc_auc_score(test_target, model.predict_proba(test_data)[:, 1])\n",
    "\n",
    "print(\"LightGBM learning rate 0.01 AUC Score:   \", score_test)\n",
    "\n",
    "model = LGBMClassifier(boosting_type='gbdt',\n",
    "                       objective='binary',\n",
    "                       metrics='auc',\n",
    "                       n_estimators=200,\n",
    "                       max_depth=6,\n",
    "                       num_leaves=40,\n",
    "                       max_bin=400,\n",
    "                       min_data_in_leaf=120,\n",
    "                       learning_rate=0.005,\n",
    "                       lambda_l1=1e-05,\n",
    "                       lambda_l2=1e-05,\n",
    "                       min_split_gain=0.0,\n",
    "                       bagging_freq=4,\n",
    "                       bagging_fraction=0.9,\n",
    "                       feature_fraction=0.6)\n",
    "\n",
    "model.fit(train_data, train_target)\n",
    "score_test = roc_auc_score(test_target, model.predict_proba(test_data)[:, 1])\n",
    "\n",
    "print(\"LightGBM learning rate 0.005 AUC Score:   \", score_test)"
   ]
  },
  {
   "cell_type": "code",
   "execution_count": null,
   "metadata": {},
   "outputs": [],
   "source": [
    "model = LGBMClassifier()\n",
    "\n",
    "model.fit(train_data, train_target)\n",
    "score_test = roc_auc_score(test_target, model.predict_proba(test_data)[:, 1])\n",
    "\n",
    "print(\"默认参数 AUC Score:   \", score_test)"
   ]
  },
  {
   "cell_type": "markdown",
   "metadata": {},
   "source": [
    "最优参数\n",
    "model = LGBMClassifier(boosting_type='gbdt',objective='binary',metrics='auc',n_estimators=200,max_depth=6,num_leaves=40,  \n",
    "                        max_bin=400,min_data_in_leaf=120,  \n",
    "                        learning_rate=0.05,   \n",
    "                       lambda_l1=1e-05,lambda_l2=1e-05,min_split_gain=0.0,  \n",
    "                        bagging_freq=4, bagging_fraction = 0.9,feature_fraction = 0.6)  \n"
   ]
  },
  {
   "cell_type": "code",
   "execution_count": 43,
   "metadata": {},
   "outputs": [
    {
     "name": "stdout",
     "output_type": "stream",
     "text": [
      "默认参数\n",
      "LGB总体AUC: [0.9017063876540394, 0.9028474497847858, 0.8860489799298887, 0.8810605942191141, 0.8825448947499648]\n",
      "LGBCoupon AUC: [0.7440798692234487, 0.741981950122888, 0.7474652592149504, 0.7642682296497904, 0.7628559092978145]\n",
      "调参后\n",
      "LGB总体AUC: [0.9025855554052864, 0.9043496920648407, 0.8861875013967577, 0.8820594188479879, 0.883635213451176]\n",
      "LGBCoupon AUC: [0.7441512385391114, 0.7432384282827527, 0.7463287384907189, 0.7663217891405024, 0.7620611110529001]\n"
     ]
    }
   ],
   "source": [
    "#f3特征\n",
    "train = train_f3.copy()\n",
    "train.head()\n",
    "print('默认参数')\n",
    "classifier_df_score(train, 'LGB', 5)\n",
    "params = {\n",
    "    'boosting_type': 'gbdt',\n",
    "    'objective': 'binary',\n",
    "    'eval_metric': 'auc',\n",
    "    'n_estimators': 200,\n",
    "    'max_depth': 5,\n",
    "    'num_leaves': 40,\n",
    "    'max_bin': 400,\n",
    "    'min_data_in_leaf': 120,\n",
    "    'learning_rate': 0.1,\n",
    "    'lambda_l1': 1e-05,\n",
    "    'lambda_l2': 1e-05,\n",
    "    'min_split_gain': 0.0,\n",
    "    'bagging_freq': 4,\n",
    "    'bagging_fraction': 0.9,\n",
    "    'feature_fraction': 0.6,\n",
    "    'seed': 1024,\n",
    "    'n_thread': 12\n",
    "}\n",
    "print('调参后')\n",
    "classifier_df_score(train, 'LGB', 5, params)"
   ]
  },
  {
   "cell_type": "markdown",
   "metadata": {},
   "source": [
    "对比发现调参后的结果比默认参数有所提高，不过不是高很多，比不上特征对结果的影响。而且因为调参只能再测试集上作，有的时候调参造成过拟，调参后线上成绩可能反而会下降。所以调参一般都是在比赛后期再做，前期主要是特征和模型的选择。"
   ]
  },
  {
   "cell_type": "markdown",
   "metadata": {
    "collapsed": true
   },
   "source": [
    "## 绘制验证曲线"
   ]
  },
  {
   "cell_type": "markdown",
   "metadata": {},
   "source": [
    "可以通过绘制验证曲线，可视化的了解调参的过程。"
   ]
  },
  {
   "cell_type": "code",
   "execution_count": 44,
   "metadata": {},
   "outputs": [],
   "source": [
    "#对进行网格调参\n",
    "def grid_plot(train_feat,\n",
    "              classifier,\n",
    "              cvnum,\n",
    "              param_range,\n",
    "              param_name,\n",
    "              param=None):\n",
    "    from sklearn.model_selection import validation_curve\n",
    "    train_scores, test_scores = validation_curve(get_sklearn_model(\n",
    "        classifier, param),\n",
    "                                                 get_predictors_df(train_feat),\n",
    "                                                 get_target_df(train_feat),\n",
    "                                                 param_name=param_name,\n",
    "                                                 param_range=param_range,\n",
    "                                                 cv=cvnum,\n",
    "                                                 scoring='roc_auc',\n",
    "                                                 n_jobs=1)\n",
    "    train_scores_mean = np.mean(train_scores, axis=1)\n",
    "    train_scores_std = np.std(train_scores, axis=1)\n",
    "    test_scores_mean = np.mean(test_scores, axis=1)\n",
    "    test_scores_std = np.std(test_scores, axis=1)\n",
    "\n",
    "    plt.title(\"Validation Curve with \" + param_name)\n",
    "    plt.xlabel(param_name)\n",
    "    plt.ylabel(\"Score\")\n",
    "    plt.ylim(0.0, 1.1)\n",
    "    plt.semilogx(param_range,\n",
    "                 train_scores_mean,\n",
    "                 label=\"Training score\",\n",
    "                 color=\"r\")\n",
    "    plt.fill_between(param_range,\n",
    "                     train_scores_mean - train_scores_std,\n",
    "                     train_scores_mean + train_scores_std,\n",
    "                     alpha=0.2,\n",
    "                     color=\"r\")\n",
    "    plt.semilogx(param_range,\n",
    "                 test_scores_mean,\n",
    "                 label=\"Cross-validation score\",\n",
    "                 color=\"g\")\n",
    "    plt.fill_between(param_range,\n",
    "                     test_scores_mean - test_scores_std,\n",
    "                     test_scores_mean + test_scores_std,\n",
    "                     alpha=0.2,\n",
    "                     color=\"g\")\n",
    "    plt.legend(loc=\"best\")\n",
    "    plt.show()"
   ]
  },
  {
   "cell_type": "code",
   "execution_count": 45,
   "metadata": {},
   "outputs": [
    {
     "data": {
      "image/png": "[encoded data removed]",
      "text/plain": [
       "<Figure size 432x288 with 1 Axes>"
      ]
     },
     "metadata": {
      "needs_background": "light"
     },
     "output_type": "display_data"
    }
   ],
   "source": [
    "#对逻辑回归的max_iter情况进行查看\n",
    "train_feat = train_f3.copy()\n",
    "#grid_plot(train_feat,classifier,3,[10,20,40,80,200,400,800],'n_estimators',param=params)\n",
    "grid_plot(train_feat,\n",
    "          'LR',\n",
    "          3, [1, 2, 5, 10, 20, 40, 50],\n",
    "          'max_iter',\n",
    "          param=None)"
   ]
  },
  {
   "cell_type": "code",
   "execution_count": 46,
   "metadata": {},
   "outputs": [
    {
     "data": {
      "image/png": "[encoded data removed]",
      "text/plain": [
       "<Figure size 432x288 with 1 Axes>"
      ]
     },
     "metadata": {
      "needs_background": "light"
     },
     "output_type": "display_data"
    }
   ],
   "source": [
    "params = {\n",
    "    'learning_rate': 0.1,\n",
    "    'boosting_type': 'gbdt',\n",
    "    'objective': 'binary',\n",
    "    'metric': 'auc',\n",
    "    'sub_feature': 0.6,\n",
    "    'num_leaves': 50,\n",
    "    'bagging_fraction': 0.8,\n",
    "    'feature_fraction': 0.8\n",
    "}\n",
    "train_feat = train_f3.copy()\n",
    "#grid_plot(train_feat,classifier,3,[10,20,40,80,200,400,800],'n_estimators',param=params)\n",
    "grid_plot(train_feat, 'LGB', 3, [10, 20, 40], 'n_estimators', param=params)"
   ]
  },
  {
   "cell_type": "code",
   "execution_count": 47,
   "metadata": {},
   "outputs": [
    {
     "ename": "KeyboardInterrupt",
     "evalue": "",
     "output_type": "error",
     "traceback": [
      "\u001b[1;31m---------------------------------------------------------------------------\u001b[0m",
      "\u001b[1;31mKeyboardInterrupt\u001b[0m                         Traceback (most recent call last)",
      "\u001b[1;32m<ipython-input-47-8dc22d92d64a>\u001b[0m in \u001b[0;36m<module>\u001b[1;34m\u001b[0m\n\u001b[0;32m     12\u001b[0m           \u001b[1;36m3\u001b[0m\u001b[1;33m,\u001b[0m \u001b[1;33m[\u001b[0m\u001b[1;36m0.1\u001b[0m\u001b[1;33m,\u001b[0m \u001b[1;36m0.2\u001b[0m\u001b[1;33m,\u001b[0m \u001b[1;36m0.5\u001b[0m\u001b[1;33m,\u001b[0m \u001b[1;36m0.7\u001b[0m\u001b[1;33m,\u001b[0m \u001b[1;36m0.8\u001b[0m\u001b[1;33m]\u001b[0m\u001b[1;33m,\u001b[0m\u001b[1;33m\u001b[0m\u001b[1;33m\u001b[0m\u001b[0m\n\u001b[0;32m     13\u001b[0m           \u001b[1;34m'colsample_bytree'\u001b[0m\u001b[1;33m,\u001b[0m\u001b[1;33m\u001b[0m\u001b[1;33m\u001b[0m\u001b[0m\n\u001b[1;32m---> 14\u001b[1;33m           param=params)\n\u001b[0m",
      "\u001b[1;32m<ipython-input-44-65f17fcc4666>\u001b[0m in \u001b[0;36mgrid_plot\u001b[1;34m(train_feat, classifier, cvnum, param_range, param_name, param)\u001b[0m\n\u001b[0;32m     15\u001b[0m                                                  \u001b[0mcv\u001b[0m\u001b[1;33m=\u001b[0m\u001b[0mcvnum\u001b[0m\u001b[1;33m,\u001b[0m\u001b[1;33m\u001b[0m\u001b[1;33m\u001b[0m\u001b[0m\n\u001b[0;32m     16\u001b[0m                                                  \u001b[0mscoring\u001b[0m\u001b[1;33m=\u001b[0m\u001b[1;34m'roc_auc'\u001b[0m\u001b[1;33m,\u001b[0m\u001b[1;33m\u001b[0m\u001b[1;33m\u001b[0m\u001b[0m\n\u001b[1;32m---> 17\u001b[1;33m                                                  n_jobs=1)\n\u001b[0m\u001b[0;32m     18\u001b[0m     \u001b[0mtrain_scores_mean\u001b[0m \u001b[1;33m=\u001b[0m \u001b[0mnp\u001b[0m\u001b[1;33m.\u001b[0m\u001b[0mmean\u001b[0m\u001b[1;33m(\u001b[0m\u001b[0mtrain_scores\u001b[0m\u001b[1;33m,\u001b[0m \u001b[0maxis\u001b[0m\u001b[1;33m=\u001b[0m\u001b[1;36m1\u001b[0m\u001b[1;33m)\u001b[0m\u001b[1;33m\u001b[0m\u001b[1;33m\u001b[0m\u001b[0m\n\u001b[0;32m     19\u001b[0m     \u001b[0mtrain_scores_std\u001b[0m \u001b[1;33m=\u001b[0m \u001b[0mnp\u001b[0m\u001b[1;33m.\u001b[0m\u001b[0mstd\u001b[0m\u001b[1;33m(\u001b[0m\u001b[0mtrain_scores\u001b[0m\u001b[1;33m,\u001b[0m \u001b[0maxis\u001b[0m\u001b[1;33m=\u001b[0m\u001b[1;36m1\u001b[0m\u001b[1;33m)\u001b[0m\u001b[1;33m\u001b[0m\u001b[1;33m\u001b[0m\u001b[0m\n",
      "\u001b[1;32md:\\ProgramData\\Anaconda3\\lib\\site-packages\\sklearn\\model_selection\\_validation.py\u001b[0m in \u001b[0;36mvalidation_curve\u001b[1;34m(estimator, X, y, param_name, param_range, groups, cv, scoring, n_jobs, pre_dispatch, verbose, error_score)\u001b[0m\n\u001b[0;32m   1496\u001b[0m         error_score=error_score)\n\u001b[0;32m   1497\u001b[0m         \u001b[1;31m# NOTE do not change order of iteration to allow one time cv splitters\u001b[0m\u001b[1;33m\u001b[0m\u001b[1;33m\u001b[0m\u001b[1;33m\u001b[0m\u001b[0m\n\u001b[1;32m-> 1498\u001b[1;33m         for train, test in cv.split(X, y, groups) for v in param_range)\n\u001b[0m\u001b[0;32m   1499\u001b[0m     \u001b[0mout\u001b[0m \u001b[1;33m=\u001b[0m \u001b[0mnp\u001b[0m\u001b[1;33m.\u001b[0m\u001b[0masarray\u001b[0m\u001b[1;33m(\u001b[0m\u001b[0mout\u001b[0m\u001b[1;33m)\u001b[0m\u001b[1;33m\u001b[0m\u001b[1;33m\u001b[0m\u001b[0m\n\u001b[0;32m   1500\u001b[0m     \u001b[0mn_params\u001b[0m \u001b[1;33m=\u001b[0m \u001b[0mlen\u001b[0m\u001b[1;33m(\u001b[0m\u001b[0mparam_range\u001b[0m\u001b[1;33m)\u001b[0m\u001b[1;33m\u001b[0m\u001b[1;33m\u001b[0m\u001b[0m\n",
      "\u001b[1;32md:\\ProgramData\\Anaconda3\\lib\\site-packages\\joblib\\parallel.py\u001b[0m in \u001b[0;36m__call__\u001b[1;34m(self, iterable)\u001b[0m\n\u001b[0;32m    922\u001b[0m                 \u001b[0mself\u001b[0m\u001b[1;33m.\u001b[0m\u001b[0m_iterating\u001b[0m \u001b[1;33m=\u001b[0m \u001b[0mself\u001b[0m\u001b[1;33m.\u001b[0m\u001b[0m_original_iterator\u001b[0m \u001b[1;32mis\u001b[0m \u001b[1;32mnot\u001b[0m \u001b[1;32mNone\u001b[0m\u001b[1;33m\u001b[0m\u001b[1;33m\u001b[0m\u001b[0m\n\u001b[0;32m    923\u001b[0m \u001b[1;33m\u001b[0m\u001b[0m\n\u001b[1;32m--> 924\u001b[1;33m             \u001b[1;32mwhile\u001b[0m \u001b[0mself\u001b[0m\u001b[1;33m.\u001b[0m\u001b[0mdispatch_one_batch\u001b[0m\u001b[1;33m(\u001b[0m\u001b[0miterator\u001b[0m\u001b[1;33m)\u001b[0m\u001b[1;33m:\u001b[0m\u001b[1;33m\u001b[0m\u001b[1;33m\u001b[0m\u001b[0m\n\u001b[0m\u001b[0;32m    925\u001b[0m                 \u001b[1;32mpass\u001b[0m\u001b[1;33m\u001b[0m\u001b[1;33m\u001b[0m\u001b[0m\n\u001b[0;32m    926\u001b[0m \u001b[1;33m\u001b[0m\u001b[0m\n",
      "\u001b[1;32md:\\ProgramData\\Anaconda3\\lib\\site-packages\\joblib\\parallel.py\u001b[0m in \u001b[0;36mdispatch_one_batch\u001b[1;34m(self, iterator)\u001b[0m\n\u001b[0;32m    757\u001b[0m                 \u001b[1;32mreturn\u001b[0m \u001b[1;32mFalse\u001b[0m\u001b[1;33m\u001b[0m\u001b[1;33m\u001b[0m\u001b[0m\n\u001b[0;32m    758\u001b[0m             \u001b[1;32melse\u001b[0m\u001b[1;33m:\u001b[0m\u001b[1;33m\u001b[0m\u001b[1;33m\u001b[0m\u001b[0m\n\u001b[1;32m--> 759\u001b[1;33m                 \u001b[0mself\u001b[0m\u001b[1;33m.\u001b[0m\u001b[0m_dispatch\u001b[0m\u001b[1;33m(\u001b[0m\u001b[0mtasks\u001b[0m\u001b[1;33m)\u001b[0m\u001b[1;33m\u001b[0m\u001b[1;33m\u001b[0m\u001b[0m\n\u001b[0m\u001b[0;32m    760\u001b[0m                 \u001b[1;32mreturn\u001b[0m \u001b[1;32mTrue\u001b[0m\u001b[1;33m\u001b[0m\u001b[1;33m\u001b[0m\u001b[0m\n\u001b[0;32m    761\u001b[0m \u001b[1;33m\u001b[0m\u001b[0m\n",
      "\u001b[1;32md:\\ProgramData\\Anaconda3\\lib\\site-packages\\joblib\\parallel.py\u001b[0m in \u001b[0;36m_dispatch\u001b[1;34m(self, batch)\u001b[0m\n\u001b[0;32m    714\u001b[0m         \u001b[1;32mwith\u001b[0m \u001b[0mself\u001b[0m\u001b[1;33m.\u001b[0m\u001b[0m_lock\u001b[0m\u001b[1;33m:\u001b[0m\u001b[1;33m\u001b[0m\u001b[1;33m\u001b[0m\u001b[0m\n\u001b[0;32m    715\u001b[0m             \u001b[0mjob_idx\u001b[0m \u001b[1;33m=\u001b[0m \u001b[0mlen\u001b[0m\u001b[1;33m(\u001b[0m\u001b[0mself\u001b[0m\u001b[1;33m.\u001b[0m\u001b[0m_jobs\u001b[0m\u001b[1;33m)\u001b[0m\u001b[1;33m\u001b[0m\u001b[1;33m\u001b[0m\u001b[0m\n\u001b[1;32m--> 716\u001b[1;33m             \u001b[0mjob\u001b[0m \u001b[1;33m=\u001b[0m \u001b[0mself\u001b[0m\u001b[1;33m.\u001b[0m\u001b[0m_backend\u001b[0m\u001b[1;33m.\u001b[0m\u001b[0mapply_async\u001b[0m\u001b[1;33m(\u001b[0m\u001b[0mbatch\u001b[0m\u001b[1;33m,\u001b[0m \u001b[0mcallback\u001b[0m\u001b[1;33m=\u001b[0m\u001b[0mcb\u001b[0m\u001b[1;33m)\u001b[0m\u001b[1;33m\u001b[0m\u001b[1;33m\u001b[0m\u001b[0m\n\u001b[0m\u001b[0;32m    717\u001b[0m             \u001b[1;31m# A job can complete so quickly than its callback is\u001b[0m\u001b[1;33m\u001b[0m\u001b[1;33m\u001b[0m\u001b[1;33m\u001b[0m\u001b[0m\n\u001b[0;32m    718\u001b[0m             \u001b[1;31m# called before we get here, causing self._jobs to\u001b[0m\u001b[1;33m\u001b[0m\u001b[1;33m\u001b[0m\u001b[1;33m\u001b[0m\u001b[0m\n",
      "\u001b[1;32md:\\ProgramData\\Anaconda3\\lib\\site-packages\\joblib\\_parallel_backends.py\u001b[0m in \u001b[0;36mapply_async\u001b[1;34m(self, func, callback)\u001b[0m\n\u001b[0;32m    180\u001b[0m     \u001b[1;32mdef\u001b[0m \u001b[0mapply_async\u001b[0m\u001b[1;33m(\u001b[0m\u001b[0mself\u001b[0m\u001b[1;33m,\u001b[0m \u001b[0mfunc\u001b[0m\u001b[1;33m,\u001b[0m \u001b[0mcallback\u001b[0m\u001b[1;33m=\u001b[0m\u001b[1;32mNone\u001b[0m\u001b[1;33m)\u001b[0m\u001b[1;33m:\u001b[0m\u001b[1;33m\u001b[0m\u001b[1;33m\u001b[0m\u001b[0m\n\u001b[0;32m    181\u001b[0m         \u001b[1;34m\"\"\"Schedule a func to be run\"\"\"\u001b[0m\u001b[1;33m\u001b[0m\u001b[1;33m\u001b[0m\u001b[0m\n\u001b[1;32m--> 182\u001b[1;33m         \u001b[0mresult\u001b[0m \u001b[1;33m=\u001b[0m \u001b[0mImmediateResult\u001b[0m\u001b[1;33m(\u001b[0m\u001b[0mfunc\u001b[0m\u001b[1;33m)\u001b[0m\u001b[1;33m\u001b[0m\u001b[1;33m\u001b[0m\u001b[0m\n\u001b[0m\u001b[0;32m    183\u001b[0m         \u001b[1;32mif\u001b[0m \u001b[0mcallback\u001b[0m\u001b[1;33m:\u001b[0m\u001b[1;33m\u001b[0m\u001b[1;33m\u001b[0m\u001b[0m\n\u001b[0;32m    184\u001b[0m             \u001b[0mcallback\u001b[0m\u001b[1;33m(\u001b[0m\u001b[0mresult\u001b[0m\u001b[1;33m)\u001b[0m\u001b[1;33m\u001b[0m\u001b[1;33m\u001b[0m\u001b[0m\n",
      "\u001b[1;32md:\\ProgramData\\Anaconda3\\lib\\site-packages\\joblib\\_parallel_backends.py\u001b[0m in \u001b[0;36m__init__\u001b[1;34m(self, batch)\u001b[0m\n\u001b[0;32m    547\u001b[0m         \u001b[1;31m# Don't delay the application, to avoid keeping the input\u001b[0m\u001b[1;33m\u001b[0m\u001b[1;33m\u001b[0m\u001b[1;33m\u001b[0m\u001b[0m\n\u001b[0;32m    548\u001b[0m         \u001b[1;31m# arguments in memory\u001b[0m\u001b[1;33m\u001b[0m\u001b[1;33m\u001b[0m\u001b[1;33m\u001b[0m\u001b[0m\n\u001b[1;32m--> 549\u001b[1;33m         \u001b[0mself\u001b[0m\u001b[1;33m.\u001b[0m\u001b[0mresults\u001b[0m \u001b[1;33m=\u001b[0m \u001b[0mbatch\u001b[0m\u001b[1;33m(\u001b[0m\u001b[1;33m)\u001b[0m\u001b[1;33m\u001b[0m\u001b[1;33m\u001b[0m\u001b[0m\n\u001b[0m\u001b[0;32m    550\u001b[0m \u001b[1;33m\u001b[0m\u001b[0m\n\u001b[0;32m    551\u001b[0m     \u001b[1;32mdef\u001b[0m \u001b[0mget\u001b[0m\u001b[1;33m(\u001b[0m\u001b[0mself\u001b[0m\u001b[1;33m)\u001b[0m\u001b[1;33m:\u001b[0m\u001b[1;33m\u001b[0m\u001b[1;33m\u001b[0m\u001b[0m\n",
      "\u001b[1;32md:\\ProgramData\\Anaconda3\\lib\\site-packages\\joblib\\parallel.py\u001b[0m in \u001b[0;36m__call__\u001b[1;34m(self)\u001b[0m\n\u001b[0;32m    223\u001b[0m         \u001b[1;32mwith\u001b[0m \u001b[0mparallel_backend\u001b[0m\u001b[1;33m(\u001b[0m\u001b[0mself\u001b[0m\u001b[1;33m.\u001b[0m\u001b[0m_backend\u001b[0m\u001b[1;33m,\u001b[0m \u001b[0mn_jobs\u001b[0m\u001b[1;33m=\u001b[0m\u001b[0mself\u001b[0m\u001b[1;33m.\u001b[0m\u001b[0m_n_jobs\u001b[0m\u001b[1;33m)\u001b[0m\u001b[1;33m:\u001b[0m\u001b[1;33m\u001b[0m\u001b[1;33m\u001b[0m\u001b[0m\n\u001b[0;32m    224\u001b[0m             return [func(*args, **kwargs)\n\u001b[1;32m--> 225\u001b[1;33m                     for func, args, kwargs in self.items]\n\u001b[0m\u001b[0;32m    226\u001b[0m \u001b[1;33m\u001b[0m\u001b[0m\n\u001b[0;32m    227\u001b[0m     \u001b[1;32mdef\u001b[0m \u001b[0m__len__\u001b[0m\u001b[1;33m(\u001b[0m\u001b[0mself\u001b[0m\u001b[1;33m)\u001b[0m\u001b[1;33m:\u001b[0m\u001b[1;33m\u001b[0m\u001b[1;33m\u001b[0m\u001b[0m\n",
      "\u001b[1;32md:\\ProgramData\\Anaconda3\\lib\\site-packages\\joblib\\parallel.py\u001b[0m in \u001b[0;36m<listcomp>\u001b[1;34m(.0)\u001b[0m\n\u001b[0;32m    223\u001b[0m         \u001b[1;32mwith\u001b[0m \u001b[0mparallel_backend\u001b[0m\u001b[1;33m(\u001b[0m\u001b[0mself\u001b[0m\u001b[1;33m.\u001b[0m\u001b[0m_backend\u001b[0m\u001b[1;33m,\u001b[0m \u001b[0mn_jobs\u001b[0m\u001b[1;33m=\u001b[0m\u001b[0mself\u001b[0m\u001b[1;33m.\u001b[0m\u001b[0m_n_jobs\u001b[0m\u001b[1;33m)\u001b[0m\u001b[1;33m:\u001b[0m\u001b[1;33m\u001b[0m\u001b[1;33m\u001b[0m\u001b[0m\n\u001b[0;32m    224\u001b[0m             return [func(*args, **kwargs)\n\u001b[1;32m--> 225\u001b[1;33m                     for func, args, kwargs in self.items]\n\u001b[0m\u001b[0;32m    226\u001b[0m \u001b[1;33m\u001b[0m\u001b[0m\n\u001b[0;32m    227\u001b[0m     \u001b[1;32mdef\u001b[0m \u001b[0m__len__\u001b[0m\u001b[1;33m(\u001b[0m\u001b[0mself\u001b[0m\u001b[1;33m)\u001b[0m\u001b[1;33m:\u001b[0m\u001b[1;33m\u001b[0m\u001b[1;33m\u001b[0m\u001b[0m\n",
      "\u001b[1;32md:\\ProgramData\\Anaconda3\\lib\\site-packages\\sklearn\\model_selection\\_validation.py\u001b[0m in \u001b[0;36m_fit_and_score\u001b[1;34m(estimator, X, y, scorer, train, test, verbose, parameters, fit_params, return_train_score, return_parameters, return_n_test_samples, return_times, return_estimator, error_score)\u001b[0m\n\u001b[0;32m    558\u001b[0m         \u001b[1;32mif\u001b[0m \u001b[0mreturn_train_score\u001b[0m\u001b[1;33m:\u001b[0m\u001b[1;33m\u001b[0m\u001b[1;33m\u001b[0m\u001b[0m\n\u001b[0;32m    559\u001b[0m             train_scores = _score(estimator, X_train, y_train, scorer,\n\u001b[1;32m--> 560\u001b[1;33m                                   is_multimetric)\n\u001b[0m\u001b[0;32m    561\u001b[0m     \u001b[1;32mif\u001b[0m \u001b[0mverbose\u001b[0m \u001b[1;33m>\u001b[0m \u001b[1;36m2\u001b[0m\u001b[1;33m:\u001b[0m\u001b[1;33m\u001b[0m\u001b[1;33m\u001b[0m\u001b[0m\n\u001b[0;32m    562\u001b[0m         \u001b[1;32mif\u001b[0m \u001b[0mis_multimetric\u001b[0m\u001b[1;33m:\u001b[0m\u001b[1;33m\u001b[0m\u001b[1;33m\u001b[0m\u001b[0m\n",
      "\u001b[1;32md:\\ProgramData\\Anaconda3\\lib\\site-packages\\sklearn\\model_selection\\_validation.py\u001b[0m in \u001b[0;36m_score\u001b[1;34m(estimator, X_test, y_test, scorer, is_multimetric)\u001b[0m\n\u001b[0;32m    602\u001b[0m             \u001b[0mscore\u001b[0m \u001b[1;33m=\u001b[0m \u001b[0mscorer\u001b[0m\u001b[1;33m(\u001b[0m\u001b[0mestimator\u001b[0m\u001b[1;33m,\u001b[0m \u001b[0mX_test\u001b[0m\u001b[1;33m)\u001b[0m\u001b[1;33m\u001b[0m\u001b[1;33m\u001b[0m\u001b[0m\n\u001b[0;32m    603\u001b[0m         \u001b[1;32melse\u001b[0m\u001b[1;33m:\u001b[0m\u001b[1;33m\u001b[0m\u001b[1;33m\u001b[0m\u001b[0m\n\u001b[1;32m--> 604\u001b[1;33m             \u001b[0mscore\u001b[0m \u001b[1;33m=\u001b[0m \u001b[0mscorer\u001b[0m\u001b[1;33m(\u001b[0m\u001b[0mestimator\u001b[0m\u001b[1;33m,\u001b[0m \u001b[0mX_test\u001b[0m\u001b[1;33m,\u001b[0m \u001b[0my_test\u001b[0m\u001b[1;33m)\u001b[0m\u001b[1;33m\u001b[0m\u001b[1;33m\u001b[0m\u001b[0m\n\u001b[0m\u001b[0;32m    605\u001b[0m \u001b[1;33m\u001b[0m\u001b[0m\n\u001b[0;32m    606\u001b[0m         \u001b[1;32mif\u001b[0m \u001b[0mhasattr\u001b[0m\u001b[1;33m(\u001b[0m\u001b[0mscore\u001b[0m\u001b[1;33m,\u001b[0m \u001b[1;34m'item'\u001b[0m\u001b[1;33m)\u001b[0m\u001b[1;33m:\u001b[0m\u001b[1;33m\u001b[0m\u001b[1;33m\u001b[0m\u001b[0m\n",
      "\u001b[1;32md:\\ProgramData\\Anaconda3\\lib\\site-packages\\sklearn\\metrics\\scorer.py\u001b[0m in \u001b[0;36m__call__\u001b[1;34m(self, clf, X, y, sample_weight)\u001b[0m\n\u001b[0;32m    205\u001b[0m                                                  **self._kwargs)\n\u001b[0;32m    206\u001b[0m         \u001b[1;32melse\u001b[0m\u001b[1;33m:\u001b[0m\u001b[1;33m\u001b[0m\u001b[1;33m\u001b[0m\u001b[0m\n\u001b[1;32m--> 207\u001b[1;33m             \u001b[1;32mreturn\u001b[0m \u001b[0mself\u001b[0m\u001b[1;33m.\u001b[0m\u001b[0m_sign\u001b[0m \u001b[1;33m*\u001b[0m \u001b[0mself\u001b[0m\u001b[1;33m.\u001b[0m\u001b[0m_score_func\u001b[0m\u001b[1;33m(\u001b[0m\u001b[0my\u001b[0m\u001b[1;33m,\u001b[0m \u001b[0my_pred\u001b[0m\u001b[1;33m,\u001b[0m \u001b[1;33m**\u001b[0m\u001b[0mself\u001b[0m\u001b[1;33m.\u001b[0m\u001b[0m_kwargs\u001b[0m\u001b[1;33m)\u001b[0m\u001b[1;33m\u001b[0m\u001b[1;33m\u001b[0m\u001b[0m\n\u001b[0m\u001b[0;32m    208\u001b[0m \u001b[1;33m\u001b[0m\u001b[0m\n\u001b[0;32m    209\u001b[0m     \u001b[1;32mdef\u001b[0m \u001b[0m_factory_args\u001b[0m\u001b[1;33m(\u001b[0m\u001b[0mself\u001b[0m\u001b[1;33m)\u001b[0m\u001b[1;33m:\u001b[0m\u001b[1;33m\u001b[0m\u001b[1;33m\u001b[0m\u001b[0m\n",
      "\u001b[1;32md:\\ProgramData\\Anaconda3\\lib\\site-packages\\sklearn\\metrics\\ranking.py\u001b[0m in \u001b[0;36mroc_auc_score\u001b[1;34m(y_true, y_score, average, sample_weight, max_fpr)\u001b[0m\n\u001b[0;32m    353\u001b[0m     return _average_binary_score(\n\u001b[0;32m    354\u001b[0m         \u001b[0m_binary_roc_auc_score\u001b[0m\u001b[1;33m,\u001b[0m \u001b[0my_true\u001b[0m\u001b[1;33m,\u001b[0m \u001b[0my_score\u001b[0m\u001b[1;33m,\u001b[0m \u001b[0maverage\u001b[0m\u001b[1;33m,\u001b[0m\u001b[1;33m\u001b[0m\u001b[1;33m\u001b[0m\u001b[0m\n\u001b[1;32m--> 355\u001b[1;33m         sample_weight=sample_weight)\n\u001b[0m\u001b[0;32m    356\u001b[0m \u001b[1;33m\u001b[0m\u001b[0m\n\u001b[0;32m    357\u001b[0m \u001b[1;33m\u001b[0m\u001b[0m\n",
      "\u001b[1;32md:\\ProgramData\\Anaconda3\\lib\\site-packages\\sklearn\\metrics\\base.py\u001b[0m in \u001b[0;36m_average_binary_score\u001b[1;34m(binary_metric, y_true, y_score, average, sample_weight)\u001b[0m\n\u001b[0;32m     74\u001b[0m \u001b[1;33m\u001b[0m\u001b[0m\n\u001b[0;32m     75\u001b[0m     \u001b[1;32mif\u001b[0m \u001b[0my_type\u001b[0m \u001b[1;33m==\u001b[0m \u001b[1;34m\"binary\"\u001b[0m\u001b[1;33m:\u001b[0m\u001b[1;33m\u001b[0m\u001b[1;33m\u001b[0m\u001b[0m\n\u001b[1;32m---> 76\u001b[1;33m         \u001b[1;32mreturn\u001b[0m \u001b[0mbinary_metric\u001b[0m\u001b[1;33m(\u001b[0m\u001b[0my_true\u001b[0m\u001b[1;33m,\u001b[0m \u001b[0my_score\u001b[0m\u001b[1;33m,\u001b[0m \u001b[0msample_weight\u001b[0m\u001b[1;33m=\u001b[0m\u001b[0msample_weight\u001b[0m\u001b[1;33m)\u001b[0m\u001b[1;33m\u001b[0m\u001b[1;33m\u001b[0m\u001b[0m\n\u001b[0m\u001b[0;32m     77\u001b[0m \u001b[1;33m\u001b[0m\u001b[0m\n\u001b[0;32m     78\u001b[0m     \u001b[0mcheck_consistent_length\u001b[0m\u001b[1;33m(\u001b[0m\u001b[0my_true\u001b[0m\u001b[1;33m,\u001b[0m \u001b[0my_score\u001b[0m\u001b[1;33m,\u001b[0m \u001b[0msample_weight\u001b[0m\u001b[1;33m)\u001b[0m\u001b[1;33m\u001b[0m\u001b[1;33m\u001b[0m\u001b[0m\n",
      "\u001b[1;32md:\\ProgramData\\Anaconda3\\lib\\site-packages\\sklearn\\metrics\\ranking.py\u001b[0m in \u001b[0;36m_binary_roc_auc_score\u001b[1;34m(y_true, y_score, sample_weight)\u001b[0m\n\u001b[0;32m    325\u001b[0m \u001b[1;33m\u001b[0m\u001b[0m\n\u001b[0;32m    326\u001b[0m         fpr, tpr, _ = roc_curve(y_true, y_score,\n\u001b[1;32m--> 327\u001b[1;33m                                 sample_weight=sample_weight)\n\u001b[0m\u001b[0;32m    328\u001b[0m         \u001b[1;32mif\u001b[0m \u001b[0mmax_fpr\u001b[0m \u001b[1;32mis\u001b[0m \u001b[1;32mNone\u001b[0m \u001b[1;32mor\u001b[0m \u001b[0mmax_fpr\u001b[0m \u001b[1;33m==\u001b[0m \u001b[1;36m1\u001b[0m\u001b[1;33m:\u001b[0m\u001b[1;33m\u001b[0m\u001b[1;33m\u001b[0m\u001b[0m\n\u001b[0;32m    329\u001b[0m             \u001b[1;32mreturn\u001b[0m \u001b[0mauc\u001b[0m\u001b[1;33m(\u001b[0m\u001b[0mfpr\u001b[0m\u001b[1;33m,\u001b[0m \u001b[0mtpr\u001b[0m\u001b[1;33m)\u001b[0m\u001b[1;33m\u001b[0m\u001b[1;33m\u001b[0m\u001b[0m\n",
      "\u001b[1;32md:\\ProgramData\\Anaconda3\\lib\\site-packages\\sklearn\\metrics\\ranking.py\u001b[0m in \u001b[0;36mroc_curve\u001b[1;34m(y_true, y_score, pos_label, sample_weight, drop_intermediate)\u001b[0m\n\u001b[0;32m    620\u001b[0m     \"\"\"\n\u001b[0;32m    621\u001b[0m     fps, tps, thresholds = _binary_clf_curve(\n\u001b[1;32m--> 622\u001b[1;33m         y_true, y_score, pos_label=pos_label, sample_weight=sample_weight)\n\u001b[0m\u001b[0;32m    623\u001b[0m \u001b[1;33m\u001b[0m\u001b[0m\n\u001b[0;32m    624\u001b[0m     \u001b[1;31m# Attempt to drop thresholds corresponding to points in between and\u001b[0m\u001b[1;33m\u001b[0m\u001b[1;33m\u001b[0m\u001b[1;33m\u001b[0m\u001b[0m\n",
      "\u001b[1;32md:\\ProgramData\\Anaconda3\\lib\\site-packages\\sklearn\\metrics\\ranking.py\u001b[0m in \u001b[0;36m_binary_clf_curve\u001b[1;34m(y_true, y_score, pos_label, sample_weight)\u001b[0m\n\u001b[0;32m    421\u001b[0m \u001b[1;33m\u001b[0m\u001b[0m\n\u001b[0;32m    422\u001b[0m     \u001b[1;31m# sort scores and corresponding truth values\u001b[0m\u001b[1;33m\u001b[0m\u001b[1;33m\u001b[0m\u001b[1;33m\u001b[0m\u001b[0m\n\u001b[1;32m--> 423\u001b[1;33m     \u001b[0mdesc_score_indices\u001b[0m \u001b[1;33m=\u001b[0m \u001b[0mnp\u001b[0m\u001b[1;33m.\u001b[0m\u001b[0margsort\u001b[0m\u001b[1;33m(\u001b[0m\u001b[0my_score\u001b[0m\u001b[1;33m,\u001b[0m \u001b[0mkind\u001b[0m\u001b[1;33m=\u001b[0m\u001b[1;34m\"mergesort\"\u001b[0m\u001b[1;33m)\u001b[0m\u001b[1;33m[\u001b[0m\u001b[1;33m:\u001b[0m\u001b[1;33m:\u001b[0m\u001b[1;33m-\u001b[0m\u001b[1;36m1\u001b[0m\u001b[1;33m]\u001b[0m\u001b[1;33m\u001b[0m\u001b[1;33m\u001b[0m\u001b[0m\n\u001b[0m\u001b[0;32m    424\u001b[0m     \u001b[0my_score\u001b[0m \u001b[1;33m=\u001b[0m \u001b[0my_score\u001b[0m\u001b[1;33m[\u001b[0m\u001b[0mdesc_score_indices\u001b[0m\u001b[1;33m]\u001b[0m\u001b[1;33m\u001b[0m\u001b[1;33m\u001b[0m\u001b[0m\n\u001b[0;32m    425\u001b[0m     \u001b[0my_true\u001b[0m \u001b[1;33m=\u001b[0m \u001b[0my_true\u001b[0m\u001b[1;33m[\u001b[0m\u001b[0mdesc_score_indices\u001b[0m\u001b[1;33m]\u001b[0m\u001b[1;33m\u001b[0m\u001b[1;33m\u001b[0m\u001b[0m\n",
      "\u001b[1;32md:\\ProgramData\\Anaconda3\\lib\\site-packages\\numpy\\core\\fromnumeric.py\u001b[0m in \u001b[0;36margsort\u001b[1;34m(a, axis, kind, order)\u001b[0m\n\u001b[0;32m   1032\u001b[0m \u001b[1;33m\u001b[0m\u001b[0m\n\u001b[0;32m   1033\u001b[0m     \"\"\"\n\u001b[1;32m-> 1034\u001b[1;33m     \u001b[1;32mreturn\u001b[0m \u001b[0m_wrapfunc\u001b[0m\u001b[1;33m(\u001b[0m\u001b[0ma\u001b[0m\u001b[1;33m,\u001b[0m \u001b[1;34m'argsort'\u001b[0m\u001b[1;33m,\u001b[0m \u001b[0maxis\u001b[0m\u001b[1;33m=\u001b[0m\u001b[0maxis\u001b[0m\u001b[1;33m,\u001b[0m \u001b[0mkind\u001b[0m\u001b[1;33m=\u001b[0m\u001b[0mkind\u001b[0m\u001b[1;33m,\u001b[0m \u001b[0morder\u001b[0m\u001b[1;33m=\u001b[0m\u001b[0morder\u001b[0m\u001b[1;33m)\u001b[0m\u001b[1;33m\u001b[0m\u001b[1;33m\u001b[0m\u001b[0m\n\u001b[0m\u001b[0;32m   1035\u001b[0m \u001b[1;33m\u001b[0m\u001b[0m\n\u001b[0;32m   1036\u001b[0m \u001b[1;33m\u001b[0m\u001b[0m\n",
      "\u001b[1;32md:\\ProgramData\\Anaconda3\\lib\\site-packages\\numpy\\core\\fromnumeric.py\u001b[0m in \u001b[0;36m_wrapfunc\u001b[1;34m(obj, method, *args, **kwds)\u001b[0m\n\u001b[0;32m     54\u001b[0m \u001b[1;32mdef\u001b[0m \u001b[0m_wrapfunc\u001b[0m\u001b[1;33m(\u001b[0m\u001b[0mobj\u001b[0m\u001b[1;33m,\u001b[0m \u001b[0mmethod\u001b[0m\u001b[1;33m,\u001b[0m \u001b[1;33m*\u001b[0m\u001b[0margs\u001b[0m\u001b[1;33m,\u001b[0m \u001b[1;33m**\u001b[0m\u001b[0mkwds\u001b[0m\u001b[1;33m)\u001b[0m\u001b[1;33m:\u001b[0m\u001b[1;33m\u001b[0m\u001b[1;33m\u001b[0m\u001b[0m\n\u001b[0;32m     55\u001b[0m     \u001b[1;32mtry\u001b[0m\u001b[1;33m:\u001b[0m\u001b[1;33m\u001b[0m\u001b[1;33m\u001b[0m\u001b[0m\n\u001b[1;32m---> 56\u001b[1;33m         \u001b[1;32mreturn\u001b[0m \u001b[0mgetattr\u001b[0m\u001b[1;33m(\u001b[0m\u001b[0mobj\u001b[0m\u001b[1;33m,\u001b[0m \u001b[0mmethod\u001b[0m\u001b[1;33m)\u001b[0m\u001b[1;33m(\u001b[0m\u001b[1;33m*\u001b[0m\u001b[0margs\u001b[0m\u001b[1;33m,\u001b[0m \u001b[1;33m**\u001b[0m\u001b[0mkwds\u001b[0m\u001b[1;33m)\u001b[0m\u001b[1;33m\u001b[0m\u001b[1;33m\u001b[0m\u001b[0m\n\u001b[0m\u001b[0;32m     57\u001b[0m \u001b[1;33m\u001b[0m\u001b[0m\n\u001b[0;32m     58\u001b[0m     \u001b[1;31m# An AttributeError occurs if the object does not have\u001b[0m\u001b[1;33m\u001b[0m\u001b[1;33m\u001b[0m\u001b[1;33m\u001b[0m\u001b[0m\n",
      "\u001b[1;31mKeyboardInterrupt\u001b[0m: "
     ]
    }
   ],
   "source": [
    "params = {\n",
    "    'learning_rate': 0.1,\n",
    "    'boosting_type': 'gbdt',\n",
    "    'objective': 'binary',\n",
    "    'metric': 'auc',\n",
    "    'num_leaves': 10\n",
    "}\n",
    "train_feat = train_f3.copy()\n",
    "#grid_plot(train_feat,classifier,3,[10,20,40,80,200,400,800],'n_estimators',param=params)\n",
    "grid_plot(train_feat,\n",
    "          'LGB',\n",
    "          3, [0.1, 0.2, 0.5, 0.7, 0.8],\n",
    "          'colsample_bytree',\n",
    "          param=params)"
   ]
  },
  {
   "cell_type": "code",
   "execution_count": null,
   "metadata": {},
   "outputs": [],
   "source": []
  }
 ],
 "metadata": {
  "kernelspec": {
   "display_name": "Python 3",
   "language": "python",
   "name": "python3"
  },
  "language_info": {
   "codemirror_mode": {
    "name": "ipython",
    "version": 3
   },
   "file_extension": ".py",
   "mimetype": "text/x-python",
   "name": "python",
   "nbconvert_exporter": "python",
   "pygments_lexer": "ipython3",
   "version": "3.7.6"
  },
  "latex_envs": {
   "LaTeX_envs_menu_present": true,
   "autoclose": false,
   "autocomplete": true,
   "bibliofile": "biblio.bib",
   "cite_by": "apalike",
   "current_citInitial": 1,
   "eqLabelWithNumbers": true,
   "eqNumInitial": 1,
   "hotkeys": {
    "equation": "Ctrl-E",
    "itemize": "Ctrl-I"
   },
   "labels_anchors": false,
   "latex_user_defs": false,
   "report_style_numbering": false,
   "user_envs_cfg": false
  },
  "toc": {
   "base_numbering": 1,
   "nav_menu": {},
   "number_sections": true,
   "sideBar": true,
   "skip_h1_title": false,
   "title_cell": "模型验证及优化",
   "title_sidebar": "模型验证及优化",
   "toc_cell": true,
   "toc_position": {},
   "toc_section_display": true,
   "toc_window_display": true
  }
 },
 "nbformat": 4,
 "nbformat_minor": 2
}
